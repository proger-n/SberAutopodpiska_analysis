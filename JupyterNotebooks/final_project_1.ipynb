{
 "cells": [
  {
   "cell_type": "markdown",
   "metadata": {
    "id": "KdPm6UfGZNZR"
   },
   "source": [
    "# 0.Targets\n",
    "#### - Проведите проверку следующих гипотез:\n",
    "1. Органический трафик не отличается от платного с точки зрения CR (Conversion Rate) в целевые события.\n",
    "2. Трафик с мобильных устройств не отличается от трафика с десктопных устройств с точки зрения CR (Conversion Rate) в целевые события.\n",
    "3. Трафик из городов присутствия (Москва и область, Санкт-Петербург) не отличается от трафика из иных регионов с точки зрения CR (Conversion Rate) в целевые события\n",
    "\n",
    "\n",
    "#### - Ответьте на вопросы продуктовой команды:\n",
    "1. Из каких источников (кампаний, устройств, локаций) к нам идёт самый целевой трафик (и с точки зрения объёма трафика, и с точки зрения CR)?\n",
    "2. Какие авто пользуются наибольшим спросом? У каких авто самый лучший показатель CR (Conversion Rate) в целевые события?\n",
    "3. Стоит ли нам увеличивать своё присутствие в соцсетях и давать там больше рекламы?"
   ]
  },
  {
   "cell_type": "markdown",
   "metadata": {
    "id": "ziNRzd_KRsuN"
   },
   "source": [
    "# 1.Data preparation"
   ]
  },
  {
   "cell_type": "code",
   "execution_count": 1,
   "metadata": {
    "colab": {
     "base_uri": "https://localhost:8080/"
    },
    "id": "gqAZ-z5ML_AL",
    "outputId": "5c545b85-e2e8-44a2-b516-170e80b1e057"
   },
   "outputs": [
    {
     "name": "stdout",
     "output_type": "stream",
     "text": [
      "Collecting pandas\n",
      "  Obtaining dependency information for pandas from https://files.pythonhosted.org/packages/b3/92/a5e5133421b49e901a12e02a6a7ef3a0130e10d13db8cb657fdd0cba3b90/pandas-2.0.3-cp311-cp311-macosx_10_9_x86_64.whl.metadata\n",
      "  Downloading pandas-2.0.3-cp311-cp311-macosx_10_9_x86_64.whl.metadata (18 kB)\n",
      "Collecting python-dateutil>=2.8.2 (from pandas)\n",
      "  Using cached python_dateutil-2.8.2-py2.py3-none-any.whl (247 kB)\n",
      "Collecting pytz>=2020.1 (from pandas)\n",
      "  Using cached pytz-2023.3-py2.py3-none-any.whl (502 kB)\n",
      "Collecting tzdata>=2022.1 (from pandas)\n",
      "  Using cached tzdata-2023.3-py2.py3-none-any.whl (341 kB)\n",
      "Collecting numpy>=1.21.0 (from pandas)\n",
      "  Obtaining dependency information for numpy>=1.21.0 from https://files.pythonhosted.org/packages/c9/57/3cb8131a0e6d559501e088d3e685f4122e9ff9104c4b63e4dfd3a577b491/numpy-1.25.2-cp311-cp311-macosx_10_9_x86_64.whl.metadata\n",
      "  Downloading numpy-1.25.2-cp311-cp311-macosx_10_9_x86_64.whl.metadata (5.6 kB)\n",
      "Requirement already satisfied: six>=1.5 in /opt/goinfre/mitcheld/homebrew/lib/python3.11/site-packages (from python-dateutil>=2.8.2->pandas) (1.16.0)\n",
      "Using cached pandas-2.0.3-cp311-cp311-macosx_10_9_x86_64.whl (11.6 MB)\n",
      "Using cached numpy-1.25.2-cp311-cp311-macosx_10_9_x86_64.whl (20.8 MB)\n",
      "Installing collected packages: pytz, tzdata, python-dateutil, numpy, pandas\n",
      "Successfully installed numpy-1.25.2 pandas-2.0.3 python-dateutil-2.8.2 pytz-2023.3 tzdata-2023.3\n"
     ]
    }
   ],
   "source": [
    "# !pip3 install pandas  #uncomment if pandas not exist"
   ]
  },
  {
   "cell_type": "code",
   "execution_count": 2,
   "metadata": {
    "id": "tIzQKRx68xJt"
   },
   "outputs": [],
   "source": [
    "import pandas as pd"
   ]
  },
  {
   "cell_type": "code",
   "execution_count": 3,
   "metadata": {
    "colab": {
     "base_uri": "https://localhost:8080/",
     "height": 357
    },
    "id": "YvwFiNEd-n1s",
    "outputId": "f6c0dfc7-7a50-492f-efaf-74f5a1cd8bbd"
   },
   "outputs": [
    {
     "data": {
      "text/html": [
       "<div>\n",
       "<style scoped>\n",
       "    .dataframe tbody tr th:only-of-type {\n",
       "        vertical-align: middle;\n",
       "    }\n",
       "\n",
       "    .dataframe tbody tr th {\n",
       "        vertical-align: top;\n",
       "    }\n",
       "\n",
       "    .dataframe thead th {\n",
       "        text-align: right;\n",
       "    }\n",
       "</style>\n",
       "<table border=\"1\" class=\"dataframe\">\n",
       "  <thead>\n",
       "    <tr style=\"text-align: right;\">\n",
       "      <th></th>\n",
       "      <th>session_id</th>\n",
       "      <th>hit_date</th>\n",
       "      <th>hit_time</th>\n",
       "      <th>hit_number</th>\n",
       "      <th>hit_type</th>\n",
       "      <th>hit_referer</th>\n",
       "      <th>hit_page_path</th>\n",
       "      <th>event_category</th>\n",
       "      <th>event_action</th>\n",
       "      <th>event_label</th>\n",
       "      <th>event_value</th>\n",
       "    </tr>\n",
       "  </thead>\n",
       "  <tbody>\n",
       "    <tr>\n",
       "      <th>0</th>\n",
       "      <td>5639623078712724064.1640254056.1640254056</td>\n",
       "      <td>2021-12-23</td>\n",
       "      <td>597864.0</td>\n",
       "      <td>30</td>\n",
       "      <td>event</td>\n",
       "      <td>NaN</td>\n",
       "      <td>sberauto.com/cars?utm_source_initial=google&amp;ut...</td>\n",
       "      <td>quiz</td>\n",
       "      <td>quiz_show</td>\n",
       "      <td>NaN</td>\n",
       "      <td>NaN</td>\n",
       "    </tr>\n",
       "    <tr>\n",
       "      <th>1</th>\n",
       "      <td>7750352294969115059.1640271109.1640271109</td>\n",
       "      <td>2021-12-23</td>\n",
       "      <td>597331.0</td>\n",
       "      <td>41</td>\n",
       "      <td>event</td>\n",
       "      <td>NaN</td>\n",
       "      <td>sberauto.com/cars/fiat?city=1&amp;city=18&amp;rental_c...</td>\n",
       "      <td>quiz</td>\n",
       "      <td>quiz_show</td>\n",
       "      <td>NaN</td>\n",
       "      <td>NaN</td>\n",
       "    </tr>\n",
       "    <tr>\n",
       "      <th>2</th>\n",
       "      <td>885342191847998240.1640235807.1640235807</td>\n",
       "      <td>2021-12-23</td>\n",
       "      <td>796252.0</td>\n",
       "      <td>49</td>\n",
       "      <td>event</td>\n",
       "      <td>NaN</td>\n",
       "      <td>sberauto.com/cars/all/volkswagen/polo/e994838f...</td>\n",
       "      <td>quiz</td>\n",
       "      <td>quiz_show</td>\n",
       "      <td>NaN</td>\n",
       "      <td>NaN</td>\n",
       "    </tr>\n",
       "    <tr>\n",
       "      <th>3</th>\n",
       "      <td>142526202120934167.1640211014.1640211014</td>\n",
       "      <td>2021-12-23</td>\n",
       "      <td>934292.0</td>\n",
       "      <td>46</td>\n",
       "      <td>event</td>\n",
       "      <td>NaN</td>\n",
       "      <td>sberauto.com/cars?utm_source_initial=yandex&amp;ut...</td>\n",
       "      <td>quiz</td>\n",
       "      <td>quiz_show</td>\n",
       "      <td>NaN</td>\n",
       "      <td>NaN</td>\n",
       "    </tr>\n",
       "    <tr>\n",
       "      <th>4</th>\n",
       "      <td>3450086108837475701.1640265078.1640265078</td>\n",
       "      <td>2021-12-23</td>\n",
       "      <td>768741.0</td>\n",
       "      <td>79</td>\n",
       "      <td>event</td>\n",
       "      <td>NaN</td>\n",
       "      <td>sberauto.com/cars/all/mercedes-benz/cla-klasse...</td>\n",
       "      <td>quiz</td>\n",
       "      <td>quiz_show</td>\n",
       "      <td>NaN</td>\n",
       "      <td>NaN</td>\n",
       "    </tr>\n",
       "  </tbody>\n",
       "</table>\n",
       "</div>"
      ],
      "text/plain": [
       "                                  session_id    hit_date  hit_time  \\\n",
       "0  5639623078712724064.1640254056.1640254056  2021-12-23  597864.0   \n",
       "1  7750352294969115059.1640271109.1640271109  2021-12-23  597331.0   \n",
       "2   885342191847998240.1640235807.1640235807  2021-12-23  796252.0   \n",
       "3   142526202120934167.1640211014.1640211014  2021-12-23  934292.0   \n",
       "4  3450086108837475701.1640265078.1640265078  2021-12-23  768741.0   \n",
       "\n",
       "   hit_number hit_type hit_referer  \\\n",
       "0          30    event         NaN   \n",
       "1          41    event         NaN   \n",
       "2          49    event         NaN   \n",
       "3          46    event         NaN   \n",
       "4          79    event         NaN   \n",
       "\n",
       "                                       hit_page_path event_category  \\\n",
       "0  sberauto.com/cars?utm_source_initial=google&ut...           quiz   \n",
       "1  sberauto.com/cars/fiat?city=1&city=18&rental_c...           quiz   \n",
       "2  sberauto.com/cars/all/volkswagen/polo/e994838f...           quiz   \n",
       "3  sberauto.com/cars?utm_source_initial=yandex&ut...           quiz   \n",
       "4  sberauto.com/cars/all/mercedes-benz/cla-klasse...           quiz   \n",
       "\n",
       "  event_action event_label  event_value  \n",
       "0    quiz_show         NaN          NaN  \n",
       "1    quiz_show         NaN          NaN  \n",
       "2    quiz_show         NaN          NaN  \n",
       "3    quiz_show         NaN          NaN  \n",
       "4    quiz_show         NaN          NaN  "
      ]
     },
     "execution_count": 3,
     "metadata": {},
     "output_type": "execute_result"
    }
   ],
   "source": [
    "df_hits = pd.read_csv('https://drive.google.com/uc?export=download&confirm=no_antivirus&id=1aWTUBZoxDctNs-ldqEw-9dw0X2zR9upd')\n",
    "df_hits.head()"
   ]
  },
  {
   "cell_type": "code",
   "execution_count": 4,
   "metadata": {
    "colab": {
     "base_uri": "https://localhost:8080/",
     "height": 306
    },
    "id": "Z8AwJQJi-20l",
    "outputId": "e272f443-4cba-4ebe-b7bb-6afb07e3b80e"
   },
   "outputs": [
    {
     "name": "stderr",
     "output_type": "stream",
     "text": [
      "/var/folders/zz/zyxvpxvq6csfxvn_n003whnr00z45f/T/ipykernel_38303/3742873315.py:1: DtypeWarning: Columns (1) have mixed types. Specify dtype option on import or set low_memory=False.\n",
      "  df_sessions = pd.read_csv('https://drive.google.com/uc?export=download&confirm=no_antivirus&id=1GaQnAgzshXMl0WwKHI11e2dBjMjoTlfU')\n"
     ]
    },
    {
     "data": {
      "text/html": [
       "<div>\n",
       "<style scoped>\n",
       "    .dataframe tbody tr th:only-of-type {\n",
       "        vertical-align: middle;\n",
       "    }\n",
       "\n",
       "    .dataframe tbody tr th {\n",
       "        vertical-align: top;\n",
       "    }\n",
       "\n",
       "    .dataframe thead th {\n",
       "        text-align: right;\n",
       "    }\n",
       "</style>\n",
       "<table border=\"1\" class=\"dataframe\">\n",
       "  <thead>\n",
       "    <tr style=\"text-align: right;\">\n",
       "      <th></th>\n",
       "      <th>session_id</th>\n",
       "      <th>client_id</th>\n",
       "      <th>visit_date</th>\n",
       "      <th>visit_time</th>\n",
       "      <th>visit_number</th>\n",
       "      <th>utm_source</th>\n",
       "      <th>utm_medium</th>\n",
       "      <th>utm_campaign</th>\n",
       "      <th>utm_adcontent</th>\n",
       "      <th>utm_keyword</th>\n",
       "      <th>device_category</th>\n",
       "      <th>device_os</th>\n",
       "      <th>device_brand</th>\n",
       "      <th>device_model</th>\n",
       "      <th>device_screen_resolution</th>\n",
       "      <th>device_browser</th>\n",
       "      <th>geo_country</th>\n",
       "      <th>geo_city</th>\n",
       "    </tr>\n",
       "  </thead>\n",
       "  <tbody>\n",
       "    <tr>\n",
       "      <th>0</th>\n",
       "      <td>9055434745589932991.1637753792.1637753792</td>\n",
       "      <td>2108382700.163776</td>\n",
       "      <td>2021-11-24</td>\n",
       "      <td>14:36:32</td>\n",
       "      <td>1</td>\n",
       "      <td>ZpYIoDJMcFzVoPFsHGJL</td>\n",
       "      <td>banner</td>\n",
       "      <td>LEoPHuyFvzoNfnzGgfcd</td>\n",
       "      <td>vCIpmpaGBnIQhyYNkXqp</td>\n",
       "      <td>puhZPIYqKXeFPaUviSjo</td>\n",
       "      <td>mobile</td>\n",
       "      <td>Android</td>\n",
       "      <td>Huawei</td>\n",
       "      <td>NaN</td>\n",
       "      <td>360x720</td>\n",
       "      <td>Chrome</td>\n",
       "      <td>Russia</td>\n",
       "      <td>Zlatoust</td>\n",
       "    </tr>\n",
       "    <tr>\n",
       "      <th>1</th>\n",
       "      <td>905544597018549464.1636867290.1636867290</td>\n",
       "      <td>210838531.163687</td>\n",
       "      <td>2021-11-14</td>\n",
       "      <td>08:21:30</td>\n",
       "      <td>1</td>\n",
       "      <td>MvfHsxITijuriZxsqZqt</td>\n",
       "      <td>cpm</td>\n",
       "      <td>FTjNLDyTrXaWYgZymFkV</td>\n",
       "      <td>xhoenQgDQsgfEPYNPwKO</td>\n",
       "      <td>IGUCNvHlhfHpROGclCit</td>\n",
       "      <td>mobile</td>\n",
       "      <td>Android</td>\n",
       "      <td>Samsung</td>\n",
       "      <td>NaN</td>\n",
       "      <td>385x854</td>\n",
       "      <td>Samsung Internet</td>\n",
       "      <td>Russia</td>\n",
       "      <td>Moscow</td>\n",
       "    </tr>\n",
       "    <tr>\n",
       "      <th>2</th>\n",
       "      <td>9055446045651783499.1640648526.1640648526</td>\n",
       "      <td>2108385331.164065</td>\n",
       "      <td>2021-12-28</td>\n",
       "      <td>02:42:06</td>\n",
       "      <td>1</td>\n",
       "      <td>ZpYIoDJMcFzVoPFsHGJL</td>\n",
       "      <td>banner</td>\n",
       "      <td>LEoPHuyFvzoNfnzGgfcd</td>\n",
       "      <td>vCIpmpaGBnIQhyYNkXqp</td>\n",
       "      <td>puhZPIYqKXeFPaUviSjo</td>\n",
       "      <td>mobile</td>\n",
       "      <td>Android</td>\n",
       "      <td>Huawei</td>\n",
       "      <td>NaN</td>\n",
       "      <td>360x720</td>\n",
       "      <td>Chrome</td>\n",
       "      <td>Russia</td>\n",
       "      <td>Krasnoyarsk</td>\n",
       "    </tr>\n",
       "    <tr>\n",
       "      <th>3</th>\n",
       "      <td>9055447046360770272.1622255328.1622255328</td>\n",
       "      <td>2108385564.162225</td>\n",
       "      <td>2021-05-29</td>\n",
       "      <td>05:00:00</td>\n",
       "      <td>1</td>\n",
       "      <td>kjsLglQLzykiRbcDiGcD</td>\n",
       "      <td>cpc</td>\n",
       "      <td>NaN</td>\n",
       "      <td>NOBKLgtuvqYWkXQHeYWM</td>\n",
       "      <td>NaN</td>\n",
       "      <td>mobile</td>\n",
       "      <td>NaN</td>\n",
       "      <td>Xiaomi</td>\n",
       "      <td>NaN</td>\n",
       "      <td>393x786</td>\n",
       "      <td>Chrome</td>\n",
       "      <td>Russia</td>\n",
       "      <td>Moscow</td>\n",
       "    </tr>\n",
       "    <tr>\n",
       "      <th>4</th>\n",
       "      <td>9055447046360770272.1622255345.1622255345</td>\n",
       "      <td>2108385564.162225</td>\n",
       "      <td>2021-05-29</td>\n",
       "      <td>05:00:00</td>\n",
       "      <td>2</td>\n",
       "      <td>kjsLglQLzykiRbcDiGcD</td>\n",
       "      <td>cpc</td>\n",
       "      <td>NaN</td>\n",
       "      <td>NaN</td>\n",
       "      <td>NaN</td>\n",
       "      <td>mobile</td>\n",
       "      <td>NaN</td>\n",
       "      <td>Xiaomi</td>\n",
       "      <td>NaN</td>\n",
       "      <td>393x786</td>\n",
       "      <td>Chrome</td>\n",
       "      <td>Russia</td>\n",
       "      <td>Moscow</td>\n",
       "    </tr>\n",
       "  </tbody>\n",
       "</table>\n",
       "</div>"
      ],
      "text/plain": [
       "                                  session_id          client_id  visit_date  \\\n",
       "0  9055434745589932991.1637753792.1637753792  2108382700.163776  2021-11-24   \n",
       "1   905544597018549464.1636867290.1636867290   210838531.163687  2021-11-14   \n",
       "2  9055446045651783499.1640648526.1640648526  2108385331.164065  2021-12-28   \n",
       "3  9055447046360770272.1622255328.1622255328  2108385564.162225  2021-05-29   \n",
       "4  9055447046360770272.1622255345.1622255345  2108385564.162225  2021-05-29   \n",
       "\n",
       "  visit_time  visit_number            utm_source utm_medium  \\\n",
       "0   14:36:32             1  ZpYIoDJMcFzVoPFsHGJL     banner   \n",
       "1   08:21:30             1  MvfHsxITijuriZxsqZqt        cpm   \n",
       "2   02:42:06             1  ZpYIoDJMcFzVoPFsHGJL     banner   \n",
       "3   05:00:00             1  kjsLglQLzykiRbcDiGcD        cpc   \n",
       "4   05:00:00             2  kjsLglQLzykiRbcDiGcD        cpc   \n",
       "\n",
       "           utm_campaign         utm_adcontent           utm_keyword  \\\n",
       "0  LEoPHuyFvzoNfnzGgfcd  vCIpmpaGBnIQhyYNkXqp  puhZPIYqKXeFPaUviSjo   \n",
       "1  FTjNLDyTrXaWYgZymFkV  xhoenQgDQsgfEPYNPwKO  IGUCNvHlhfHpROGclCit   \n",
       "2  LEoPHuyFvzoNfnzGgfcd  vCIpmpaGBnIQhyYNkXqp  puhZPIYqKXeFPaUviSjo   \n",
       "3                   NaN  NOBKLgtuvqYWkXQHeYWM                   NaN   \n",
       "4                   NaN                   NaN                   NaN   \n",
       "\n",
       "  device_category device_os device_brand device_model  \\\n",
       "0          mobile   Android       Huawei          NaN   \n",
       "1          mobile   Android      Samsung          NaN   \n",
       "2          mobile   Android       Huawei          NaN   \n",
       "3          mobile       NaN       Xiaomi          NaN   \n",
       "4          mobile       NaN       Xiaomi          NaN   \n",
       "\n",
       "  device_screen_resolution    device_browser geo_country     geo_city  \n",
       "0                  360x720            Chrome      Russia     Zlatoust  \n",
       "1                  385x854  Samsung Internet      Russia       Moscow  \n",
       "2                  360x720            Chrome      Russia  Krasnoyarsk  \n",
       "3                  393x786            Chrome      Russia       Moscow  \n",
       "4                  393x786            Chrome      Russia       Moscow  "
      ]
     },
     "execution_count": 4,
     "metadata": {},
     "output_type": "execute_result"
    }
   ],
   "source": [
    "df_sessions = pd.read_csv('https://drive.google.com/uc?export=download&confirm=no_antivirus&id=1GaQnAgzshXMl0WwKHI11e2dBjMjoTlfU')\n",
    "df_sessions.head()"
   ]
  },
  {
   "cell_type": "code",
   "execution_count": 5,
   "metadata": {
    "colab": {
     "base_uri": "https://localhost:8080/"
    },
    "id": "qtZmARS4QX8N",
    "outputId": "f8e37cd1-dd59-4bca-e7ef-011a7be4928b"
   },
   "outputs": [
    {
     "data": {
      "text/plain": [
       "(1860042, 18)"
      ]
     },
     "execution_count": 5,
     "metadata": {},
     "output_type": "execute_result"
    }
   ],
   "source": [
    "df_sessions.shape"
   ]
  },
  {
   "cell_type": "code",
   "execution_count": 6,
   "metadata": {
    "colab": {
     "base_uri": "https://localhost:8080/"
    },
    "id": "KBVSqX5-RazN",
    "outputId": "abafe86c-f823-4d0b-9b1c-f4557a0ababa"
   },
   "outputs": [
    {
     "data": {
      "text/plain": [
       "(15726470, 11)"
      ]
     },
     "execution_count": 6,
     "metadata": {},
     "output_type": "execute_result"
    }
   ],
   "source": [
    "df_hits.shape"
   ]
  },
  {
   "cell_type": "code",
   "execution_count": 7,
   "metadata": {
    "id": "qDz53AKbL_AN"
   },
   "outputs": [
    {
     "data": {
      "text/html": [
       "<div>\n",
       "<style scoped>\n",
       "    .dataframe tbody tr th:only-of-type {\n",
       "        vertical-align: middle;\n",
       "    }\n",
       "\n",
       "    .dataframe tbody tr th {\n",
       "        vertical-align: top;\n",
       "    }\n",
       "\n",
       "    .dataframe thead th {\n",
       "        text-align: right;\n",
       "    }\n",
       "</style>\n",
       "<table border=\"1\" class=\"dataframe\">\n",
       "  <thead>\n",
       "    <tr style=\"text-align: right;\">\n",
       "      <th></th>\n",
       "      <th>session_id</th>\n",
       "      <th>client_id</th>\n",
       "      <th>visit_date</th>\n",
       "      <th>visit_time</th>\n",
       "      <th>visit_number</th>\n",
       "      <th>utm_source</th>\n",
       "      <th>utm_medium</th>\n",
       "      <th>utm_campaign</th>\n",
       "      <th>utm_adcontent</th>\n",
       "      <th>utm_keyword</th>\n",
       "      <th>...</th>\n",
       "      <th>hit_date</th>\n",
       "      <th>hit_time</th>\n",
       "      <th>hit_number</th>\n",
       "      <th>hit_type</th>\n",
       "      <th>hit_referer</th>\n",
       "      <th>hit_page_path</th>\n",
       "      <th>event_category</th>\n",
       "      <th>event_action</th>\n",
       "      <th>event_label</th>\n",
       "      <th>event_value</th>\n",
       "    </tr>\n",
       "  </thead>\n",
       "  <tbody>\n",
       "    <tr>\n",
       "      <th>0</th>\n",
       "      <td>9055434745589932991.1637753792.1637753792</td>\n",
       "      <td>2108382700.163776</td>\n",
       "      <td>2021-11-24</td>\n",
       "      <td>14:36:32</td>\n",
       "      <td>1</td>\n",
       "      <td>ZpYIoDJMcFzVoPFsHGJL</td>\n",
       "      <td>banner</td>\n",
       "      <td>LEoPHuyFvzoNfnzGgfcd</td>\n",
       "      <td>vCIpmpaGBnIQhyYNkXqp</td>\n",
       "      <td>puhZPIYqKXeFPaUviSjo</td>\n",
       "      <td>...</td>\n",
       "      <td>2021-11-24</td>\n",
       "      <td>3665.0</td>\n",
       "      <td>3</td>\n",
       "      <td>event</td>\n",
       "      <td>NaN</td>\n",
       "      <td>podpiska.sberauto.com/</td>\n",
       "      <td>sub_page_view</td>\n",
       "      <td>sub_landing</td>\n",
       "      <td>NaN</td>\n",
       "      <td>NaN</td>\n",
       "    </tr>\n",
       "    <tr>\n",
       "      <th>1</th>\n",
       "      <td>9055434745589932991.1637753792.1637753792</td>\n",
       "      <td>2108382700.163776</td>\n",
       "      <td>2021-11-24</td>\n",
       "      <td>14:36:32</td>\n",
       "      <td>1</td>\n",
       "      <td>ZpYIoDJMcFzVoPFsHGJL</td>\n",
       "      <td>banner</td>\n",
       "      <td>LEoPHuyFvzoNfnzGgfcd</td>\n",
       "      <td>vCIpmpaGBnIQhyYNkXqp</td>\n",
       "      <td>puhZPIYqKXeFPaUviSjo</td>\n",
       "      <td>...</td>\n",
       "      <td>2021-11-24</td>\n",
       "      <td>46592.0</td>\n",
       "      <td>4</td>\n",
       "      <td>event</td>\n",
       "      <td>NaN</td>\n",
       "      <td>podpiska.sberauto.com/</td>\n",
       "      <td>sub_button_click</td>\n",
       "      <td>sub_view_cars_click</td>\n",
       "      <td>vodKSlUobUWTVlgsJqdI</td>\n",
       "      <td>NaN</td>\n",
       "    </tr>\n",
       "    <tr>\n",
       "      <th>2</th>\n",
       "      <td>905544597018549464.1636867290.1636867290</td>\n",
       "      <td>210838531.163687</td>\n",
       "      <td>2021-11-14</td>\n",
       "      <td>08:21:30</td>\n",
       "      <td>1</td>\n",
       "      <td>MvfHsxITijuriZxsqZqt</td>\n",
       "      <td>cpm</td>\n",
       "      <td>FTjNLDyTrXaWYgZymFkV</td>\n",
       "      <td>xhoenQgDQsgfEPYNPwKO</td>\n",
       "      <td>IGUCNvHlhfHpROGclCit</td>\n",
       "      <td>...</td>\n",
       "      <td>2021-11-14</td>\n",
       "      <td>921.0</td>\n",
       "      <td>3</td>\n",
       "      <td>event</td>\n",
       "      <td>NaN</td>\n",
       "      <td>podpiska.sberauto.com/</td>\n",
       "      <td>sub_page_view</td>\n",
       "      <td>sub_landing</td>\n",
       "      <td>NaN</td>\n",
       "      <td>NaN</td>\n",
       "    </tr>\n",
       "    <tr>\n",
       "      <th>3</th>\n",
       "      <td>9055446045651783499.1640648526.1640648526</td>\n",
       "      <td>2108385331.164065</td>\n",
       "      <td>2021-12-28</td>\n",
       "      <td>02:42:06</td>\n",
       "      <td>1</td>\n",
       "      <td>ZpYIoDJMcFzVoPFsHGJL</td>\n",
       "      <td>banner</td>\n",
       "      <td>LEoPHuyFvzoNfnzGgfcd</td>\n",
       "      <td>vCIpmpaGBnIQhyYNkXqp</td>\n",
       "      <td>puhZPIYqKXeFPaUviSjo</td>\n",
       "      <td>...</td>\n",
       "      <td>2021-12-28</td>\n",
       "      <td>84155.0</td>\n",
       "      <td>10</td>\n",
       "      <td>event</td>\n",
       "      <td>NaN</td>\n",
       "      <td>sberauto.com/cars?utm_source_initial=sbol&amp;utm_...</td>\n",
       "      <td>search_form</td>\n",
       "      <td>search_form_region</td>\n",
       "      <td>KWTCzSIXzoqUWjfUQMgP</td>\n",
       "      <td>NaN</td>\n",
       "    </tr>\n",
       "    <tr>\n",
       "      <th>4</th>\n",
       "      <td>9055446045651783499.1640648526.1640648526</td>\n",
       "      <td>2108385331.164065</td>\n",
       "      <td>2021-12-28</td>\n",
       "      <td>02:42:06</td>\n",
       "      <td>1</td>\n",
       "      <td>ZpYIoDJMcFzVoPFsHGJL</td>\n",
       "      <td>banner</td>\n",
       "      <td>LEoPHuyFvzoNfnzGgfcd</td>\n",
       "      <td>vCIpmpaGBnIQhyYNkXqp</td>\n",
       "      <td>puhZPIYqKXeFPaUviSjo</td>\n",
       "      <td>...</td>\n",
       "      <td>2021-12-28</td>\n",
       "      <td>102979.0</td>\n",
       "      <td>13</td>\n",
       "      <td>event</td>\n",
       "      <td>NaN</td>\n",
       "      <td>sberauto.com/cars?utm_source_initial=sbol&amp;utm_...</td>\n",
       "      <td>search_form</td>\n",
       "      <td>search_form_region</td>\n",
       "      <td>CBqnBQaKoQUyWJhLcxxN</td>\n",
       "      <td>NaN</td>\n",
       "    </tr>\n",
       "  </tbody>\n",
       "</table>\n",
       "<p>5 rows × 28 columns</p>\n",
       "</div>"
      ],
      "text/plain": [
       "                                  session_id          client_id  visit_date  \\\n",
       "0  9055434745589932991.1637753792.1637753792  2108382700.163776  2021-11-24   \n",
       "1  9055434745589932991.1637753792.1637753792  2108382700.163776  2021-11-24   \n",
       "2   905544597018549464.1636867290.1636867290   210838531.163687  2021-11-14   \n",
       "3  9055446045651783499.1640648526.1640648526  2108385331.164065  2021-12-28   \n",
       "4  9055446045651783499.1640648526.1640648526  2108385331.164065  2021-12-28   \n",
       "\n",
       "  visit_time  visit_number            utm_source utm_medium  \\\n",
       "0   14:36:32             1  ZpYIoDJMcFzVoPFsHGJL     banner   \n",
       "1   14:36:32             1  ZpYIoDJMcFzVoPFsHGJL     banner   \n",
       "2   08:21:30             1  MvfHsxITijuriZxsqZqt        cpm   \n",
       "3   02:42:06             1  ZpYIoDJMcFzVoPFsHGJL     banner   \n",
       "4   02:42:06             1  ZpYIoDJMcFzVoPFsHGJL     banner   \n",
       "\n",
       "           utm_campaign         utm_adcontent           utm_keyword  ...  \\\n",
       "0  LEoPHuyFvzoNfnzGgfcd  vCIpmpaGBnIQhyYNkXqp  puhZPIYqKXeFPaUviSjo  ...   \n",
       "1  LEoPHuyFvzoNfnzGgfcd  vCIpmpaGBnIQhyYNkXqp  puhZPIYqKXeFPaUviSjo  ...   \n",
       "2  FTjNLDyTrXaWYgZymFkV  xhoenQgDQsgfEPYNPwKO  IGUCNvHlhfHpROGclCit  ...   \n",
       "3  LEoPHuyFvzoNfnzGgfcd  vCIpmpaGBnIQhyYNkXqp  puhZPIYqKXeFPaUviSjo  ...   \n",
       "4  LEoPHuyFvzoNfnzGgfcd  vCIpmpaGBnIQhyYNkXqp  puhZPIYqKXeFPaUviSjo  ...   \n",
       "\n",
       "     hit_date  hit_time hit_number hit_type hit_referer  \\\n",
       "0  2021-11-24    3665.0          3    event         NaN   \n",
       "1  2021-11-24   46592.0          4    event         NaN   \n",
       "2  2021-11-14     921.0          3    event         NaN   \n",
       "3  2021-12-28   84155.0         10    event         NaN   \n",
       "4  2021-12-28  102979.0         13    event         NaN   \n",
       "\n",
       "                                       hit_page_path    event_category  \\\n",
       "0                             podpiska.sberauto.com/     sub_page_view   \n",
       "1                             podpiska.sberauto.com/  sub_button_click   \n",
       "2                             podpiska.sberauto.com/     sub_page_view   \n",
       "3  sberauto.com/cars?utm_source_initial=sbol&utm_...       search_form   \n",
       "4  sberauto.com/cars?utm_source_initial=sbol&utm_...       search_form   \n",
       "\n",
       "          event_action           event_label  event_value  \n",
       "0          sub_landing                   NaN          NaN  \n",
       "1  sub_view_cars_click  vodKSlUobUWTVlgsJqdI          NaN  \n",
       "2          sub_landing                   NaN          NaN  \n",
       "3   search_form_region  KWTCzSIXzoqUWjfUQMgP          NaN  \n",
       "4   search_form_region  CBqnBQaKoQUyWJhLcxxN          NaN  \n",
       "\n",
       "[5 rows x 28 columns]"
      ]
     },
     "execution_count": 7,
     "metadata": {},
     "output_type": "execute_result"
    }
   ],
   "source": [
    "df_united = pd.merge(df_sessions, df_hits)\n",
    "df_united.head()"
   ]
  },
  {
   "cell_type": "code",
   "execution_count": 8,
   "metadata": {
    "id": "XmyuIVk9L_AN"
   },
   "outputs": [
    {
     "data": {
      "text/plain": [
       "(15685219, 28)"
      ]
     },
     "execution_count": 8,
     "metadata": {},
     "output_type": "execute_result"
    }
   ],
   "source": [
    "df_united.shape"
   ]
  },
  {
   "cell_type": "code",
   "execution_count": 9,
   "metadata": {
    "id": "vLZI3JTWRg8N"
   },
   "outputs": [
    {
     "data": {
      "text/html": [
       "<div>\n",
       "<style scoped>\n",
       "    .dataframe tbody tr th:only-of-type {\n",
       "        vertical-align: middle;\n",
       "    }\n",
       "\n",
       "    .dataframe tbody tr th {\n",
       "        vertical-align: top;\n",
       "    }\n",
       "\n",
       "    .dataframe thead th {\n",
       "        text-align: right;\n",
       "    }\n",
       "</style>\n",
       "<table border=\"1\" class=\"dataframe\">\n",
       "  <thead>\n",
       "    <tr style=\"text-align: right;\">\n",
       "      <th></th>\n",
       "      <th>session_id</th>\n",
       "      <th>client_id</th>\n",
       "      <th>visit_date</th>\n",
       "      <th>visit_time</th>\n",
       "      <th>visit_number</th>\n",
       "      <th>utm_source</th>\n",
       "      <th>utm_medium</th>\n",
       "      <th>utm_campaign</th>\n",
       "      <th>utm_adcontent</th>\n",
       "      <th>utm_keyword</th>\n",
       "      <th>...</th>\n",
       "      <th>hit_date</th>\n",
       "      <th>hit_time</th>\n",
       "      <th>hit_number</th>\n",
       "      <th>hit_type</th>\n",
       "      <th>hit_referer</th>\n",
       "      <th>hit_page_path</th>\n",
       "      <th>event_category</th>\n",
       "      <th>event_action</th>\n",
       "      <th>event_label</th>\n",
       "      <th>event_value</th>\n",
       "    </tr>\n",
       "  </thead>\n",
       "  <tbody>\n",
       "    <tr>\n",
       "      <th>count</th>\n",
       "      <td>15685219</td>\n",
       "      <td>1.568522e+07</td>\n",
       "      <td>15685219</td>\n",
       "      <td>15685219</td>\n",
       "      <td>1.568522e+07</td>\n",
       "      <td>15684519</td>\n",
       "      <td>15685219</td>\n",
       "      <td>13486346</td>\n",
       "      <td>12852801</td>\n",
       "      <td>6480392</td>\n",
       "      <td>...</td>\n",
       "      <td>15685219</td>\n",
       "      <td>6.525016e+06</td>\n",
       "      <td>1.568522e+07</td>\n",
       "      <td>15685219</td>\n",
       "      <td>9449721</td>\n",
       "      <td>15685219</td>\n",
       "      <td>15685219</td>\n",
       "      <td>15685219</td>\n",
       "      <td>11957537</td>\n",
       "      <td>0.0</td>\n",
       "    </tr>\n",
       "    <tr>\n",
       "      <th>unique</th>\n",
       "      <td>1732266</td>\n",
       "      <td>1.320702e+06</td>\n",
       "      <td>226</td>\n",
       "      <td>85032</td>\n",
       "      <td>NaN</td>\n",
       "      <td>280</td>\n",
       "      <td>55</td>\n",
       "      <td>406</td>\n",
       "      <td>280</td>\n",
       "      <td>1192</td>\n",
       "      <td>...</td>\n",
       "      <td>226</td>\n",
       "      <td>NaN</td>\n",
       "      <td>NaN</td>\n",
       "      <td>1</td>\n",
       "      <td>37826</td>\n",
       "      <td>342242</td>\n",
       "      <td>52</td>\n",
       "      <td>230</td>\n",
       "      <td>39777</td>\n",
       "      <td>NaN</td>\n",
       "    </tr>\n",
       "    <tr>\n",
       "      <th>top</th>\n",
       "      <td>5442565791571325612.1632449195.1632449195</td>\n",
       "      <td>1.750498e+09</td>\n",
       "      <td>2021-05-24</td>\n",
       "      <td>13:00:00</td>\n",
       "      <td>NaN</td>\n",
       "      <td>ZpYIoDJMcFzVoPFsHGJL</td>\n",
       "      <td>banner</td>\n",
       "      <td>LTuZkdKfxRGVceoWkVyg</td>\n",
       "      <td>JNHcPlZPxEMWDnRiyoBf</td>\n",
       "      <td>puhZPIYqKXeFPaUviSjo</td>\n",
       "      <td>...</td>\n",
       "      <td>2021-05-24</td>\n",
       "      <td>NaN</td>\n",
       "      <td>NaN</td>\n",
       "      <td>event</td>\n",
       "      <td>HbolMJUevblAbkHClEQa</td>\n",
       "      <td>podpiska.sberauto.com/</td>\n",
       "      <td>card_web</td>\n",
       "      <td>view_card</td>\n",
       "      <td>KclpemfoHstknWHFiLit</td>\n",
       "      <td>NaN</td>\n",
       "    </tr>\n",
       "    <tr>\n",
       "      <th>freq</th>\n",
       "      <td>768</td>\n",
       "      <td>6.871000e+03</td>\n",
       "      <td>513035</td>\n",
       "      <td>544567</td>\n",
       "      <td>NaN</td>\n",
       "      <td>5151702</td>\n",
       "      <td>4898563</td>\n",
       "      <td>5166521</td>\n",
       "      <td>9647665</td>\n",
       "      <td>4717082</td>\n",
       "      <td>...</td>\n",
       "      <td>513035</td>\n",
       "      <td>NaN</td>\n",
       "      <td>NaN</td>\n",
       "      <td>15685219</td>\n",
       "      <td>8879128</td>\n",
       "      <td>2790578</td>\n",
       "      <td>7431798</td>\n",
       "      <td>3546622</td>\n",
       "      <td>6505347</td>\n",
       "      <td>NaN</td>\n",
       "    </tr>\n",
       "    <tr>\n",
       "      <th>mean</th>\n",
       "      <td>NaN</td>\n",
       "      <td>NaN</td>\n",
       "      <td>NaN</td>\n",
       "      <td>NaN</td>\n",
       "      <td>2.696941e+00</td>\n",
       "      <td>NaN</td>\n",
       "      <td>NaN</td>\n",
       "      <td>NaN</td>\n",
       "      <td>NaN</td>\n",
       "      <td>NaN</td>\n",
       "      <td>...</td>\n",
       "      <td>NaN</td>\n",
       "      <td>2.042751e+05</td>\n",
       "      <td>2.347792e+01</td>\n",
       "      <td>NaN</td>\n",
       "      <td>NaN</td>\n",
       "      <td>NaN</td>\n",
       "      <td>NaN</td>\n",
       "      <td>NaN</td>\n",
       "      <td>NaN</td>\n",
       "      <td>NaN</td>\n",
       "    </tr>\n",
       "    <tr>\n",
       "      <th>std</th>\n",
       "      <td>NaN</td>\n",
       "      <td>NaN</td>\n",
       "      <td>NaN</td>\n",
       "      <td>NaN</td>\n",
       "      <td>1.254170e+01</td>\n",
       "      <td>NaN</td>\n",
       "      <td>NaN</td>\n",
       "      <td>NaN</td>\n",
       "      <td>NaN</td>\n",
       "      <td>NaN</td>\n",
       "      <td>...</td>\n",
       "      <td>NaN</td>\n",
       "      <td>3.785350e+05</td>\n",
       "      <td>2.861302e+01</td>\n",
       "      <td>NaN</td>\n",
       "      <td>NaN</td>\n",
       "      <td>NaN</td>\n",
       "      <td>NaN</td>\n",
       "      <td>NaN</td>\n",
       "      <td>NaN</td>\n",
       "      <td>NaN</td>\n",
       "    </tr>\n",
       "    <tr>\n",
       "      <th>min</th>\n",
       "      <td>NaN</td>\n",
       "      <td>NaN</td>\n",
       "      <td>NaN</td>\n",
       "      <td>NaN</td>\n",
       "      <td>1.000000e+00</td>\n",
       "      <td>NaN</td>\n",
       "      <td>NaN</td>\n",
       "      <td>NaN</td>\n",
       "      <td>NaN</td>\n",
       "      <td>NaN</td>\n",
       "      <td>...</td>\n",
       "      <td>NaN</td>\n",
       "      <td>0.000000e+00</td>\n",
       "      <td>1.000000e+00</td>\n",
       "      <td>NaN</td>\n",
       "      <td>NaN</td>\n",
       "      <td>NaN</td>\n",
       "      <td>NaN</td>\n",
       "      <td>NaN</td>\n",
       "      <td>NaN</td>\n",
       "      <td>NaN</td>\n",
       "    </tr>\n",
       "    <tr>\n",
       "      <th>25%</th>\n",
       "      <td>NaN</td>\n",
       "      <td>NaN</td>\n",
       "      <td>NaN</td>\n",
       "      <td>NaN</td>\n",
       "      <td>1.000000e+00</td>\n",
       "      <td>NaN</td>\n",
       "      <td>NaN</td>\n",
       "      <td>NaN</td>\n",
       "      <td>NaN</td>\n",
       "      <td>NaN</td>\n",
       "      <td>...</td>\n",
       "      <td>NaN</td>\n",
       "      <td>2.416700e+04</td>\n",
       "      <td>7.000000e+00</td>\n",
       "      <td>NaN</td>\n",
       "      <td>NaN</td>\n",
       "      <td>NaN</td>\n",
       "      <td>NaN</td>\n",
       "      <td>NaN</td>\n",
       "      <td>NaN</td>\n",
       "      <td>NaN</td>\n",
       "    </tr>\n",
       "    <tr>\n",
       "      <th>50%</th>\n",
       "      <td>NaN</td>\n",
       "      <td>NaN</td>\n",
       "      <td>NaN</td>\n",
       "      <td>NaN</td>\n",
       "      <td>1.000000e+00</td>\n",
       "      <td>NaN</td>\n",
       "      <td>NaN</td>\n",
       "      <td>NaN</td>\n",
       "      <td>NaN</td>\n",
       "      <td>NaN</td>\n",
       "      <td>...</td>\n",
       "      <td>NaN</td>\n",
       "      <td>8.973300e+04</td>\n",
       "      <td>1.500000e+01</td>\n",
       "      <td>NaN</td>\n",
       "      <td>NaN</td>\n",
       "      <td>NaN</td>\n",
       "      <td>NaN</td>\n",
       "      <td>NaN</td>\n",
       "      <td>NaN</td>\n",
       "      <td>NaN</td>\n",
       "    </tr>\n",
       "    <tr>\n",
       "      <th>75%</th>\n",
       "      <td>NaN</td>\n",
       "      <td>NaN</td>\n",
       "      <td>NaN</td>\n",
       "      <td>NaN</td>\n",
       "      <td>2.000000e+00</td>\n",
       "      <td>NaN</td>\n",
       "      <td>NaN</td>\n",
       "      <td>NaN</td>\n",
       "      <td>NaN</td>\n",
       "      <td>NaN</td>\n",
       "      <td>...</td>\n",
       "      <td>NaN</td>\n",
       "      <td>2.181740e+05</td>\n",
       "      <td>2.900000e+01</td>\n",
       "      <td>NaN</td>\n",
       "      <td>NaN</td>\n",
       "      <td>NaN</td>\n",
       "      <td>NaN</td>\n",
       "      <td>NaN</td>\n",
       "      <td>NaN</td>\n",
       "      <td>NaN</td>\n",
       "    </tr>\n",
       "    <tr>\n",
       "      <th>max</th>\n",
       "      <td>NaN</td>\n",
       "      <td>NaN</td>\n",
       "      <td>NaN</td>\n",
       "      <td>NaN</td>\n",
       "      <td>5.640000e+02</td>\n",
       "      <td>NaN</td>\n",
       "      <td>NaN</td>\n",
       "      <td>NaN</td>\n",
       "      <td>NaN</td>\n",
       "      <td>NaN</td>\n",
       "      <td>...</td>\n",
       "      <td>NaN</td>\n",
       "      <td>1.315688e+07</td>\n",
       "      <td>5.000000e+02</td>\n",
       "      <td>NaN</td>\n",
       "      <td>NaN</td>\n",
       "      <td>NaN</td>\n",
       "      <td>NaN</td>\n",
       "      <td>NaN</td>\n",
       "      <td>NaN</td>\n",
       "      <td>NaN</td>\n",
       "    </tr>\n",
       "  </tbody>\n",
       "</table>\n",
       "<p>11 rows × 28 columns</p>\n",
       "</div>"
      ],
      "text/plain": [
       "                                       session_id     client_id  visit_date  \\\n",
       "count                                    15685219  1.568522e+07    15685219   \n",
       "unique                                    1732266  1.320702e+06         226   \n",
       "top     5442565791571325612.1632449195.1632449195  1.750498e+09  2021-05-24   \n",
       "freq                                          768  6.871000e+03      513035   \n",
       "mean                                          NaN           NaN         NaN   \n",
       "std                                           NaN           NaN         NaN   \n",
       "min                                           NaN           NaN         NaN   \n",
       "25%                                           NaN           NaN         NaN   \n",
       "50%                                           NaN           NaN         NaN   \n",
       "75%                                           NaN           NaN         NaN   \n",
       "max                                           NaN           NaN         NaN   \n",
       "\n",
       "       visit_time  visit_number            utm_source utm_medium  \\\n",
       "count    15685219  1.568522e+07              15684519   15685219   \n",
       "unique      85032           NaN                   280         55   \n",
       "top      13:00:00           NaN  ZpYIoDJMcFzVoPFsHGJL     banner   \n",
       "freq       544567           NaN               5151702    4898563   \n",
       "mean          NaN  2.696941e+00                   NaN        NaN   \n",
       "std           NaN  1.254170e+01                   NaN        NaN   \n",
       "min           NaN  1.000000e+00                   NaN        NaN   \n",
       "25%           NaN  1.000000e+00                   NaN        NaN   \n",
       "50%           NaN  1.000000e+00                   NaN        NaN   \n",
       "75%           NaN  2.000000e+00                   NaN        NaN   \n",
       "max           NaN  5.640000e+02                   NaN        NaN   \n",
       "\n",
       "                utm_campaign         utm_adcontent           utm_keyword  ...  \\\n",
       "count               13486346              12852801               6480392  ...   \n",
       "unique                   406                   280                  1192  ...   \n",
       "top     LTuZkdKfxRGVceoWkVyg  JNHcPlZPxEMWDnRiyoBf  puhZPIYqKXeFPaUviSjo  ...   \n",
       "freq                 5166521               9647665               4717082  ...   \n",
       "mean                     NaN                   NaN                   NaN  ...   \n",
       "std                      NaN                   NaN                   NaN  ...   \n",
       "min                      NaN                   NaN                   NaN  ...   \n",
       "25%                      NaN                   NaN                   NaN  ...   \n",
       "50%                      NaN                   NaN                   NaN  ...   \n",
       "75%                      NaN                   NaN                   NaN  ...   \n",
       "max                      NaN                   NaN                   NaN  ...   \n",
       "\n",
       "          hit_date      hit_time    hit_number  hit_type  \\\n",
       "count     15685219  6.525016e+06  1.568522e+07  15685219   \n",
       "unique         226           NaN           NaN         1   \n",
       "top     2021-05-24           NaN           NaN     event   \n",
       "freq        513035           NaN           NaN  15685219   \n",
       "mean           NaN  2.042751e+05  2.347792e+01       NaN   \n",
       "std            NaN  3.785350e+05  2.861302e+01       NaN   \n",
       "min            NaN  0.000000e+00  1.000000e+00       NaN   \n",
       "25%            NaN  2.416700e+04  7.000000e+00       NaN   \n",
       "50%            NaN  8.973300e+04  1.500000e+01       NaN   \n",
       "75%            NaN  2.181740e+05  2.900000e+01       NaN   \n",
       "max            NaN  1.315688e+07  5.000000e+02       NaN   \n",
       "\n",
       "                 hit_referer           hit_page_path event_category  \\\n",
       "count                9449721                15685219       15685219   \n",
       "unique                 37826                  342242             52   \n",
       "top     HbolMJUevblAbkHClEQa  podpiska.sberauto.com/       card_web   \n",
       "freq                 8879128                 2790578        7431798   \n",
       "mean                     NaN                     NaN            NaN   \n",
       "std                      NaN                     NaN            NaN   \n",
       "min                      NaN                     NaN            NaN   \n",
       "25%                      NaN                     NaN            NaN   \n",
       "50%                      NaN                     NaN            NaN   \n",
       "75%                      NaN                     NaN            NaN   \n",
       "max                      NaN                     NaN            NaN   \n",
       "\n",
       "       event_action           event_label  event_value  \n",
       "count      15685219              11957537          0.0  \n",
       "unique          230                 39777          NaN  \n",
       "top       view_card  KclpemfoHstknWHFiLit          NaN  \n",
       "freq        3546622               6505347          NaN  \n",
       "mean            NaN                   NaN          NaN  \n",
       "std             NaN                   NaN          NaN  \n",
       "min             NaN                   NaN          NaN  \n",
       "25%             NaN                   NaN          NaN  \n",
       "50%             NaN                   NaN          NaN  \n",
       "75%             NaN                   NaN          NaN  \n",
       "max             NaN                   NaN          NaN  \n",
       "\n",
       "[11 rows x 28 columns]"
      ]
     },
     "execution_count": 9,
     "metadata": {},
     "output_type": "execute_result"
    }
   ],
   "source": [
    "df_united.describe(include='all')"
   ]
  },
  {
   "cell_type": "markdown",
   "metadata": {
    "id": "NaxJGwDLVYpI"
   },
   "source": [
    "### df_united\n",
    "1. столбец hit_type заполнен одним уникальным значением, неинформативен и лучше удалить\n",
    "2. столбец event_value заполнен NaN, неинформативен и лучше удалить"
   ]
  },
  {
   "cell_type": "code",
   "execution_count": null,
   "metadata": {
    "id": "gEaCJHf6VQY8"
   },
   "outputs": [],
   "source": []
  },
  {
   "cell_type": "markdown",
   "metadata": {
    "id": "3l9VRsEjY-E4"
   },
   "source": [
    "# 2.EDA\n",
    "Разведочный анализ данных (Exploratory Data Analysis)"
   ]
  },
  {
   "cell_type": "markdown",
   "metadata": {
    "id": "qgCBib7UknB3"
   },
   "source": [
    "## 2.1 Data cleaning"
   ]
  },
  {
   "cell_type": "code",
   "execution_count": 10,
   "metadata": {
    "id": "JZqNhZ_iZB-U"
   },
   "outputs": [
    {
     "data": {
      "text/plain": [
       "Index(['session_id', 'client_id', 'visit_date', 'visit_time', 'visit_number',\n",
       "       'utm_source', 'utm_medium', 'utm_campaign', 'utm_adcontent',\n",
       "       'utm_keyword', 'device_category', 'device_os', 'device_brand',\n",
       "       'device_model', 'device_screen_resolution', 'device_browser',\n",
       "       'geo_country', 'geo_city', 'hit_date', 'hit_time', 'hit_number',\n",
       "       'hit_type', 'hit_referer', 'hit_page_path', 'event_category',\n",
       "       'event_action', 'event_label', 'event_value'],\n",
       "      dtype='object')"
      ]
     },
     "execution_count": 10,
     "metadata": {},
     "output_type": "execute_result"
    }
   ],
   "source": [
    "df_united.columns"
   ]
  },
  {
   "cell_type": "code",
   "execution_count": 36,
   "metadata": {
    "id": "6QXZKWmAmV_E"
   },
   "outputs": [
    {
     "data": {
      "text/plain": [
       "Index(['session_id', 'client_id', 'visit_date', 'visit_time', 'visit_number',\n",
       "       'utm_source', 'utm_medium', 'utm_campaign', 'utm_adcontent',\n",
       "       'utm_keyword', 'device_category', 'device_os', 'device_brand',\n",
       "       'device_model', 'device_screen_resolution', 'device_browser',\n",
       "       'geo_country', 'geo_city', 'hit_date', 'hit_time', 'hit_number',\n",
       "       'hit_referer', 'hit_page_path', 'event_category', 'event_action',\n",
       "       'event_label'],\n",
       "      dtype='object')"
      ]
     },
     "execution_count": 36,
     "metadata": {},
     "output_type": "execute_result"
    }
   ],
   "source": [
    "df_united_clean = df_united.drop(columns=['hit_type', 'event_value'], axis=1)\n",
    "df_united_clean.columns"
   ]
  },
  {
   "cell_type": "code",
   "execution_count": 37,
   "metadata": {
    "id": "NwEjFlwSrAFz"
   },
   "outputs": [
    {
     "data": {
      "text/plain": [
       "False    15685219\n",
       "Name: count, dtype: int64"
      ]
     },
     "execution_count": 37,
     "metadata": {},
     "output_type": "execute_result"
    }
   ],
   "source": [
    "df_united_clean.duplicated().value_counts()"
   ]
  },
  {
   "cell_type": "markdown",
   "metadata": {
    "id": "srR7-XrpoL0T"
   },
   "source": [
    "#### Fullness of cells"
   ]
  },
  {
   "cell_type": "code",
   "execution_count": 38,
   "metadata": {
    "id": "MYtg0mUqnnN4"
   },
   "outputs": [],
   "source": [
    "def print_useful_rows_info(df):\n",
    "    print('Amount of useful rows:', len(df.dropna()))\n",
    "    print('Persentage of filled rows', round(len(df.dropna()) / len(df) * 100, 2))"
   ]
  },
  {
   "cell_type": "code",
   "execution_count": 39,
   "metadata": {
    "id": "y_JcZHE9n-3B"
   },
   "outputs": [
    {
     "name": "stdout",
     "output_type": "stream",
     "text": [
      "Amount of useful rows: 1487\n",
      "Persentage of filled rows 0.01\n"
     ]
    }
   ],
   "source": [
    "print_useful_rows_info(df_united_clean)"
   ]
  },
  {
   "cell_type": "code",
   "execution_count": 40,
   "metadata": {
    "id": "XyWyMCMYojHF"
   },
   "outputs": [],
   "source": [
    "def blank_rows_percentage(df):\n",
    "  print((df.isna().sum() / len(df) * 100).sort_values(ascending=False))"
   ]
  },
  {
   "cell_type": "code",
   "execution_count": 41,
   "metadata": {
    "id": "qZev87OGqirJ"
   },
   "outputs": [
    {
     "name": "stdout",
     "output_type": "stream",
     "text": [
      "device_model                99.220368\n",
      "utm_keyword                 58.684721\n",
      "hit_time                    58.400224\n",
      "device_os                   58.388614\n",
      "hit_referer                 39.753975\n",
      "device_brand                25.156646\n",
      "event_label                 23.765572\n",
      "utm_adcontent               18.057880\n",
      "utm_campaign                14.018759\n",
      "utm_source                   0.004463\n",
      "hit_date                     0.000000\n",
      "event_action                 0.000000\n",
      "event_category               0.000000\n",
      "hit_page_path                0.000000\n",
      "visit_date                   0.000000\n",
      "hit_number                   0.000000\n",
      "visit_time                   0.000000\n",
      "geo_country                  0.000000\n",
      "geo_city                     0.000000\n",
      "device_browser               0.000000\n",
      "device_screen_resolution     0.000000\n",
      "client_id                    0.000000\n",
      "visit_number                 0.000000\n",
      "device_category              0.000000\n",
      "utm_medium                   0.000000\n",
      "session_id                   0.000000\n",
      "dtype: float64\n"
     ]
    }
   ],
   "source": [
    "blank_rows_percentage(df_united_clean)"
   ]
  },
  {
   "cell_type": "markdown",
   "metadata": {
    "id": "ShmIZGgAL_AP"
   },
   "source": [
    "удаляем и все колонки где пропусков больше 20%:"
   ]
  },
  {
   "cell_type": "code",
   "execution_count": 42,
   "metadata": {
    "id": "YtnNKDiXL_AQ"
   },
   "outputs": [],
   "source": [
    "df_united_clean = df_united_clean.drop(columns=['device_model', 'utm_keyword', 'hit_time', 'device_os', 'hit_referer', 'device_brand', 'event_label'], axis=1)"
   ]
  },
  {
   "cell_type": "code",
   "execution_count": 43,
   "metadata": {
    "id": "eAuU5Q9eR3BU"
   },
   "outputs": [
    {
     "name": "stdout",
     "output_type": "stream",
     "text": [
      "Amount of useful rows: 12747787\n",
      "Persentage of filled rows 81.27\n"
     ]
    }
   ],
   "source": [
    "print_useful_rows_info(df_united_clean)"
   ]
  },
  {
   "cell_type": "code",
   "execution_count": 44,
   "metadata": {
    "id": "ZM7H7Sk9szxv"
   },
   "outputs": [],
   "source": [
    "# !pip3 install missingno #uncomment if missingno not exist"
   ]
  },
  {
   "cell_type": "code",
   "execution_count": 45,
   "metadata": {
    "id": "VQgvJstAtPN8"
   },
   "outputs": [],
   "source": [
    "import missingno as msno"
   ]
  },
  {
   "cell_type": "code",
   "execution_count": 46,
   "metadata": {
    "id": "d1TuAKnftS2L"
   },
   "outputs": [
    {
     "data": {
      "text/plain": [
       "<Axes: >"
      ]
     },
     "execution_count": 46,
     "metadata": {},
     "output_type": "execute_result"
    },
    {
     "data": {
      "image/png": "[encoded data removed]",
      "text/plain": [
       "<Figure size 2500x1000 with 3 Axes>"
      ]
     },
     "metadata": {},
     "output_type": "display_data"
    }
   ],
   "source": [
    "# диаграмма заполненности\n",
    "msno.bar(df_united_clean)"
   ]
  },
  {
   "cell_type": "code",
   "execution_count": 47,
   "metadata": {
    "id": "gnT6kmN9tk3m"
   },
   "outputs": [
    {
     "data": {
      "text/plain": [
       "<Axes: >"
      ]
     },
     "execution_count": 47,
     "metadata": {},
     "output_type": "execute_result"
    },
    {
     "data": {
      "image/png": "[encoded data removed]",
      "text/plain": [
       "<Figure size 2500x1000 with 2 Axes>"
      ]
     },
     "metadata": {},
     "output_type": "display_data"
    }
   ],
   "source": [
    "# матрица заполненности\n",
    "msno.matrix(df_united_clean)"
   ]
  },
  {
   "cell_type": "markdown",
   "metadata": {
    "id": "WsXRPETEL_AN"
   },
   "source": [
    "### Определение типов переменных в датасете df_united\n",
    "\n",
    "|  Переменная               | Дискретная | Непрерывная | Качественная |\n",
    "|---------------------------|------------|-------------|--------------|\n",
    "| visit_date                | X          |             |              |\n",
    "| visit_time                | X          |             |              |\n",
    "| visit_number              | X          |             |              |\n",
    "| utm_source                |            |             | X            |\n",
    "| utm_medium                |            |             | X            |\n",
    "| utm_campaign              |            |             | X            |\n",
    "| utm_adcontent             |            |             | X            |\n",
    "| device_category           |            |             | X            |\n",
    "| device_screen_resolution  | X          |             |              |\n",
    "| device_browser            |            |             | X            |\n",
    "| geo_country               |            |             | X            |\n",
    "| geo_city                  |            |             | X            |\n",
    "| hit_date                  | X          |             |              |\n",
    "| hit_number                | X          |             |              |\n",
    "| hit_page_path             |            |             | X            |\n",
    "| event_category            |            |             | X            |\n",
    "| event_action              |            |             | X            |"
   ]
  },
  {
   "cell_type": "code",
   "execution_count": 51,
   "metadata": {
    "id": "wE49-WC5L_AQ"
   },
   "outputs": [
    {
     "data": {
      "text/plain": [
       "280"
      ]
     },
     "execution_count": 51,
     "metadata": {},
     "output_type": "execute_result"
    }
   ],
   "source": [
    "df_united_clean.utm_adcontent.nunique()"
   ]
  },
  {
   "cell_type": "code",
   "execution_count": 55,
   "metadata": {},
   "outputs": [
    {
     "data": {
      "text/plain": [
       "array(['LEoPHuyFvzoNfnzGgfcd', 'FTjNLDyTrXaWYgZymFkV', nan,\n",
       "       'LTuZkdKfxRGVceoWkVyg', 'gecBYcKZCPMcVYdSSzKP',\n",
       "       'eimRuUrNhZLAYcwRrNXu', 'LwJZxKuWmvOhPsaCeRjG',\n",
       "       'okTXSMadDkjvntEHzIjp', 'MXqmDyetMTICSSitTjWV',\n",
       "       'PXQWdUxeUoXfoKzTBGpY', 'zxoiLxhuSIFrCeTLQVWZ',\n",
       "       'nSReTmyFtbSjlPrTKoaX', 'BVKxkCOHKUOvkpbrLMgZ',\n",
       "       'QEejXfOCtOMFLZqIPApp', 'kVOrIKZFrEYGvixPclal',\n",
       "       'XHNUiSKKGTEpSAlaVMFQ', 'foFTSdUvNqqkPzZvgiqt',\n",
       "       'SgIUDYUKnyWHVowUOqid', 'BAZCuyHZnaPrMGOMrcCQ',\n",
       "       'bxOTvPtyGSdUrbwoXCPO', 'DXVdsSTQphSYVmRchYKt',\n",
       "       'GWZGdHKPgmZPNPwkJshU', 'JwYIveaHVpeeRZloQCfF',\n",
       "       'VBmazutCflYumtDHrQYe', 'UvuMsOSDBWQGOIbDbXfV',\n",
       "       'RoDitORHdzGfGhNCyEMy', 'TmThBvoCcwkCZZUWACYq',\n",
       "       'sbJRYgVfvcnqKJNDDYIr', 'XGYOaJEasWTwAKNdCGVX',\n",
       "       'dMIPlIFgKzafYgowsqtp', 'EvhrtRzIJnQYHziPiLzV',\n",
       "       'AqudXfUnmXWSDWVGYaXr', 'RxecHElWobBxIeAkqFXV',\n",
       "       'hkvDVxqLOzGjGaoNiNzN', 'QdLfySaGXolfTBSNVfHn',\n",
       "       'ULAUPJGgNiZYQgwZwZGR', 'JajANoFxoqXfKRNBUhzx',\n",
       "       'UEtHtwAEXfprDUERwqqj', 'IKQsApKuPmZqqmhieEgf',\n",
       "       'KgicpPxiEQfzPlPwQZJq', 'gVwpGdJDpteNmFIatPTG',\n",
       "       'iYBYglGljMDRQyqHRiPH', 'wpmatvDuiMutnvmNVPJo',\n",
       "       'IZEXUFLARCUMynmHNBGo', 'zfwIehuEfWYdYrEZgRLo',\n",
       "       'YCKgTzTDywjcWyQudGch', 'UKNBOHebRIIsQRsjNKay',\n",
       "       'zPJpddwzkFqLMSYgtDqy', 'vXsFkagGabkcWKlgLzSg',\n",
       "       'mSVMBvlHFgftJaQAZEdp', 'uZlTllnydJIwxWaShyFN',\n",
       "       'xGRbRuBkKsQPkKARPeOn', 'ESphyUeLTPINiYALHWrO',\n",
       "       'CdkIkBrvEVomSgvHzYvj', 'emlBaVkgLVRqbEVOSSXt',\n",
       "       'hnthrvdBdqpbZrLTWFSs', 'bgTYkDHjOsJzMUtoGhiQ',\n",
       "       'UjApcvnaHtkydRkrLYuv', 'bJJuEXRheRIxXEaYIXqM',\n",
       "       'jqlUOdZBNZYfInQVcZlS', 'XwZreaZvgptCcKQsSTmK',\n",
       "       'WJUKqfeOrjXIOHjgcgdR', 'LUlvACDKkkOkiSuiwaBs',\n",
       "       'vRLTQQKAsFQMxbcHGPhu', 'aCaBoYaQJPVffhjBQnut',\n",
       "       'vFcAhRxLfOWKhvxjELkx', 'WlbWUObZWvsimzdFdLYw',\n",
       "       'yCnTwlCLkqZHwAglrEll', 'jvsVVQVKRfBIqBDBuCkq',\n",
       "       'EiQppLFrUZrUsjXVulLg', 'HEimDfYZIzuQXDZAAcEW',\n",
       "       'lDZWtjMawBaqetnVFboy', 'DnEUulZAecfGPvdtZBYS',\n",
       "       'poPacoEcpwIansoSINie', 'WZxCpdfLzrgIfGUqxGpE',\n",
       "       'ZWwGecvpGmryAHpoosvq', 'QejVLgNgzFMqjZPsnfxa',\n",
       "       'izpGVnqOrUbTVctFBiaU', 'DZlFqIVHUBIDaQoarvIZ',\n",
       "       'aLJBnHfwxXTnAjVTpHFh', 'PuSsXRwSpZeHuyXoHqhm',\n",
       "       'PTQlxxEuqjyfVHcNKQQW', 'pQhDyEDSvgnXNvMXPAhy',\n",
       "       'YHobSrmCVImJLFtqxaTd', 'NSbcaLfXREiOVOXTmbnD',\n",
       "       'MWLEpQPyjGkjHseVyeyQ', 'wWtqUernqIfFLJdJysKt',\n",
       "       'nmfptFmSirEqNzAzqbXA', 'WiILFRDQbcHDHNvHzGpX',\n",
       "       'MmyPhaRZgQtGHEnQbdUx', 'qpUkxmFZPYAfFrViyYab',\n",
       "       'jXKhPqSdMbcUvJsaNCVA', 'ISrKoXQCxqqYvAZICvjs',\n",
       "       'TIRYvHSoLonAvRZefPmz', 'KCcrgoFqYxCpSjdRyJjZ',\n",
       "       'NCOBaqbWTRpdTXezdNNg', 'jfLxUKobDdJlutbwyjaU',\n",
       "       'labpJCBQmsoWLfQvNTak', 'CHdbSXINvRmKaAtGIGzz',\n",
       "       'ascPqxFuFewWWZSVMpkh', 'ngkgBNjlzLYBofkljaBo',\n",
       "       'kGhkeERWmeLqLmjmoxHo', 'kwdmElMUPDZaLQdgjcsI',\n",
       "       'RzLAoRYmCtVATSoPvWAQ', 'sTkjcuMUikyInvCPLqNT',\n",
       "       'rmVZWYFMcnGputYDEnAW', 'TmLcOgercnkJQrPmRxsU',\n",
       "       'tnAqgCNATsNXcJwptHrh', 'RhRtRKaMduWUvXxkhSyj',\n",
       "       'DsqwamlMwRgMTyspCjFR', 'JdLDXLLzKXZlxBJrDTXh',\n",
       "       'QOFLjxQSwjjdcmUyBzfz', 'YDIkQmcjRkpdxGbLLtNN',\n",
       "       'mIKayglJaKQZvgdtLfqT', 'qUcotcWimEOQiboVPcCx',\n",
       "       'IRGUHqwEMepMjgCYBVRn', 'aPqwsNrUDOqqlOPbgStP',\n",
       "       'GboXzNKRyCWKEtblNdau', 'hSkxjvIamxEAKPuQRbPZ',\n",
       "       'dZqEgyoxhtbeLFMtnnVR', 'xhbLYKykcxmylecTsBop',\n",
       "       'nGFPxtyrBsOYBtJhrWEk', 'WjjvSVHOFOxHwlNJQcyk',\n",
       "       'UUEGZcMsxvxRpygjNVWe', 'vVspBWANjeNCTQJpJJeE',\n",
       "       'qTERPbkOaRvjtQXXEwdb', 'iNaIAFVuZgYukekFQQbX',\n",
       "       'rKHSSStqLNTbdGVZMwfG', 'EcEOnwFpCaiUbrbFLICY',\n",
       "       'qwXNqUOhqrtaEJcARSvk', 'MQvSjpHGoGjbcBjfnLLm',\n",
       "       'PRXiQFoujNLNNkgZGmhg', 'sbBROyEMXrSwnajIqxMA',\n",
       "       'isYoUwVPnRHJczHiHQbB', 'QhutXutiTDeqkGEUiqFI',\n",
       "       'NPcEIgnbIECWdLNSGoam', 'eGPqcrOyAyMvXPpbVMLD',\n",
       "       'VfhMXDwtKbBKHfyoCvdn', 'MBHgRPNeTcONuVFFXgmz',\n",
       "       'MZTDkjezphpnUHlvfRck', 'KGpIIoFhRfLgffkknBkK',\n",
       "       'DBLWVjTjVZuzWYWTaDfZ', 'deUhHtuyPVpBrqXAuTJK',\n",
       "       'zmnpxOKDENholtspXiGy', 'KTPxKBplKCicmchTWoPH',\n",
       "       'HKUDoNXhPeIzUdnZpRdl', 'pPhTYiQubZFNCSnIbPJs',\n",
       "       'DlOlXJaBJgWQVhgtCeWo', 'WfdbkkrpQJoKZZNMVapQ',\n",
       "       'agnCWMgbwJZgTVVsuCLg', 'zDGMDYOBPSeVFZNNwoxT',\n",
       "       'IWLzPAfDfwypTzMxtiQE', 'vNNYHvZtTVtJICHsjBBL',\n",
       "       'NLWjXuYiXlKrFJfSWfKt', 'mpFygdnCzMsVlLWOpHBn',\n",
       "       'hBWmNYrvNzCBHuiQQxfV', 'nffihnepviFqbduqvqtR',\n",
       "       'TzXEvSoFiirteePaCzeY', 'xVVRROBlkIufrdCBMTYc',\n",
       "       'hyNLyXfbJfGYiUJTEZnz', 'hIlpdXTVGwzYWIOqvhtN',\n",
       "       'zBKTCFUiXurMYBESygaA', 'LliRUcMuIXWdLyWHGyiO',\n",
       "       'fJCYsujgSxIHFbOmgDdN', 'xEbpvlxtkygYVvQKMatl',\n",
       "       'KUROllwAYyecYcjFOgAi', 'hJvOVTMdhkqIBqjVrsOL',\n",
       "       'gkrlxvSUaPCJLtsTAaHI', 'cKnGYQSWZGzyTNPbbUhM',\n",
       "       'NPCqHqKASZefKtNiMiwY', 'akoPqAqaJrLGbjrrIVPH',\n",
       "       'nRMQduiDPkgzAtCtRRVx', 'HtyIDWOBgqXsGucSiffW',\n",
       "       'cccMlyVfjXspfaCSrMsO', 'RwJRitibjRveidvwKiLL',\n",
       "       'FhMPkFqqAboknIypeYDz', 'XoTrAOMBRCYqwPhPaAug',\n",
       "       'RkpOyeEPgcMBSDuHLQcj', 'ukwEyFczbqbKStCfJGsY',\n",
       "       'quxdQHtdlpFZfBZSiXFZ', 'yxtFdhyijaALzWWYtzHE',\n",
       "       'BrdyisDlGWoQTEpGunCI', 'jpjTolpOezlrOPAunDZi',\n",
       "       'XrGPrrQSYhqXkqYYpKzD', 'ggnicnIiTUFLsyaNdcJJ',\n",
       "       'kzqtiVtETHDUrZfgudlz', 'QKpFeggpjKAvhtjHKHZC',\n",
       "       'FNCczGzZUTzZVolDcPyC', 'iNFgfQPqHPBuvGCYtrQE',\n",
       "       'tVtbIKrPSOvrXLCznVVe', 'YpBKcihLLfFjWuxOLfvW',\n",
       "       'vDDUOyLFNAxxxTqPIvmu', 'rcPTSYUkeyIdANHAzyqt',\n",
       "       'NTQAiqAhSTbkRRmxVKoQ', 'vuriSCpYEnMEbLACpaMZ',\n",
       "       'gaFBXpMUrvHAilRkjPSS', 'qjmBmKWCivQiONdxBwQN',\n",
       "       'NIgzwPqJgIRAzUyDvNQF', 'NJzEnvxGTeAoWtXraOMM',\n",
       "       'CtcATIzjbQqVOMPZfiQY', 'CTxTNVPeWxOUJWpkjRjV',\n",
       "       'TBuBeLHkANSfemZzCoVD', 'UjNgcKjhqljTjpKnzEsH',\n",
       "       'TxKUcPpthBDPieTGmVhx', 'phrsMxwuvNvYsPYNbKkL',\n",
       "       'REOxIXhzBcWRzAVjELgu', 'sbYfAAzphmSQppvMthfe',\n",
       "       'BKeImrJuRDZcHiSSTdzm', 'yEzOkUNmavmsRTXaISLf',\n",
       "       'wWzYQhgKgKSglyMXtXFv', 'UbQpozKfTgYxQovHjkQM',\n",
       "       'ydXTgkwKyFWEAJoahduP', 'RTbrNgtiROQiwvJmxoMx',\n",
       "       'KyobiyHqbFtWswycTXJo', 'fDLlAcSmythWSCVMvqvL',\n",
       "       'MvfHsxITijuriZxsqZqt', 'tlfQioxYValDMNqdTGFZ',\n",
       "       'KXRJMPPRGoMIgkFfvZpk', 'wpMKhptHblpEnLMZvGir',\n",
       "       'BtHktUgMgEVIjKWdCrLZ', 'mrrsABvDmholqItQOtcL',\n",
       "       'uHkXFqmjVyPishvUseQg', 'TOSjvKcurFlcKJijjpYP',\n",
       "       'RRQpCHVxearEpYWQPPkz', 'ZdOcFAQpRQWuFZHHkEJQ',\n",
       "       'rnfmrcrPXOGNGEedbqSd', 'exUGYSXnDUQrIBIREJPO',\n",
       "       'bSnjzIuKqgqYvqVDKaOX', 'TOtlRhDcJiAMnHYarArU',\n",
       "       'REDghzZLrGbRqqQpScpY', 'yfjcpPqMeNcSIiswGTeQ',\n",
       "       'LbYgXRsCfbfDfXBVePCv', 'maiZOsuEAMdeoRVsYoFk',\n",
       "       'klTrhUaShgnjIbaPmqjc', 'muXSoqIAVnfVKUwxNbDi',\n",
       "       'OztZDxVyKavDuqIwuDEW', 'DWdObWJnYkxegWsWkVuy',\n",
       "       'XBoxutCxHSTnvyJumCQY', 'FrZxVhBshHjYZTtbPhxK',\n",
       "       'yNZQMmUjUNvdFfSdNFRW', 'YDaQaUATKHxvsCBNfjwj',\n",
       "       'LJZfurSmjxvomWxSCcZR', 'VzoFtfHotWfgMqOvhhpk',\n",
       "       'KiQeSeROtpITKBTCBZpa', 'UrZcnCerRbiVophgfqbk',\n",
       "       'VYDithpzdwvzdnmGEkfp', 'ZggPbXStNGQhzWMEBOLM',\n",
       "       'CXgqTLNTvvxWUWoOfjNF', 'UCpELiEcSpcQwocxJRuB',\n",
       "       'MXDkcHqcdXtujYTeSiOo', 'kLcjCnTSVYUxLVdvWAbF',\n",
       "       'TdiFPEJuNonAMXzGxOdj', 'pJnsGDvdAPPSfypxXruE',\n",
       "       'vsIeXLhfMWBRXWnTmgPr', 'HMzbTCtidyLIdSFumcrH',\n",
       "       'OrvHyYGicWVbFQAOAErl', 'QLIXctrnAHCfkfINcoBS',\n",
       "       'WxlboVseFpLmzsoVKkkQ', 'WYZTTdhWPjttFYmcGjBP',\n",
       "       'XHoTMOgwgpjFLwhdjpdo', 'KAcUKGokhYlMktQhYKHx',\n",
       "       'vRnpYItqvTLeHOrhMWuq', 'BHqsCPwtnpaQSryaVXya',\n",
       "       'GqeiAYRNSJPqyMnJQPkv', 'qQToznZzQEwXqmrMVfCd',\n",
       "       'FTAuYVNoYYxgvKMpKSLW', 'vjIFJEOjxEWepttdwCpg',\n",
       "       'VlqBmecIOXWjCWUmQkLd', 'zzcBKEnbRkpqxqrfLtUQ',\n",
       "       'LPiQJDVEpMDecOsQvTTl', 'MrKkyDxiricJGgQfpARh',\n",
       "       'niQdLVcBlNylrEuNcCYH', 'xEbgdGZJlqXAaRmeJQdW',\n",
       "       'kPFxaNFzjAAXpTmoDqwY', 'BHcvLfOaCWvWTykYqHVe',\n",
       "       'FybWmKxPurtzLVenltZy', 'viJRyeJfSPaqDtxzXuOp',\n",
       "       'NGNkCWwKgYFmiCCeZVxg', 'InOGyxvxAfYvSHCpIjJZ',\n",
       "       'iOMuvNvFqsfUXNqBuSzy', 'zMFmwQTCTSjJqblNXbOE',\n",
       "       'pZusNNTculJrJpXVbetv', 'NUYvxgBEIYqMlnpeDTIM',\n",
       "       'YAQGTUQbCohUIetXFGlm', 'qxnAydKMtMSuafVrMzdC',\n",
       "       'TPmcSCdCeBenCRczRhPK', 'pZxsQwZOmQEsKGihkkds',\n",
       "       'IRKNegNgOUQLwudzMElF', 'SoCnOWJkUDarGowlGDnC',\n",
       "       'vAUKqgVpFlghMFvCyBIl', 'sLQbYFRIWJPmCqXsQgTS',\n",
       "       'IXTKLknIYjJQZcDSDKPL', 'oVRrinVXnwQkBsdFlKCa',\n",
       "       'gNOygIoePsujXLVGYNZi', 'gEydMgyogRBSsihrQQwd',\n",
       "       'zeAhgziIlupwjQfwRisw', 'mtQufDECJCXyKwpKQPvz',\n",
       "       'RmEBuqrriAfAVsLQQmhk', 'geDcueAOghDzHkGMmdOq',\n",
       "       'sYTAOjoipTHhTMmUjbIx', 'UFjBFJhIpQsfVIWQKdaW',\n",
       "       'QzAELPgNYUjFjCPggkiD', 'HFaOtpcChAlcMuxEAlpu',\n",
       "       'CXUMHTKDPKDgDkGDcDjy', 'KSpBvMRGOrzuwPcKggOa',\n",
       "       'PKriXrefSFPLBYtCRGSE', 'DfoBrvtzFbohFKcUrmMV',\n",
       "       'NAGIDBigiKYOOmeMVBQq', 'IOQFgDqnjywyYyRldWoF',\n",
       "       'bPGeWWXPmJNDEUOxhfYY', 'UNcVvIncdXEfyysCnEDP',\n",
       "       'JvXenhWHxCJUrVZhrGMS', 'iSHFQRYsNeVeKceWxpSo',\n",
       "       'fHHhKlkKELjsiivkpZSF', 'MBGYWAQSYWUphNxTsAWD',\n",
       "       'DWLxnPuFDXvGQTIRHNMJ', 'ZHCJROlbqnkXTqIuVxnm',\n",
       "       'fBaFZNWyrwtUZQWItcsr', 'GbuDbHhyctlqNtNRnebC',\n",
       "       'NgvIEWbVuckjhbPiqDzr', 'fkhLOTqvIJxkHksTSIzX',\n",
       "       'BTRXXRKRDzPJDwsbtyIL', 'vZqcBrFwxYPoYzJyhYGI',\n",
       "       'jUuukNIbGoOYdGYzBthG', 'zhmDvzviWNMgxXuZASKu',\n",
       "       'VbwhIlTuTQfiffXsGgWV', 'UDwbPOvNChIeCDrGWlDQ',\n",
       "       'DYPQuQTZCBDnCWMJOzqR', 'CIAskiBSlPVrlMWbbWfu',\n",
       "       'xKilurCKKiYaehWwdleb', 'CqeIpFwJscTsZoYXdHsP',\n",
       "       'enrUjlPmoRCCSQCEJpCp', 'azajeHUvPOKkHBvWFbjz',\n",
       "       'pbDudNzVMOgnBNGCXLTy', 'nnaPUJiwrEHwnRkuzmDD',\n",
       "       'PVFXnspnruelCtUpjRiI', 'riZJIarZWJvhdHWdDrux',\n",
       "       'vbDXvNFpmAgCDpNuuaPT', 'mzJXHtJPIOSHoHtgezIA',\n",
       "       'XzfzEBYZWgSDtJNXOadn', 'JkhCpeDGCtTwhwqWLywv',\n",
       "       'fzbotReoFzSuckjwcpCs', 'KCcEkEaKEtUilBVMoCAi',\n",
       "       'ySpKPVDYCgmkHVSeLjnJ', 'MHdHrBKQwbDaRalwnlJq',\n",
       "       'qOAPxwpizrrMICrEYPqL', 'KLznuVEblkSupUDWtCge',\n",
       "       'CqFuKxSYgtGbcafqJwij', 'QftOBnqPiHPTqiRZihxu',\n",
       "       'opDQAVOMtCAjZrYyRdJb', 'chmITvDSGkTMoJvvoUQz',\n",
       "       'ssImHEVdprbqxSDUnKEZ', 'EsbMmeeLGwoYJmQRMBxd',\n",
       "       'ehLonfPENrOEoPTIyiOZ', 'SbYAsCvXapXBOIxEKBZs',\n",
       "       'lndNIerCYECRQvBTyTye', 'zFCiMWkbbAhTflrlLWnz',\n",
       "       'vHbfNwUgmVpYgEczIXDW', 'hIquLOydEXoeZjuqwKvP',\n",
       "       'cQRpDybanXRyHUvzJmgo', 'vzVHtUqdxJZtwimyfRnw',\n",
       "       'nwKBdMZKktIQFvhZwbFe', 'GpiDILvimvLtLBlqOeTQ',\n",
       "       'oCqKpnSZJeYOVZTgTmKR', 'zXjuoqEaPElBnwpSHMpx',\n",
       "       'cqgnjDbqrtCipVvzhxqa', 'eBgdbiFvTJMytFSiMBgO',\n",
       "       'UJEPFwUhLuXISIccsLnP', 'AdtHYglxfCpTpwZeTAuW',\n",
       "       'JXhFObdOttDFJXtNDBuH', 'eYRDXZIocNyHVjEHzesr',\n",
       "       'kjULrCjbRVbJtOfWpmQI', 'nRpmmNsxMgmMTssAVHFx',\n",
       "       'qPDTdivQVeflLjTYIJnG', 'XGOsamgBesNClOIokPJY',\n",
       "       'qWwWPqRITbGahtXJnhQM', 'jOKkxDtEgXaQRrvJuOBq',\n",
       "       'kGgpyeEtacYWhzbuuWMR', 'kKtSojgDlfomwthXhPjz',\n",
       "       'HXlcbndflGLufMTnkOso', 'twJlyhuKiWhbEOmUvhDk',\n",
       "       'YlsczTIyBSwTLNtuDkCd', 'YWSizludtZnOxvXZCLip',\n",
       "       'ZNhSIPchlbnKwZWcsKzz', 'JcVHXwVSrnfIuOMMEkrJ',\n",
       "       'pSXvqeeLXicMCzTYwAMy', 'WUAADskMKtAjHudRNZNk',\n",
       "       'LigOnUObPodLDexszDtn', 'vaWGoewhkfsUoVkjyUBy',\n",
       "       'GYkgJdhSxirUFPHFiYSe', 'tWBQlsvNfHxRUjaPAfhd',\n",
       "       'jCIRaffxlokbeWIRXHKg', 'nrKihqcWGIzDsOqljdAv',\n",
       "       'FGuKxIlHfUzjrXnJWuBo', 'vgnFYqlaqdoLREHruWar',\n",
       "       'dITetAFbdxWiRaArKHRu', 'YflAKtEwXjstllfZgfhN',\n",
       "       'JSpqZazJfaFgfkyRxcgv', 'UgWjaOmKUxPFucSbwvSq',\n",
       "       'wiaGHeLepWDNwXuBHvDB', 'DHyodCvEfFUSiyuabgaG',\n",
       "       'BuVfXQUpDeZxcCIozRZm', 'YwbyBjVdPyyaRwqdjxpq',\n",
       "       'mfMzuDnnxZoVzgSxUxeJ', 'PntUWqsXgSZmBgZOAyqP',\n",
       "       'TwMQGFwDtGdibAEpQHYs', 'cXxuwXPoQCvAXPHpFcZl'], dtype=object)"
      ]
     },
     "execution_count": 55,
     "metadata": {},
     "output_type": "execute_result"
    }
   ],
   "source": [
    "df_united_clean.utm_campaign.unique()"
   ]
  },
  {
   "cell_type": "code",
   "execution_count": 56,
   "metadata": {},
   "outputs": [
    {
     "data": {
      "text/plain": [
       "array(['sub_landing', 'sub_view_cars_click', 'search_form_region',\n",
       "       'quiz_show', 'search_form_search_btn', 'view_card', 'sub_car_page',\n",
       "       'view_new_card', 'quiz_start', 'search_kpp', 'search_drive',\n",
       "       'chat requested', 'go_to_car_card', 'chat established',\n",
       "       'listing_ads_sort', 'search_form_rental', 'search_form_cost_to',\n",
       "       'search_form_cost_from', 'search_steering_wheel',\n",
       "       'proactive invitation shown', 'proactive invitation accepted',\n",
       "       'user gave contacts during chat',\n",
       "       'search_form_search_car_type_select', 'view_more_click',\n",
       "       'sub_offer_click', 'sub_footer_link_click', 'start_auth',\n",
       "       'show_phone_input', 'go_to_terms', 'search_form_mark_select',\n",
       "       'photos_all', 'showed_number_ads', 'search_form_model_select',\n",
       "       'search_form_model_multiselec', 'greenday_get_gift',\n",
       "       'pagination_click', 'search_form_year_from', 'photos',\n",
       "       'go_to_offer', 'sub_header_link_click', 'click_on_logo',\n",
       "       'search_form_modification_select', 'search_engine',\n",
       "       'proactive invitation rejected', 'search_body_type',\n",
       "       'sap_search_form_cost_to', 'sub_car_claim_click', 'go_to_job',\n",
       "       'sub_submit_success', 'sub_car_claim_submit_click', 'analystlabel',\n",
       "       'sub_car_request_submit_click', 'showed_active_invitation',\n",
       "       'search_form_clear', 'start_chat', 'toggle_leasing_cars_show',\n",
       "       'sub_faq', 'sub_view_faq_click', 'go_to_special_offers',\n",
       "       'search_color', 'sap_search_form_cost_from',\n",
       "       'click_on_start_chatting', 'show_form_lets_get_acquainted',\n",
       "       'automatic_return_to_chat', 'code_sms_entered_success',\n",
       "       'phone_auth_success', 'name_entered', 'surname_entered',\n",
       "       'show_sms_code_input', 'user_message', 'phone_entered',\n",
       "       'click_on_confirm_sms_code', 'click_on_get_code',\n",
       "       'greenday_get_discount', 'click_on_subscription',\n",
       "       'sub_open_dialog_click', 'sub_call_number_click', 'open_offer',\n",
       "       'greenday_go_to_car_card', 'greenday_sub_view_cars_click',\n",
       "       'patronymic_entered', 'go_to_privacy_policy',\n",
       "       'sub_callback_submit_click', 'sber_id_auth_start', 'click_on_menu',\n",
       "       'go_to_my_idea', 'phone_auth_start',\n",
       "       'click_skip_form_lets_get_acquainted', 'search_power_from',\n",
       "       'search_power_to', 'scrolling_to_advantages', 'click_on_category',\n",
       "       'scrolling_to_services', 'auto_subscription_click',\n",
       "       'search_form_year_to', 'go_to_press_center', 'search_km_to',\n",
       "       'search_km_from', 'search_form_mark_multiselect',\n",
       "       'tap_on_phone_800', 'share_btn', 'view_used_card',\n",
       "       'sub_banner_click', 'click_car_buyback', 'go_to_privacy_partners',\n",
       "       'greenday_sub_submit_success',\n",
       "       'greenday_sub_callback_submit_click', 'go_to_support',\n",
       "       'click_on_my_data', 'sber_id_auth_success', 'client initiate chat',\n",
       "       'prechat phrase clicked', 'jivo_telegram',\n",
       "       'scrolling_to_help_in_finding_banner', 'code_sms_incorrect_in',\n",
       "       'back_to_change_phone', 'green_day_road_help_banner_show',\n",
       "       'tap_on_phone_495', 'add_ad_btn', 'jivo_viber',\n",
       "       'scrolling_to_sub_quick_categories', 'showed_call_options',\n",
       "       'click_on_contact_us', 'show_popup_this_is_your_account',\n",
       "       'click_on_yes_its_me', 'greenday_sub_view_faq_click',\n",
       "       'sub_custom_question_submit_click', 'click_no_help_needed',\n",
       "       'greenday_sub_header_link_click', 'typing_in_leasing_chat',\n",
       "       'sub_account_page', 'jivo_facebook',\n",
       "       'new_year_road_help_banner_show', 'insurance_show',\n",
       "       'scrolling_to_sub_banner', 'click_on_my_ads',\n",
       "       'click_setelem_credit', 'click_pos_credit', 'greenday_sub_landing',\n",
       "       'calculate', 'click_buy_auto', 'click_free_car_selection',\n",
       "       'send_code_sms_again', 'click_on_wallet',\n",
       "       'showed_form_request_call', 'click_on_request_call',\n",
       "       'offline message sent', 'sub_submit_error',\n",
       "       'greenday_sub_open_dialog_click',\n",
       "       'show_plug_entered_six_months_ago', 'click_auto_subscription',\n",
       "       'greenday_sub_submit_error', 'greenday_view_new_card',\n",
       "       'click_on_credit_btn', 'click_go_to_car_search', 'click_auto',\n",
       "       'click_on_privacy_policy', 'greenday_sub_footer_link_click',\n",
       "       'offline form shown', 'code_sms_limit_error', 'request',\n",
       "       'request_success', 'click_on_terms', 'show_captha_error',\n",
       "       'sub_custom_failed_submit_click', 'click_car_selection',\n",
       "       'close_form', 'tesla_banner_show', 'jivo_vkontakte',\n",
       "       'name_entered_on_form_request_call', 'form_request_call_sent',\n",
       "       'click_on_phone', 'phone_entered_on_form_request_call',\n",
       "       'client answer on agent request', 'callback button',\n",
       "       'forward_to_city', 'forward_to_photo', 'forward_to_price',\n",
       "       'forward_to_options', 'forward_to_preview', 'forward_to_documents',\n",
       "       'forward_to_description', 'forward_to_additional_information',\n",
       "       'success_ad_creation', 'forward_to_to_publish', 'back_to_options',\n",
       "       'sber_id_auth_back_error', 'greenday_sub_rules',\n",
       "       'greenday_sub_call_number_click', 'setelem_credit_form_button',\n",
       "       'mobile call', 'click_on_ok', 'backward_to_price',\n",
       "       'click_insurance', 'read_more', 'survey_buy_after_sell_start',\n",
       "       'callback requested', 'click_sell_car',\n",
       "       'show_popup_error_confirmation', 'backward_to_basic_data',\n",
       "       'from_credit_landing_pos', 'sber_id_auth_error',\n",
       "       'click_on_help_in_finding', 'sber_id_auth_click_on_deactivation',\n",
       "       'sber_id_auth_show_deactivation_popup', 'click_on_close',\n",
       "       'tinkoff_credit_form_button', 'click_credit',\n",
       "       'potential_banner_show', 'potential_banner_click',\n",
       "       'sravni_credit_form_button', 'click_on_apple',\n",
       "       'click_on_create_new_account',\n",
       "       'click_on_create_new_account_confirmation',\n",
       "       'setelem_postzalog_retargeting_button',\n",
       "       'backward_to_additional_information', 'click_sell', 'click_titul',\n",
       "       'titul_page_view', 'show_pos_status_declined',\n",
       "       'new_year_road_help_btn', 'rating_banner_show', 'backward_to_city',\n",
       "       'backward_to_photo', 'backward_to_options',\n",
       "       'backward_to_documents', 'backward_to_description',\n",
       "       'continue in social', 'survey_buy_after_sell_when',\n",
       "       'click_on_android'], dtype=object)"
      ]
     },
     "execution_count": 56,
     "metadata": {},
     "output_type": "execute_result"
    }
   ],
   "source": [
    "df_united_clean.event_action.unique()"
   ]
  },
  {
   "cell_type": "code",
   "execution_count": 57,
   "metadata": {},
   "outputs": [
    {
     "data": {
      "text/plain": [
       "array(['sub_page_view', 'sub_button_click', 'search_form', 'quiz',\n",
       "       'card_web', 'jivosite', 'listing_ads', 'cars', 'auth', 'footer',\n",
       "       'greenday_sub_button_click', 'offers', 'navigation',\n",
       "       'sap_search_form', 'sub_submit', 'ad_banner', 'active_invitation',\n",
       "       'chat', 'sap_search__form', 'main_banners', 'greenday_listing_ads',\n",
       "       'profile_menu', 'my_idea', 'scrolling_main_page', 'category_tile',\n",
       "       'header', 'greenday_sub_submit', 'greenday_gtm.triggergroup',\n",
       "       'add_ad', 'phone', 'main_services', 'credit_landing_pos',\n",
       "       'main_advantages', 'greenday_card_web', 'wallet', 'add_ad_vin',\n",
       "       'tesla', 'add_ad_options', 'add_ad_price', 'add_ad_city',\n",
       "       'add_ad_additional_information', 'add_ad_documents',\n",
       "       'add_ad_description', 'add_ad_photo', 'add_ad_publish_success',\n",
       "       'add_ad_preview', 'greenday_sub_page_view', 'credit_buttons',\n",
       "       'add_ad_form', 'pos_landing', 'app_banner', 'titul_form'],\n",
       "      dtype=object)"
      ]
     },
     "execution_count": 57,
     "metadata": {},
     "output_type": "execute_result"
    }
   ],
   "source": [
    "df_united_clean.event_category.unique()"
   ]
  },
  {
   "cell_type": "code",
   "execution_count": null,
   "metadata": {},
   "outputs": [],
   "source": []
  }
 ],
 "metadata": {
  "colab": {
   "provenance": []
  },
  "kernelspec": {
   "display_name": "Python 3 (ipykernel)",
   "language": "python",
   "name": "python3"
  },
  "language_info": {
   "codemirror_mode": {
    "name": "ipython",
    "version": 3
   },
   "file_extension": ".py",
   "mimetype": "text/x-python",
   "name": "python",
   "nbconvert_exporter": "python",
   "pygments_lexer": "ipython3",
   "version": "3.11.4"
  }
 },
 "nbformat": 4,
 "nbformat_minor": 4
}
