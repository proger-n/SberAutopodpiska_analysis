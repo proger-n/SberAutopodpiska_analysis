{
 "cells": [
  {
   "cell_type": "markdown",
   "metadata": {
    "id": "KdPm6UfGZNZR"
   },
   "source": [
    "# 0. Description & Targets\n",
    "Целевые действия:\n",
    "'sub_car_claim_click', 'sub_car_claim_submit_click',\n",
    "'sub_open_dialog_click', 'sub_custom_question_submit_click',\n",
    "'sub_call_number_click', 'sub_callback_submit_click', 'sub_submit_success',\n",
    "'sub_car_request_submit_click'\n",
    "\n",
    "Реклама в социальных сетях — все визиты с ga_sessions.utm_source in\n",
    "('QxAxdyPLuQMEcrdZWdWb', 'MvfHsxITijuriZxsqZqt', 'ISrKoXQCxqqYvAZICvjs',\n",
    "IZEXUFLARCUMynmHNBGo', 'PlbkrSYoHuZBWfYjYnfw',\n",
    "'gVRrcxiDQubJiljoTbGm').\n",
    "\n",
    "\n",
    "#### - Проведите проверку следующих гипотез:\n",
    "1. Органический трафик не отличается от платного с точки зрения CR (Conversion Rate) в целевые события.\n",
    "2. Трафик с мобильных устройств не отличается от трафика с десктопных устройств с точки зрения CR (Conversion Rate) в целевые события.\n",
    "3. Трафик из городов присутствия (Москва и область, Санкт-Петербург) не отличается от трафика из иных регионов с точки зрения CR (Conversion Rate) в целевые события\n",
    "\n",
    "\n",
    "#### - Ответьте на вопросы продуктовой команды:\n",
    "1. Из каких источников (кампаний, устройств, локаций) к нам идёт самый целевой трафик (и с точки зрения объёма трафика, и с точки зрения CR)?\n",
    "2. Какие авто пользуются наибольшим спросом? У каких авто самый лучший показатель CR (Conversion Rate) в целевые события?\n",
    "3. Стоит ли нам увеличивать своё присутствие в соцсетях и давать там больше рекламы?"
   ]
  },
  {
   "cell_type": "markdown",
   "metadata": {
    "id": "ziNRzd_KRsuN"
   },
   "source": [
    "# 1.Data preparation"
   ]
  },
  {
   "cell_type": "code",
   "execution_count": 1,
   "metadata": {
    "id": "tIzQKRx68xJt"
   },
   "outputs": [],
   "source": [
    "import pandas as pd\n",
    "import missingno as msno\n",
    "import seaborn as sns\n",
    "import matplotlib.pyplot as plt\n",
    "sns.set()"
   ]
  },
  {
   "cell_type": "code",
   "execution_count": 2,
   "metadata": {
    "colab": {
     "base_uri": "https://localhost:8080/",
     "height": 357
    },
    "id": "YvwFiNEd-n1s",
    "outputId": "f6c0dfc7-7a50-492f-efaf-74f5a1cd8bbd"
   },
   "outputs": [
    {
     "data": {
      "text/html": [
       "<div>\n",
       "<style scoped>\n",
       "    .dataframe tbody tr th:only-of-type {\n",
       "        vertical-align: middle;\n",
       "    }\n",
       "\n",
       "    .dataframe tbody tr th {\n",
       "        vertical-align: top;\n",
       "    }\n",
       "\n",
       "    .dataframe thead th {\n",
       "        text-align: right;\n",
       "    }\n",
       "</style>\n",
       "<table border=\"1\" class=\"dataframe\">\n",
       "  <thead>\n",
       "    <tr style=\"text-align: right;\">\n",
       "      <th></th>\n",
       "      <th>session_id</th>\n",
       "      <th>hit_date</th>\n",
       "      <th>hit_time</th>\n",
       "      <th>hit_number</th>\n",
       "      <th>hit_type</th>\n",
       "      <th>hit_referer</th>\n",
       "      <th>hit_page_path</th>\n",
       "      <th>event_category</th>\n",
       "      <th>event_action</th>\n",
       "      <th>event_label</th>\n",
       "      <th>event_value</th>\n",
       "    </tr>\n",
       "  </thead>\n",
       "  <tbody>\n",
       "    <tr>\n",
       "      <th>0</th>\n",
       "      <td>5639623078712724064.1640254056.1640254056</td>\n",
       "      <td>2021-12-23</td>\n",
       "      <td>597864.0</td>\n",
       "      <td>30</td>\n",
       "      <td>event</td>\n",
       "      <td>NaN</td>\n",
       "      <td>sberauto.com/cars?utm_source_initial=google&amp;ut...</td>\n",
       "      <td>quiz</td>\n",
       "      <td>quiz_show</td>\n",
       "      <td>NaN</td>\n",
       "      <td>NaN</td>\n",
       "    </tr>\n",
       "    <tr>\n",
       "      <th>1</th>\n",
       "      <td>7750352294969115059.1640271109.1640271109</td>\n",
       "      <td>2021-12-23</td>\n",
       "      <td>597331.0</td>\n",
       "      <td>41</td>\n",
       "      <td>event</td>\n",
       "      <td>NaN</td>\n",
       "      <td>sberauto.com/cars/fiat?city=1&amp;city=18&amp;rental_c...</td>\n",
       "      <td>quiz</td>\n",
       "      <td>quiz_show</td>\n",
       "      <td>NaN</td>\n",
       "      <td>NaN</td>\n",
       "    </tr>\n",
       "    <tr>\n",
       "      <th>2</th>\n",
       "      <td>885342191847998240.1640235807.1640235807</td>\n",
       "      <td>2021-12-23</td>\n",
       "      <td>796252.0</td>\n",
       "      <td>49</td>\n",
       "      <td>event</td>\n",
       "      <td>NaN</td>\n",
       "      <td>sberauto.com/cars/all/volkswagen/polo/e994838f...</td>\n",
       "      <td>quiz</td>\n",
       "      <td>quiz_show</td>\n",
       "      <td>NaN</td>\n",
       "      <td>NaN</td>\n",
       "    </tr>\n",
       "    <tr>\n",
       "      <th>3</th>\n",
       "      <td>142526202120934167.1640211014.1640211014</td>\n",
       "      <td>2021-12-23</td>\n",
       "      <td>934292.0</td>\n",
       "      <td>46</td>\n",
       "      <td>event</td>\n",
       "      <td>NaN</td>\n",
       "      <td>sberauto.com/cars?utm_source_initial=yandex&amp;ut...</td>\n",
       "      <td>quiz</td>\n",
       "      <td>quiz_show</td>\n",
       "      <td>NaN</td>\n",
       "      <td>NaN</td>\n",
       "    </tr>\n",
       "    <tr>\n",
       "      <th>4</th>\n",
       "      <td>3450086108837475701.1640265078.1640265078</td>\n",
       "      <td>2021-12-23</td>\n",
       "      <td>768741.0</td>\n",
       "      <td>79</td>\n",
       "      <td>event</td>\n",
       "      <td>NaN</td>\n",
       "      <td>sberauto.com/cars/all/mercedes-benz/cla-klasse...</td>\n",
       "      <td>quiz</td>\n",
       "      <td>quiz_show</td>\n",
       "      <td>NaN</td>\n",
       "      <td>NaN</td>\n",
       "    </tr>\n",
       "  </tbody>\n",
       "</table>\n",
       "</div>"
      ],
      "text/plain": [
       "                                  session_id    hit_date  hit_time  \\\n",
       "0  5639623078712724064.1640254056.1640254056  2021-12-23  597864.0   \n",
       "1  7750352294969115059.1640271109.1640271109  2021-12-23  597331.0   \n",
       "2   885342191847998240.1640235807.1640235807  2021-12-23  796252.0   \n",
       "3   142526202120934167.1640211014.1640211014  2021-12-23  934292.0   \n",
       "4  3450086108837475701.1640265078.1640265078  2021-12-23  768741.0   \n",
       "\n",
       "   hit_number hit_type hit_referer  \\\n",
       "0          30    event         NaN   \n",
       "1          41    event         NaN   \n",
       "2          49    event         NaN   \n",
       "3          46    event         NaN   \n",
       "4          79    event         NaN   \n",
       "\n",
       "                                       hit_page_path event_category  \\\n",
       "0  sberauto.com/cars?utm_source_initial=google&ut...           quiz   \n",
       "1  sberauto.com/cars/fiat?city=1&city=18&rental_c...           quiz   \n",
       "2  sberauto.com/cars/all/volkswagen/polo/e994838f...           quiz   \n",
       "3  sberauto.com/cars?utm_source_initial=yandex&ut...           quiz   \n",
       "4  sberauto.com/cars/all/mercedes-benz/cla-klasse...           quiz   \n",
       "\n",
       "  event_action event_label  event_value  \n",
       "0    quiz_show         NaN          NaN  \n",
       "1    quiz_show         NaN          NaN  \n",
       "2    quiz_show         NaN          NaN  \n",
       "3    quiz_show         NaN          NaN  \n",
       "4    quiz_show         NaN          NaN  "
      ]
     },
     "execution_count": 2,
     "metadata": {},
     "output_type": "execute_result"
    }
   ],
   "source": [
    "# df_hits = pd.read_csv('https://drive.google.com/uc?export=download&confirm=no_antivirus&id=1aWTUBZoxDctNs-ldqEw-9dw0X2zR9upd')\n",
    "df_hits = pd.read_csv('ga_hits.csv')\n",
    "df_hits.head()"
   ]
  },
  {
   "cell_type": "code",
   "execution_count": 3,
   "metadata": {},
   "outputs": [
    {
     "data": {
      "text/html": [
       "<div>\n",
       "<style scoped>\n",
       "    .dataframe tbody tr th:only-of-type {\n",
       "        vertical-align: middle;\n",
       "    }\n",
       "\n",
       "    .dataframe tbody tr th {\n",
       "        vertical-align: top;\n",
       "    }\n",
       "\n",
       "    .dataframe thead th {\n",
       "        text-align: right;\n",
       "    }\n",
       "</style>\n",
       "<table border=\"1\" class=\"dataframe\">\n",
       "  <thead>\n",
       "    <tr style=\"text-align: right;\">\n",
       "      <th></th>\n",
       "      <th>session_id</th>\n",
       "      <th>event_action</th>\n",
       "      <th>hit_page_path</th>\n",
       "    </tr>\n",
       "  </thead>\n",
       "  <tbody>\n",
       "    <tr>\n",
       "      <th>0</th>\n",
       "      <td>5639623078712724064.1640254056.1640254056</td>\n",
       "      <td>quiz_show</td>\n",
       "      <td>sberauto.com/cars?utm_source_initial=google&amp;ut...</td>\n",
       "    </tr>\n",
       "    <tr>\n",
       "      <th>1</th>\n",
       "      <td>7750352294969115059.1640271109.1640271109</td>\n",
       "      <td>quiz_show</td>\n",
       "      <td>sberauto.com/cars/fiat?city=1&amp;city=18&amp;rental_c...</td>\n",
       "    </tr>\n",
       "    <tr>\n",
       "      <th>2</th>\n",
       "      <td>885342191847998240.1640235807.1640235807</td>\n",
       "      <td>quiz_show</td>\n",
       "      <td>sberauto.com/cars/all/volkswagen/polo/e994838f...</td>\n",
       "    </tr>\n",
       "    <tr>\n",
       "      <th>3</th>\n",
       "      <td>142526202120934167.1640211014.1640211014</td>\n",
       "      <td>quiz_show</td>\n",
       "      <td>sberauto.com/cars?utm_source_initial=yandex&amp;ut...</td>\n",
       "    </tr>\n",
       "    <tr>\n",
       "      <th>4</th>\n",
       "      <td>3450086108837475701.1640265078.1640265078</td>\n",
       "      <td>quiz_show</td>\n",
       "      <td>sberauto.com/cars/all/mercedes-benz/cla-klasse...</td>\n",
       "    </tr>\n",
       "  </tbody>\n",
       "</table>\n",
       "</div>"
      ],
      "text/plain": [
       "                                  session_id event_action  \\\n",
       "0  5639623078712724064.1640254056.1640254056    quiz_show   \n",
       "1  7750352294969115059.1640271109.1640271109    quiz_show   \n",
       "2   885342191847998240.1640235807.1640235807    quiz_show   \n",
       "3   142526202120934167.1640211014.1640211014    quiz_show   \n",
       "4  3450086108837475701.1640265078.1640265078    quiz_show   \n",
       "\n",
       "                                       hit_page_path  \n",
       "0  sberauto.com/cars?utm_source_initial=google&ut...  \n",
       "1  sberauto.com/cars/fiat?city=1&city=18&rental_c...  \n",
       "2  sberauto.com/cars/all/volkswagen/polo/e994838f...  \n",
       "3  sberauto.com/cars?utm_source_initial=yandex&ut...  \n",
       "4  sberauto.com/cars/all/mercedes-benz/cla-klasse...  "
      ]
     },
     "execution_count": 3,
     "metadata": {},
     "output_type": "execute_result"
    }
   ],
   "source": [
    "df_hits_usable = df_hits[['session_id', 'event_action', 'hit_page_path']]\n",
    "df_hits_usable.head()"
   ]
  },
  {
   "cell_type": "code",
   "execution_count": 4,
   "metadata": {},
   "outputs": [
    {
     "name": "stderr",
     "output_type": "stream",
     "text": [
      "C:\\Users\\NA_PC\\AppData\\Local\\Temp\\ipykernel_224\\1655697762.py:1: SettingWithCopyWarning: \n",
      "A value is trying to be set on a copy of a slice from a DataFrame.\n",
      "Try using .loc[row_indexer,col_indexer] = value instead\n",
      "\n",
      "See the caveats in the documentation: https://pandas.pydata.org/pandas-docs/stable/user_guide/indexing.html#returning-a-view-versus-a-copy\n",
      "  df_hits_usable['target'] = df_hits_usable.event_action.isin(['sub_car_claim_click', 'sub_car_claim_submit_click',\n"
     ]
    }
   ],
   "source": [
    "df_hits_usable['target'] = df_hits_usable.event_action.isin(['sub_car_claim_click', 'sub_car_claim_submit_click',\n",
    "'sub_open_dialog_click', 'sub_custom_question_submit_click',\n",
    "'sub_call_number_click', 'sub_callback_submit_click', 'sub_submit_success',\n",
    "'sub_car_request_submit_click'])\n"
   ]
  },
  {
   "cell_type": "code",
   "execution_count": 5,
   "metadata": {},
   "outputs": [],
   "source": [
    "df_hits_usable = pd.pivot_table(df_hits_usable,\n",
    "               index=[\"session_id\"],\n",
    "               values=[\"target\", \"hit_page_path\"],\n",
    "               aggfunc={\"target\": sum, \"hit_page_path\": 'first'}\n",
    "               ).reset_index()"
   ]
  },
  {
   "cell_type": "code",
   "execution_count": 6,
   "metadata": {
    "colab": {
     "base_uri": "https://localhost:8080/",
     "height": 306
    },
    "id": "Z8AwJQJi-20l",
    "outputId": "e272f443-4cba-4ebe-b7bb-6afb07e3b80e"
   },
   "outputs": [
    {
     "name": "stderr",
     "output_type": "stream",
     "text": [
      "C:\\Users\\NA_PC\\AppData\\Local\\Temp\\ipykernel_224\\3424410790.py:2: DtypeWarning: Columns (1) have mixed types. Specify dtype option on import or set low_memory=False.\n",
      "  df_sessions = pd.read_csv('ga_sessions.csv')\n"
     ]
    },
    {
     "data": {
      "text/html": [
       "<div>\n",
       "<style scoped>\n",
       "    .dataframe tbody tr th:only-of-type {\n",
       "        vertical-align: middle;\n",
       "    }\n",
       "\n",
       "    .dataframe tbody tr th {\n",
       "        vertical-align: top;\n",
       "    }\n",
       "\n",
       "    .dataframe thead th {\n",
       "        text-align: right;\n",
       "    }\n",
       "</style>\n",
       "<table border=\"1\" class=\"dataframe\">\n",
       "  <thead>\n",
       "    <tr style=\"text-align: right;\">\n",
       "      <th></th>\n",
       "      <th>session_id</th>\n",
       "      <th>client_id</th>\n",
       "      <th>visit_date</th>\n",
       "      <th>visit_time</th>\n",
       "      <th>visit_number</th>\n",
       "      <th>utm_source</th>\n",
       "      <th>utm_medium</th>\n",
       "      <th>utm_campaign</th>\n",
       "      <th>utm_adcontent</th>\n",
       "      <th>utm_keyword</th>\n",
       "      <th>device_category</th>\n",
       "      <th>device_os</th>\n",
       "      <th>device_brand</th>\n",
       "      <th>device_model</th>\n",
       "      <th>device_screen_resolution</th>\n",
       "      <th>device_browser</th>\n",
       "      <th>geo_country</th>\n",
       "      <th>geo_city</th>\n",
       "    </tr>\n",
       "  </thead>\n",
       "  <tbody>\n",
       "    <tr>\n",
       "      <th>0</th>\n",
       "      <td>9055434745589932991.1637753792.1637753792</td>\n",
       "      <td>2108382700.163776</td>\n",
       "      <td>2021-11-24</td>\n",
       "      <td>14:36:32</td>\n",
       "      <td>1</td>\n",
       "      <td>ZpYIoDJMcFzVoPFsHGJL</td>\n",
       "      <td>banner</td>\n",
       "      <td>LEoPHuyFvzoNfnzGgfcd</td>\n",
       "      <td>vCIpmpaGBnIQhyYNkXqp</td>\n",
       "      <td>puhZPIYqKXeFPaUviSjo</td>\n",
       "      <td>mobile</td>\n",
       "      <td>Android</td>\n",
       "      <td>Huawei</td>\n",
       "      <td>NaN</td>\n",
       "      <td>360x720</td>\n",
       "      <td>Chrome</td>\n",
       "      <td>Russia</td>\n",
       "      <td>Zlatoust</td>\n",
       "    </tr>\n",
       "    <tr>\n",
       "      <th>1</th>\n",
       "      <td>905544597018549464.1636867290.1636867290</td>\n",
       "      <td>210838531.163687</td>\n",
       "      <td>2021-11-14</td>\n",
       "      <td>08:21:30</td>\n",
       "      <td>1</td>\n",
       "      <td>MvfHsxITijuriZxsqZqt</td>\n",
       "      <td>cpm</td>\n",
       "      <td>FTjNLDyTrXaWYgZymFkV</td>\n",
       "      <td>xhoenQgDQsgfEPYNPwKO</td>\n",
       "      <td>IGUCNvHlhfHpROGclCit</td>\n",
       "      <td>mobile</td>\n",
       "      <td>Android</td>\n",
       "      <td>Samsung</td>\n",
       "      <td>NaN</td>\n",
       "      <td>385x854</td>\n",
       "      <td>Samsung Internet</td>\n",
       "      <td>Russia</td>\n",
       "      <td>Moscow</td>\n",
       "    </tr>\n",
       "    <tr>\n",
       "      <th>2</th>\n",
       "      <td>9055446045651783499.1640648526.1640648526</td>\n",
       "      <td>2108385331.164065</td>\n",
       "      <td>2021-12-28</td>\n",
       "      <td>02:42:06</td>\n",
       "      <td>1</td>\n",
       "      <td>ZpYIoDJMcFzVoPFsHGJL</td>\n",
       "      <td>banner</td>\n",
       "      <td>LEoPHuyFvzoNfnzGgfcd</td>\n",
       "      <td>vCIpmpaGBnIQhyYNkXqp</td>\n",
       "      <td>puhZPIYqKXeFPaUviSjo</td>\n",
       "      <td>mobile</td>\n",
       "      <td>Android</td>\n",
       "      <td>Huawei</td>\n",
       "      <td>NaN</td>\n",
       "      <td>360x720</td>\n",
       "      <td>Chrome</td>\n",
       "      <td>Russia</td>\n",
       "      <td>Krasnoyarsk</td>\n",
       "    </tr>\n",
       "    <tr>\n",
       "      <th>3</th>\n",
       "      <td>9055447046360770272.1622255328.1622255328</td>\n",
       "      <td>2108385564.162225</td>\n",
       "      <td>2021-05-29</td>\n",
       "      <td>05:00:00</td>\n",
       "      <td>1</td>\n",
       "      <td>kjsLglQLzykiRbcDiGcD</td>\n",
       "      <td>cpc</td>\n",
       "      <td>NaN</td>\n",
       "      <td>NOBKLgtuvqYWkXQHeYWM</td>\n",
       "      <td>NaN</td>\n",
       "      <td>mobile</td>\n",
       "      <td>NaN</td>\n",
       "      <td>Xiaomi</td>\n",
       "      <td>NaN</td>\n",
       "      <td>393x786</td>\n",
       "      <td>Chrome</td>\n",
       "      <td>Russia</td>\n",
       "      <td>Moscow</td>\n",
       "    </tr>\n",
       "    <tr>\n",
       "      <th>4</th>\n",
       "      <td>9055447046360770272.1622255345.1622255345</td>\n",
       "      <td>2108385564.162225</td>\n",
       "      <td>2021-05-29</td>\n",
       "      <td>05:00:00</td>\n",
       "      <td>2</td>\n",
       "      <td>kjsLglQLzykiRbcDiGcD</td>\n",
       "      <td>cpc</td>\n",
       "      <td>NaN</td>\n",
       "      <td>NaN</td>\n",
       "      <td>NaN</td>\n",
       "      <td>mobile</td>\n",
       "      <td>NaN</td>\n",
       "      <td>Xiaomi</td>\n",
       "      <td>NaN</td>\n",
       "      <td>393x786</td>\n",
       "      <td>Chrome</td>\n",
       "      <td>Russia</td>\n",
       "      <td>Moscow</td>\n",
       "    </tr>\n",
       "  </tbody>\n",
       "</table>\n",
       "</div>"
      ],
      "text/plain": [
       "                                  session_id          client_id  visit_date  \\\n",
       "0  9055434745589932991.1637753792.1637753792  2108382700.163776  2021-11-24   \n",
       "1   905544597018549464.1636867290.1636867290   210838531.163687  2021-11-14   \n",
       "2  9055446045651783499.1640648526.1640648526  2108385331.164065  2021-12-28   \n",
       "3  9055447046360770272.1622255328.1622255328  2108385564.162225  2021-05-29   \n",
       "4  9055447046360770272.1622255345.1622255345  2108385564.162225  2021-05-29   \n",
       "\n",
       "  visit_time  visit_number            utm_source utm_medium  \\\n",
       "0   14:36:32             1  ZpYIoDJMcFzVoPFsHGJL     banner   \n",
       "1   08:21:30             1  MvfHsxITijuriZxsqZqt        cpm   \n",
       "2   02:42:06             1  ZpYIoDJMcFzVoPFsHGJL     banner   \n",
       "3   05:00:00             1  kjsLglQLzykiRbcDiGcD        cpc   \n",
       "4   05:00:00             2  kjsLglQLzykiRbcDiGcD        cpc   \n",
       "\n",
       "           utm_campaign         utm_adcontent           utm_keyword  \\\n",
       "0  LEoPHuyFvzoNfnzGgfcd  vCIpmpaGBnIQhyYNkXqp  puhZPIYqKXeFPaUviSjo   \n",
       "1  FTjNLDyTrXaWYgZymFkV  xhoenQgDQsgfEPYNPwKO  IGUCNvHlhfHpROGclCit   \n",
       "2  LEoPHuyFvzoNfnzGgfcd  vCIpmpaGBnIQhyYNkXqp  puhZPIYqKXeFPaUviSjo   \n",
       "3                   NaN  NOBKLgtuvqYWkXQHeYWM                   NaN   \n",
       "4                   NaN                   NaN                   NaN   \n",
       "\n",
       "  device_category device_os device_brand device_model  \\\n",
       "0          mobile   Android       Huawei          NaN   \n",
       "1          mobile   Android      Samsung          NaN   \n",
       "2          mobile   Android       Huawei          NaN   \n",
       "3          mobile       NaN       Xiaomi          NaN   \n",
       "4          mobile       NaN       Xiaomi          NaN   \n",
       "\n",
       "  device_screen_resolution    device_browser geo_country     geo_city  \n",
       "0                  360x720            Chrome      Russia     Zlatoust  \n",
       "1                  385x854  Samsung Internet      Russia       Moscow  \n",
       "2                  360x720            Chrome      Russia  Krasnoyarsk  \n",
       "3                  393x786            Chrome      Russia       Moscow  \n",
       "4                  393x786            Chrome      Russia       Moscow  "
      ]
     },
     "execution_count": 6,
     "metadata": {},
     "output_type": "execute_result"
    }
   ],
   "source": [
    "# df_sessions = pd.read_csv('https://drive.google.com/uc?export=download&confirm=no_antivirus&id=1GaQnAgzshXMl0WwKHI11e2dBjMjoTlfU')\n",
    "df_sessions = pd.read_csv('ga_sessions.csv')\n",
    "df_sessions.head()"
   ]
  },
  {
   "cell_type": "code",
   "execution_count": 127,
   "metadata": {},
   "outputs": [
    {
     "data": {
      "text/html": [
       "<div>\n",
       "<style scoped>\n",
       "    .dataframe tbody tr th:only-of-type {\n",
       "        vertical-align: middle;\n",
       "    }\n",
       "\n",
       "    .dataframe tbody tr th {\n",
       "        vertical-align: top;\n",
       "    }\n",
       "\n",
       "    .dataframe thead th {\n",
       "        text-align: right;\n",
       "    }\n",
       "</style>\n",
       "<table border=\"1\" class=\"dataframe\">\n",
       "  <thead>\n",
       "    <tr style=\"text-align: right;\">\n",
       "      <th></th>\n",
       "      <th>session_id</th>\n",
       "      <th>utm_source</th>\n",
       "      <th>utm_medium</th>\n",
       "      <th>utm_campaign</th>\n",
       "      <th>device_category</th>\n",
       "      <th>device_os</th>\n",
       "      <th>device_brand</th>\n",
       "      <th>device_model</th>\n",
       "      <th>device_browser</th>\n",
       "      <th>geo_country</th>\n",
       "      <th>geo_city</th>\n",
       "    </tr>\n",
       "  </thead>\n",
       "  <tbody>\n",
       "    <tr>\n",
       "      <th>0</th>\n",
       "      <td>9055434745589932991.1637753792.1637753792</td>\n",
       "      <td>ZpYIoDJMcFzVoPFsHGJL</td>\n",
       "      <td>banner</td>\n",
       "      <td>LEoPHuyFvzoNfnzGgfcd</td>\n",
       "      <td>mobile</td>\n",
       "      <td>Android</td>\n",
       "      <td>Huawei</td>\n",
       "      <td>NaN</td>\n",
       "      <td>Chrome</td>\n",
       "      <td>Russia</td>\n",
       "      <td>Zlatoust</td>\n",
       "    </tr>\n",
       "    <tr>\n",
       "      <th>1</th>\n",
       "      <td>905544597018549464.1636867290.1636867290</td>\n",
       "      <td>MvfHsxITijuriZxsqZqt</td>\n",
       "      <td>cpm</td>\n",
       "      <td>FTjNLDyTrXaWYgZymFkV</td>\n",
       "      <td>mobile</td>\n",
       "      <td>Android</td>\n",
       "      <td>Samsung</td>\n",
       "      <td>NaN</td>\n",
       "      <td>Samsung Internet</td>\n",
       "      <td>Russia</td>\n",
       "      <td>Moscow</td>\n",
       "    </tr>\n",
       "    <tr>\n",
       "      <th>2</th>\n",
       "      <td>9055446045651783499.1640648526.1640648526</td>\n",
       "      <td>ZpYIoDJMcFzVoPFsHGJL</td>\n",
       "      <td>banner</td>\n",
       "      <td>LEoPHuyFvzoNfnzGgfcd</td>\n",
       "      <td>mobile</td>\n",
       "      <td>Android</td>\n",
       "      <td>Huawei</td>\n",
       "      <td>NaN</td>\n",
       "      <td>Chrome</td>\n",
       "      <td>Russia</td>\n",
       "      <td>Krasnoyarsk</td>\n",
       "    </tr>\n",
       "    <tr>\n",
       "      <th>3</th>\n",
       "      <td>9055447046360770272.1622255328.1622255328</td>\n",
       "      <td>kjsLglQLzykiRbcDiGcD</td>\n",
       "      <td>cpc</td>\n",
       "      <td>NaN</td>\n",
       "      <td>mobile</td>\n",
       "      <td>NaN</td>\n",
       "      <td>Xiaomi</td>\n",
       "      <td>NaN</td>\n",
       "      <td>Chrome</td>\n",
       "      <td>Russia</td>\n",
       "      <td>Moscow</td>\n",
       "    </tr>\n",
       "    <tr>\n",
       "      <th>4</th>\n",
       "      <td>9055447046360770272.1622255345.1622255345</td>\n",
       "      <td>kjsLglQLzykiRbcDiGcD</td>\n",
       "      <td>cpc</td>\n",
       "      <td>NaN</td>\n",
       "      <td>mobile</td>\n",
       "      <td>NaN</td>\n",
       "      <td>Xiaomi</td>\n",
       "      <td>NaN</td>\n",
       "      <td>Chrome</td>\n",
       "      <td>Russia</td>\n",
       "      <td>Moscow</td>\n",
       "    </tr>\n",
       "  </tbody>\n",
       "</table>\n",
       "</div>"
      ],
      "text/plain": [
       "                                  session_id            utm_source utm_medium  \\\n",
       "0  9055434745589932991.1637753792.1637753792  ZpYIoDJMcFzVoPFsHGJL     banner   \n",
       "1   905544597018549464.1636867290.1636867290  MvfHsxITijuriZxsqZqt        cpm   \n",
       "2  9055446045651783499.1640648526.1640648526  ZpYIoDJMcFzVoPFsHGJL     banner   \n",
       "3  9055447046360770272.1622255328.1622255328  kjsLglQLzykiRbcDiGcD        cpc   \n",
       "4  9055447046360770272.1622255345.1622255345  kjsLglQLzykiRbcDiGcD        cpc   \n",
       "\n",
       "           utm_campaign device_category device_os device_brand device_model  \\\n",
       "0  LEoPHuyFvzoNfnzGgfcd          mobile   Android       Huawei          NaN   \n",
       "1  FTjNLDyTrXaWYgZymFkV          mobile   Android      Samsung          NaN   \n",
       "2  LEoPHuyFvzoNfnzGgfcd          mobile   Android       Huawei          NaN   \n",
       "3                   NaN          mobile       NaN       Xiaomi          NaN   \n",
       "4                   NaN          mobile       NaN       Xiaomi          NaN   \n",
       "\n",
       "     device_browser geo_country     geo_city  \n",
       "0            Chrome      Russia     Zlatoust  \n",
       "1  Samsung Internet      Russia       Moscow  \n",
       "2            Chrome      Russia  Krasnoyarsk  \n",
       "3            Chrome      Russia       Moscow  \n",
       "4            Chrome      Russia       Moscow  "
      ]
     },
     "execution_count": 127,
     "metadata": {},
     "output_type": "execute_result"
    }
   ],
   "source": [
    "# df_sessions_usable = df_sessions[['session_id', 'utm_source', 'utm_medium', 'device_category', 'geo_country', 'geo_city', 'device_os', 'device_brand', 'device_model']]\n",
    "df_sessions_usable = df_sessions.drop(columns=['client_id', 'visit_date', 'visit_time', 'visit_number', 'utm_adcontent', 'utm_keyword', 'device_screen_resolution'])\n",
    "df_sessions_usable.head()"
   ]
  },
  {
   "cell_type": "code",
   "execution_count": 128,
   "metadata": {
    "colab": {
     "base_uri": "https://localhost:8080/"
    },
    "id": "qtZmARS4QX8N",
    "outputId": "f8e37cd1-dd59-4bca-e7ef-011a7be4928b"
   },
   "outputs": [
    {
     "data": {
      "text/plain": [
       "(1860042, 11)"
      ]
     },
     "execution_count": 128,
     "metadata": {},
     "output_type": "execute_result"
    }
   ],
   "source": [
    "df_sessions_usable.shape"
   ]
  },
  {
   "cell_type": "code",
   "execution_count": 129,
   "metadata": {
    "colab": {
     "base_uri": "https://localhost:8080/"
    },
    "id": "KBVSqX5-RazN",
    "outputId": "abafe86c-f823-4d0b-9b1c-f4557a0ababa"
   },
   "outputs": [
    {
     "data": {
      "text/plain": [
       "(1734610, 3)"
      ]
     },
     "execution_count": 129,
     "metadata": {},
     "output_type": "execute_result"
    }
   ],
   "source": [
    "df_hits_usable.shape"
   ]
  },
  {
   "cell_type": "code",
   "execution_count": 130,
   "metadata": {},
   "outputs": [
    {
     "name": "stdout",
     "output_type": "stream",
     "text": [
      "1860042\n",
      "1734610\n"
     ]
    }
   ],
   "source": [
    "print(df_sessions_usable.session_id.nunique())\n",
    "print(df_hits_usable.session_id.nunique())"
   ]
  },
  {
   "cell_type": "markdown",
   "metadata": {},
   "source": [
    "данные объединяет значения столбца session_id \n",
    "сделаем общую таблицу только в которую войдут только строки где session_id присутствует в обоих таблицах"
   ]
  },
  {
   "cell_type": "code",
   "execution_count": 173,
   "metadata": {
    "id": "qDz53AKbL_AN"
   },
   "outputs": [
    {
     "data": {
      "text/html": [
       "<div>\n",
       "<style scoped>\n",
       "    .dataframe tbody tr th:only-of-type {\n",
       "        vertical-align: middle;\n",
       "    }\n",
       "\n",
       "    .dataframe tbody tr th {\n",
       "        vertical-align: top;\n",
       "    }\n",
       "\n",
       "    .dataframe thead th {\n",
       "        text-align: right;\n",
       "    }\n",
       "</style>\n",
       "<table border=\"1\" class=\"dataframe\">\n",
       "  <thead>\n",
       "    <tr style=\"text-align: right;\">\n",
       "      <th></th>\n",
       "      <th>session_id</th>\n",
       "      <th>hit_page_path</th>\n",
       "      <th>target</th>\n",
       "      <th>utm_source</th>\n",
       "      <th>utm_medium</th>\n",
       "      <th>utm_campaign</th>\n",
       "      <th>device_category</th>\n",
       "      <th>device_os</th>\n",
       "      <th>device_brand</th>\n",
       "      <th>device_model</th>\n",
       "      <th>device_browser</th>\n",
       "      <th>geo_country</th>\n",
       "      <th>geo_city</th>\n",
       "    </tr>\n",
       "  </thead>\n",
       "  <tbody>\n",
       "    <tr>\n",
       "      <th>0</th>\n",
       "      <td>1000009318903347362.1632663668.1632663668</td>\n",
       "      <td>podpiska.sberauto.com/faq?utm_source_initial=y...</td>\n",
       "      <td>0</td>\n",
       "      <td>MvfHsxITijuriZxsqZqt</td>\n",
       "      <td>cpm</td>\n",
       "      <td>FTjNLDyTrXaWYgZymFkV</td>\n",
       "      <td>mobile</td>\n",
       "      <td>NaN</td>\n",
       "      <td>Samsung</td>\n",
       "      <td>NaN</td>\n",
       "      <td>Chrome</td>\n",
       "      <td>Russia</td>\n",
       "      <td>Gelendzhik</td>\n",
       "    </tr>\n",
       "    <tr>\n",
       "      <th>1</th>\n",
       "      <td>1000010177899156286.1635013443.1635013443</td>\n",
       "      <td>podpiska.sberauto.com/</td>\n",
       "      <td>0</td>\n",
       "      <td>fDLlAcSmythWSCVMvqvL</td>\n",
       "      <td>(none)</td>\n",
       "      <td>LTuZkdKfxRGVceoWkVyg</td>\n",
       "      <td>mobile</td>\n",
       "      <td>Android</td>\n",
       "      <td>Samsung</td>\n",
       "      <td>NaN</td>\n",
       "      <td>Samsung Internet</td>\n",
       "      <td>Russia</td>\n",
       "      <td>Voronezh</td>\n",
       "    </tr>\n",
       "    <tr>\n",
       "      <th>2</th>\n",
       "      <td>1000013386240115915.1635402956.1635402956</td>\n",
       "      <td>sberauto.com/cars/all/lada-vaz/vesta/2fc745ed?...</td>\n",
       "      <td>0</td>\n",
       "      <td>ZpYIoDJMcFzVoPFsHGJL</td>\n",
       "      <td>banner</td>\n",
       "      <td>gecBYcKZCPMcVYdSSzKP</td>\n",
       "      <td>mobile</td>\n",
       "      <td>Android</td>\n",
       "      <td>Samsung</td>\n",
       "      <td>NaN</td>\n",
       "      <td>Chrome</td>\n",
       "      <td>Russia</td>\n",
       "      <td>Cherkessk</td>\n",
       "    </tr>\n",
       "    <tr>\n",
       "      <th>3</th>\n",
       "      <td>1000017303238376207.1623489300.1623489300</td>\n",
       "      <td>podpiska.sberauto.com/</td>\n",
       "      <td>0</td>\n",
       "      <td>ZpYIoDJMcFzVoPFsHGJL</td>\n",
       "      <td>banner</td>\n",
       "      <td>LEoPHuyFvzoNfnzGgfcd</td>\n",
       "      <td>mobile</td>\n",
       "      <td>NaN</td>\n",
       "      <td>Realme</td>\n",
       "      <td>NaN</td>\n",
       "      <td>Chrome</td>\n",
       "      <td>Russia</td>\n",
       "      <td>Irkutsk</td>\n",
       "    </tr>\n",
       "    <tr>\n",
       "      <th>4</th>\n",
       "      <td>1000020580299877109.1624943350.1624943350</td>\n",
       "      <td>sberauto.com/cars/https://sberauto.com/cars/b8...</td>\n",
       "      <td>0</td>\n",
       "      <td>fDLlAcSmythWSCVMvqvL</td>\n",
       "      <td>(none)</td>\n",
       "      <td>LTuZkdKfxRGVceoWkVyg</td>\n",
       "      <td>mobile</td>\n",
       "      <td>NaN</td>\n",
       "      <td>Apple</td>\n",
       "      <td>NaN</td>\n",
       "      <td>Safari</td>\n",
       "      <td>Russia</td>\n",
       "      <td>Moscow</td>\n",
       "    </tr>\n",
       "  </tbody>\n",
       "</table>\n",
       "</div>"
      ],
      "text/plain": [
       "                                  session_id  \\\n",
       "0  1000009318903347362.1632663668.1632663668   \n",
       "1  1000010177899156286.1635013443.1635013443   \n",
       "2  1000013386240115915.1635402956.1635402956   \n",
       "3  1000017303238376207.1623489300.1623489300   \n",
       "4  1000020580299877109.1624943350.1624943350   \n",
       "\n",
       "                                       hit_page_path  target  \\\n",
       "0  podpiska.sberauto.com/faq?utm_source_initial=y...       0   \n",
       "1                             podpiska.sberauto.com/       0   \n",
       "2  sberauto.com/cars/all/lada-vaz/vesta/2fc745ed?...       0   \n",
       "3                             podpiska.sberauto.com/       0   \n",
       "4  sberauto.com/cars/https://sberauto.com/cars/b8...       0   \n",
       "\n",
       "             utm_source utm_medium          utm_campaign device_category  \\\n",
       "0  MvfHsxITijuriZxsqZqt        cpm  FTjNLDyTrXaWYgZymFkV          mobile   \n",
       "1  fDLlAcSmythWSCVMvqvL     (none)  LTuZkdKfxRGVceoWkVyg          mobile   \n",
       "2  ZpYIoDJMcFzVoPFsHGJL     banner  gecBYcKZCPMcVYdSSzKP          mobile   \n",
       "3  ZpYIoDJMcFzVoPFsHGJL     banner  LEoPHuyFvzoNfnzGgfcd          mobile   \n",
       "4  fDLlAcSmythWSCVMvqvL     (none)  LTuZkdKfxRGVceoWkVyg          mobile   \n",
       "\n",
       "  device_os device_brand device_model    device_browser geo_country  \\\n",
       "0       NaN      Samsung          NaN            Chrome      Russia   \n",
       "1   Android      Samsung          NaN  Samsung Internet      Russia   \n",
       "2   Android      Samsung          NaN            Chrome      Russia   \n",
       "3       NaN       Realme          NaN            Chrome      Russia   \n",
       "4       NaN        Apple          NaN            Safari      Russia   \n",
       "\n",
       "     geo_city  \n",
       "0  Gelendzhik  \n",
       "1    Voronezh  \n",
       "2   Cherkessk  \n",
       "3     Irkutsk  \n",
       "4      Moscow  "
      ]
     },
     "execution_count": 173,
     "metadata": {},
     "output_type": "execute_result"
    }
   ],
   "source": [
    "df_united = pd.merge(df_hits_usable, df_sessions_usable)\n",
    "df_united.head()"
   ]
  },
  {
   "cell_type": "code",
   "execution_count": 132,
   "metadata": {
    "id": "XmyuIVk9L_AN"
   },
   "outputs": [
    {
     "data": {
      "text/plain": [
       "(1732266, 13)"
      ]
     },
     "execution_count": 132,
     "metadata": {},
     "output_type": "execute_result"
    }
   ],
   "source": [
    "df_united.shape"
   ]
  },
  {
   "cell_type": "code",
   "execution_count": 133,
   "metadata": {
    "id": "vLZI3JTWRg8N"
   },
   "outputs": [
    {
     "data": {
      "text/html": [
       "<div>\n",
       "<style scoped>\n",
       "    .dataframe tbody tr th:only-of-type {\n",
       "        vertical-align: middle;\n",
       "    }\n",
       "\n",
       "    .dataframe tbody tr th {\n",
       "        vertical-align: top;\n",
       "    }\n",
       "\n",
       "    .dataframe thead th {\n",
       "        text-align: right;\n",
       "    }\n",
       "</style>\n",
       "<table border=\"1\" class=\"dataframe\">\n",
       "  <thead>\n",
       "    <tr style=\"text-align: right;\">\n",
       "      <th></th>\n",
       "      <th>session_id</th>\n",
       "      <th>hit_page_path</th>\n",
       "      <th>target</th>\n",
       "      <th>utm_source</th>\n",
       "      <th>utm_medium</th>\n",
       "      <th>utm_campaign</th>\n",
       "      <th>device_category</th>\n",
       "      <th>device_os</th>\n",
       "      <th>device_brand</th>\n",
       "      <th>device_model</th>\n",
       "      <th>device_browser</th>\n",
       "      <th>geo_country</th>\n",
       "      <th>geo_city</th>\n",
       "    </tr>\n",
       "  </thead>\n",
       "  <tbody>\n",
       "    <tr>\n",
       "      <th>count</th>\n",
       "      <td>1732266</td>\n",
       "      <td>1732266</td>\n",
       "      <td>1.732266e+06</td>\n",
       "      <td>1732190</td>\n",
       "      <td>1732266</td>\n",
       "      <td>1536979</td>\n",
       "      <td>1732266</td>\n",
       "      <td>718302</td>\n",
       "      <td>1385070</td>\n",
       "      <td>15062</td>\n",
       "      <td>1732266</td>\n",
       "      <td>1732266</td>\n",
       "      <td>1732266</td>\n",
       "    </tr>\n",
       "    <tr>\n",
       "      <th>unique</th>\n",
       "      <td>1732266</td>\n",
       "      <td>209101</td>\n",
       "      <td>NaN</td>\n",
       "      <td>280</td>\n",
       "      <td>55</td>\n",
       "      <td>406</td>\n",
       "      <td>3</td>\n",
       "      <td>13</td>\n",
       "      <td>200</td>\n",
       "      <td>104</td>\n",
       "      <td>55</td>\n",
       "      <td>159</td>\n",
       "      <td>2389</td>\n",
       "    </tr>\n",
       "    <tr>\n",
       "      <th>top</th>\n",
       "      <td>1000009318903347362.1632663668.1632663668</td>\n",
       "      <td>podpiska.sberauto.com/</td>\n",
       "      <td>NaN</td>\n",
       "      <td>ZpYIoDJMcFzVoPFsHGJL</td>\n",
       "      <td>banner</td>\n",
       "      <td>LTuZkdKfxRGVceoWkVyg</td>\n",
       "      <td>mobile</td>\n",
       "      <td>Android</td>\n",
       "      <td>Apple</td>\n",
       "      <td>AuMdmADEIoPXiWpTsBEj</td>\n",
       "      <td>Chrome</td>\n",
       "      <td>Russia</td>\n",
       "      <td>Moscow</td>\n",
       "    </tr>\n",
       "    <tr>\n",
       "      <th>freq</th>\n",
       "      <td>1</td>\n",
       "      <td>924950</td>\n",
       "      <td>NaN</td>\n",
       "      <td>552555</td>\n",
       "      <td>525206</td>\n",
       "      <td>422992</td>\n",
       "      <td>1368679</td>\n",
       "      <td>425520</td>\n",
       "      <td>503533</td>\n",
       "      <td>9018</td>\n",
       "      <td>951573</td>\n",
       "      <td>1682423</td>\n",
       "      <td>750928</td>\n",
       "    </tr>\n",
       "    <tr>\n",
       "      <th>mean</th>\n",
       "      <td>NaN</td>\n",
       "      <td>NaN</td>\n",
       "      <td>5.936848e-02</td>\n",
       "      <td>NaN</td>\n",
       "      <td>NaN</td>\n",
       "      <td>NaN</td>\n",
       "      <td>NaN</td>\n",
       "      <td>NaN</td>\n",
       "      <td>NaN</td>\n",
       "      <td>NaN</td>\n",
       "      <td>NaN</td>\n",
       "      <td>NaN</td>\n",
       "      <td>NaN</td>\n",
       "    </tr>\n",
       "    <tr>\n",
       "      <th>std</th>\n",
       "      <td>NaN</td>\n",
       "      <td>NaN</td>\n",
       "      <td>5.999437e-01</td>\n",
       "      <td>NaN</td>\n",
       "      <td>NaN</td>\n",
       "      <td>NaN</td>\n",
       "      <td>NaN</td>\n",
       "      <td>NaN</td>\n",
       "      <td>NaN</td>\n",
       "      <td>NaN</td>\n",
       "      <td>NaN</td>\n",
       "      <td>NaN</td>\n",
       "      <td>NaN</td>\n",
       "    </tr>\n",
       "    <tr>\n",
       "      <th>min</th>\n",
       "      <td>NaN</td>\n",
       "      <td>NaN</td>\n",
       "      <td>0.000000e+00</td>\n",
       "      <td>NaN</td>\n",
       "      <td>NaN</td>\n",
       "      <td>NaN</td>\n",
       "      <td>NaN</td>\n",
       "      <td>NaN</td>\n",
       "      <td>NaN</td>\n",
       "      <td>NaN</td>\n",
       "      <td>NaN</td>\n",
       "      <td>NaN</td>\n",
       "      <td>NaN</td>\n",
       "    </tr>\n",
       "    <tr>\n",
       "      <th>25%</th>\n",
       "      <td>NaN</td>\n",
       "      <td>NaN</td>\n",
       "      <td>0.000000e+00</td>\n",
       "      <td>NaN</td>\n",
       "      <td>NaN</td>\n",
       "      <td>NaN</td>\n",
       "      <td>NaN</td>\n",
       "      <td>NaN</td>\n",
       "      <td>NaN</td>\n",
       "      <td>NaN</td>\n",
       "      <td>NaN</td>\n",
       "      <td>NaN</td>\n",
       "      <td>NaN</td>\n",
       "    </tr>\n",
       "    <tr>\n",
       "      <th>50%</th>\n",
       "      <td>NaN</td>\n",
       "      <td>NaN</td>\n",
       "      <td>0.000000e+00</td>\n",
       "      <td>NaN</td>\n",
       "      <td>NaN</td>\n",
       "      <td>NaN</td>\n",
       "      <td>NaN</td>\n",
       "      <td>NaN</td>\n",
       "      <td>NaN</td>\n",
       "      <td>NaN</td>\n",
       "      <td>NaN</td>\n",
       "      <td>NaN</td>\n",
       "      <td>NaN</td>\n",
       "    </tr>\n",
       "    <tr>\n",
       "      <th>75%</th>\n",
       "      <td>NaN</td>\n",
       "      <td>NaN</td>\n",
       "      <td>0.000000e+00</td>\n",
       "      <td>NaN</td>\n",
       "      <td>NaN</td>\n",
       "      <td>NaN</td>\n",
       "      <td>NaN</td>\n",
       "      <td>NaN</td>\n",
       "      <td>NaN</td>\n",
       "      <td>NaN</td>\n",
       "      <td>NaN</td>\n",
       "      <td>NaN</td>\n",
       "      <td>NaN</td>\n",
       "    </tr>\n",
       "    <tr>\n",
       "      <th>max</th>\n",
       "      <td>NaN</td>\n",
       "      <td>NaN</td>\n",
       "      <td>4.740000e+02</td>\n",
       "      <td>NaN</td>\n",
       "      <td>NaN</td>\n",
       "      <td>NaN</td>\n",
       "      <td>NaN</td>\n",
       "      <td>NaN</td>\n",
       "      <td>NaN</td>\n",
       "      <td>NaN</td>\n",
       "      <td>NaN</td>\n",
       "      <td>NaN</td>\n",
       "      <td>NaN</td>\n",
       "    </tr>\n",
       "  </tbody>\n",
       "</table>\n",
       "</div>"
      ],
      "text/plain": [
       "                                       session_id           hit_page_path  \\\n",
       "count                                     1732266                 1732266   \n",
       "unique                                    1732266                  209101   \n",
       "top     1000009318903347362.1632663668.1632663668  podpiska.sberauto.com/   \n",
       "freq                                            1                  924950   \n",
       "mean                                          NaN                     NaN   \n",
       "std                                           NaN                     NaN   \n",
       "min                                           NaN                     NaN   \n",
       "25%                                           NaN                     NaN   \n",
       "50%                                           NaN                     NaN   \n",
       "75%                                           NaN                     NaN   \n",
       "max                                           NaN                     NaN   \n",
       "\n",
       "              target            utm_source utm_medium          utm_campaign  \\\n",
       "count   1.732266e+06               1732190    1732266               1536979   \n",
       "unique           NaN                   280         55                   406   \n",
       "top              NaN  ZpYIoDJMcFzVoPFsHGJL     banner  LTuZkdKfxRGVceoWkVyg   \n",
       "freq             NaN                552555     525206                422992   \n",
       "mean    5.936848e-02                   NaN        NaN                   NaN   \n",
       "std     5.999437e-01                   NaN        NaN                   NaN   \n",
       "min     0.000000e+00                   NaN        NaN                   NaN   \n",
       "25%     0.000000e+00                   NaN        NaN                   NaN   \n",
       "50%     0.000000e+00                   NaN        NaN                   NaN   \n",
       "75%     0.000000e+00                   NaN        NaN                   NaN   \n",
       "max     4.740000e+02                   NaN        NaN                   NaN   \n",
       "\n",
       "       device_category device_os device_brand          device_model  \\\n",
       "count          1732266    718302      1385070                 15062   \n",
       "unique               3        13          200                   104   \n",
       "top             mobile   Android        Apple  AuMdmADEIoPXiWpTsBEj   \n",
       "freq           1368679    425520       503533                  9018   \n",
       "mean               NaN       NaN          NaN                   NaN   \n",
       "std                NaN       NaN          NaN                   NaN   \n",
       "min                NaN       NaN          NaN                   NaN   \n",
       "25%                NaN       NaN          NaN                   NaN   \n",
       "50%                NaN       NaN          NaN                   NaN   \n",
       "75%                NaN       NaN          NaN                   NaN   \n",
       "max                NaN       NaN          NaN                   NaN   \n",
       "\n",
       "       device_browser geo_country geo_city  \n",
       "count         1732266     1732266  1732266  \n",
       "unique             55         159     2389  \n",
       "top            Chrome      Russia   Moscow  \n",
       "freq           951573     1682423   750928  \n",
       "mean              NaN         NaN      NaN  \n",
       "std               NaN         NaN      NaN  \n",
       "min               NaN         NaN      NaN  \n",
       "25%               NaN         NaN      NaN  \n",
       "50%               NaN         NaN      NaN  \n",
       "75%               NaN         NaN      NaN  \n",
       "max               NaN         NaN      NaN  "
      ]
     },
     "execution_count": 133,
     "metadata": {},
     "output_type": "execute_result"
    }
   ],
   "source": [
    "df_united.describe(include='all')"
   ]
  },
  {
   "cell_type": "markdown",
   "metadata": {
    "id": "3l9VRsEjY-E4"
   },
   "source": [
    "# 2.EDA\n",
    "Разведочный анализ данных (Exploratory Data Analysis)"
   ]
  },
  {
   "cell_type": "markdown",
   "metadata": {
    "id": "qgCBib7UknB3"
   },
   "source": [
    "## 2.1 Data cleaning"
   ]
  },
  {
   "cell_type": "code",
   "execution_count": 174,
   "metadata": {
    "id": "6QXZKWmAmV_E"
   },
   "outputs": [
    {
     "data": {
      "text/plain": [
       "(1732266, 13)"
      ]
     },
     "execution_count": 174,
     "metadata": {},
     "output_type": "execute_result"
    }
   ],
   "source": [
    "df_united_clean = df_united.copy()\n",
    "df_united_clean.shape"
   ]
  },
  {
   "cell_type": "code",
   "execution_count": 175,
   "metadata": {
    "id": "NwEjFlwSrAFz"
   },
   "outputs": [
    {
     "data": {
      "text/plain": [
       "False    1732266\n",
       "dtype: int64"
      ]
     },
     "execution_count": 175,
     "metadata": {},
     "output_type": "execute_result"
    }
   ],
   "source": [
    "df_united_clean.duplicated().value_counts()"
   ]
  },
  {
   "cell_type": "markdown",
   "metadata": {
    "id": "srR7-XrpoL0T"
   },
   "source": [
    "#### Fullness of cells"
   ]
  },
  {
   "cell_type": "code",
   "execution_count": 136,
   "metadata": {
    "id": "MYtg0mUqnnN4"
   },
   "outputs": [],
   "source": [
    "def print_useful_rows_info(df):\n",
    "    print('Amount of useful rows:', len(df.dropna()))\n",
    "    print('Persentage of filled rows', round(len(df.dropna()) / len(df) * 100, 2))"
   ]
  },
  {
   "cell_type": "code",
   "execution_count": 137,
   "metadata": {
    "id": "y_JcZHE9n-3B"
   },
   "outputs": [
    {
     "name": "stdout",
     "output_type": "stream",
     "text": [
      "Amount of useful rows: 14194\n",
      "Persentage of filled rows 0.82\n"
     ]
    }
   ],
   "source": [
    "print_useful_rows_info(df_united_clean)"
   ]
  },
  {
   "cell_type": "code",
   "execution_count": 138,
   "metadata": {
    "id": "XyWyMCMYojHF"
   },
   "outputs": [],
   "source": [
    "def blank_rows_percentage(df):\n",
    "  print((df.isna().sum() / len(df) * 100).sort_values(ascending=False))"
   ]
  },
  {
   "cell_type": "code",
   "execution_count": 139,
   "metadata": {
    "id": "qZev87OGqirJ"
   },
   "outputs": [
    {
     "name": "stdout",
     "output_type": "stream",
     "text": [
      "device_model       99.130503\n",
      "device_os          58.533966\n",
      "device_brand       20.042880\n",
      "utm_campaign       11.273500\n",
      "utm_source          0.004387\n",
      "session_id          0.000000\n",
      "hit_page_path       0.000000\n",
      "target              0.000000\n",
      "utm_medium          0.000000\n",
      "device_category     0.000000\n",
      "device_browser      0.000000\n",
      "geo_country         0.000000\n",
      "geo_city            0.000000\n",
      "dtype: float64\n"
     ]
    }
   ],
   "source": [
    "blank_rows_percentage(df_united_clean)"
   ]
  },
  {
   "cell_type": "markdown",
   "metadata": {
    "id": "ShmIZGgAL_AP"
   },
   "source": [
    "удаляем все колонки где пропусков больше 20%:"
   ]
  },
  {
   "cell_type": "code",
   "execution_count": 176,
   "metadata": {
    "id": "YtnNKDiXL_AQ"
   },
   "outputs": [],
   "source": [
    "df_united_clean = df_united_clean.drop(columns=['device_model', 'device_os', 'device_brand', 'session_id'], axis=1)"
   ]
  },
  {
   "cell_type": "code",
   "execution_count": 177,
   "metadata": {
    "id": "eAuU5Q9eR3BU"
   },
   "outputs": [
    {
     "name": "stdout",
     "output_type": "stream",
     "text": [
      "Amount of useful rows: 1536903\n",
      "Persentage of filled rows 88.72\n"
     ]
    }
   ],
   "source": [
    "print_useful_rows_info(df_united_clean)"
   ]
  },
  {
   "cell_type": "code",
   "execution_count": 178,
   "metadata": {
    "id": "d1TuAKnftS2L"
   },
   "outputs": [
    {
     "data": {
      "text/plain": [
       "<AxesSubplot:>"
      ]
     },
     "execution_count": 178,
     "metadata": {},
     "output_type": "execute_result"
    },
    {
     "data": {
      "image/png": "[encoded data removed]",
      "text/plain": [
       "<Figure size 1800x720 with 3 Axes>"
      ]
     },
     "metadata": {},
     "output_type": "display_data"
    }
   ],
   "source": [
    "# диаграмма заполненности\n",
    "msno.bar(df_united_clean)"
   ]
  },
  {
   "cell_type": "markdown",
   "metadata": {},
   "source": [
    "### Заполнение пропусков"
   ]
  },
  {
   "cell_type": "code",
   "execution_count": 179,
   "metadata": {},
   "outputs": [
    {
     "data": {
      "text/plain": [
       "count                  1536979\n",
       "unique                     406\n",
       "top       LTuZkdKfxRGVceoWkVyg\n",
       "freq                    422992\n",
       "Name: utm_campaign, dtype: object"
      ]
     },
     "execution_count": 179,
     "metadata": {},
     "output_type": "execute_result"
    }
   ],
   "source": [
    "df_united_clean.utm_campaign.describe()"
   ]
  },
  {
   "cell_type": "markdown",
   "metadata": {},
   "source": [
    "заполним как 'other'"
   ]
  },
  {
   "cell_type": "code",
   "execution_count": 180,
   "metadata": {},
   "outputs": [],
   "source": [
    "df_united_clean.utm_campaign = df_united_clean.utm_campaign.fillna('other')"
   ]
  },
  {
   "cell_type": "code",
   "execution_count": 181,
   "metadata": {},
   "outputs": [
    {
     "data": {
      "text/plain": [
       "76"
      ]
     },
     "execution_count": 181,
     "metadata": {},
     "output_type": "execute_result"
    }
   ],
   "source": [
    "df_united_clean.utm_source.isna().sum()"
   ]
  },
  {
   "cell_type": "markdown",
   "metadata": {},
   "source": [
    "Удалим строки с 'nan'"
   ]
  },
  {
   "cell_type": "code",
   "execution_count": 182,
   "metadata": {},
   "outputs": [],
   "source": [
    "df_united_clean = df_united_clean[df_united_clean.utm_source.notna()]"
   ]
  },
  {
   "cell_type": "code",
   "execution_count": 183,
   "metadata": {},
   "outputs": [
    {
     "name": "stdout",
     "output_type": "stream",
     "text": [
      "Amount of useful rows: 1732190\n",
      "Persentage of filled rows 100.0\n"
     ]
    }
   ],
   "source": [
    "print_useful_rows_info(df_united_clean)"
   ]
  },
  {
   "cell_type": "markdown",
   "metadata": {},
   "source": [
    "Преобразование содержимого столбцов"
   ]
  },
  {
   "cell_type": "code",
   "execution_count": 184,
   "metadata": {},
   "outputs": [
    {
     "data": {
      "text/plain": [
       "False    1511479\n",
       "True      220711\n",
       "Name: hit_page_path, dtype: int64"
      ]
     },
     "execution_count": 184,
     "metadata": {},
     "output_type": "execute_result"
    }
   ],
   "source": [
    "df_united_clean.hit_page_path.values[10]\n",
    "df_united_clean[df_united_clean.hit_page_path.str.contains('/cars/all/', regex=False)]\n",
    "df_united_clean.hit_page_path.str.contains('/cars/all/', regex=False).value_counts()"
   ]
  },
  {
   "cell_type": "code",
   "execution_count": 185,
   "metadata": {},
   "outputs": [],
   "source": [
    "df_united_clean['car_brand'] = df_united_clean.hit_page_path.apply(lambda x: x.split('/')[3] if '/cars/all/' in x else 'empty')\n",
    "df_united_clean['car_model'] = df_united_clean.hit_page_path.apply(lambda x: x.split('/')[4] if '/cars/all/' in x else 'empty')\n",
    "df_united_clean = df_united_clean.drop(columns=['hit_page_path'])"
   ]
  },
  {
   "cell_type": "code",
   "execution_count": 32,
   "metadata": {},
   "outputs": [],
   "source": [
    "# df_united_clean['visit_datetime'] = pd.to_datetime(df_united_clean.visit_date + ' ' + df_united_clean.visit_time)\n",
    "# df_united_clean = df_united_clean.drop(columns=['visit_date', 'visit_time'])"
   ]
  },
  {
   "cell_type": "code",
   "execution_count": 33,
   "metadata": {},
   "outputs": [],
   "source": [
    "# df_united_clean['device_screen_length'] = df_united_clean.device_screen_resolution.apply(lambda x: int(x.split('x')[0]))\n",
    "# df_united_clean['device_screen_width'] = df_united_clean.device_screen_resolution.apply(lambda x: int(x.split('x')[1]))\n",
    "# df_united_clean = df_united_clean.drop(columns=['device_screen_resolution'])"
   ]
  },
  {
   "cell_type": "code",
   "execution_count": 186,
   "metadata": {},
   "outputs": [],
   "source": [
    "df_united_clean['from_smm'] = df_united_clean.utm_source.apply(lambda x: 1 if x in ['QxAxdyPLuQMEcrdZWdWb', 'MvfHsxITijuriZxsqZqt', 'ISrKoXQCxqqYvAZICvjs',\n",
    "'IZEXUFLARCUMynmHNBGo', 'PlbkrSYoHuZBWfYjYnfw',\n",
    "'gVRrcxiDQubJiljoTbGm'] else 0)\n",
    "df_united_clean = df_united_clean.drop(columns=['utm_source'])"
   ]
  },
  {
   "cell_type": "markdown",
   "metadata": {},
   "source": [
    "Автоподписка работает только по РФ поэтому удаляем все остальные страны из датасета"
   ]
  },
  {
   "cell_type": "code",
   "execution_count": 188,
   "metadata": {},
   "outputs": [],
   "source": [
    "df_united_clean = df_united_clean[df_united_clean.geo_country == 'Russia']\n",
    "df_united_clean = df_united_clean.drop(columns = ['geo_country'], axis=1)"
   ]
  },
  {
   "cell_type": "code",
   "execution_count": 189,
   "metadata": {},
   "outputs": [],
   "source": [
    "df_united_clean = df_united_clean.rename(columns={'geo_city': 'city'})"
   ]
  },
  {
   "cell_type": "code",
   "execution_count": 190,
   "metadata": {},
   "outputs": [],
   "source": [
    "df_united_clean['target'] = df_united_clean.target.apply(lambda x: 1 if x > 0 else 0)"
   ]
  },
  {
   "cell_type": "code",
   "execution_count": 191,
   "metadata": {},
   "outputs": [],
   "source": [
    "df_united_clean.device_category = df_united_clean.device_category.astype('category')\n",
    "df_united_clean.utm_medium = df_united_clean.utm_medium.astype('category')\n",
    "df_united_clean.utm_campaign = df_united_clean.utm_campaign.astype('category')\n",
    "df_united_clean.device_browser = df_united_clean.device_browser.astype('category')\n",
    "df_united_clean.city = df_united_clean.city.astype('category')\n",
    "df_united_clean.car_brand = df_united_clean.car_brand.astype('category')\n",
    "df_united_clean.car_model = df_united_clean.car_model.astype('category')"
   ]
  },
  {
   "cell_type": "markdown",
   "metadata": {},
   "source": [
    "### Определение типов переменных в датасете df_united\n",
    "\n",
    "|  Переменная               | Дискретная | Непрерывная | Качественная |\n",
    "|---------------------------|------------|-------------|--------------|\n",
    "| from_smm                  |            |             | X            |\n",
    "| utm_medium                |            |             | X            |\n",
    "| utm_campaign              |            |             | X            |\n",
    "| device_category           |            |             | X            |\n",
    "| device_browser            |            |             | X            |\n",
    "| city                      |            |             | X            |\n",
    "| car_brand                 |            |             | X            |\n",
    "| car_model                 |            |             | X            |\n",
    "| target(целевая)           |            |             | X            |"
   ]
  },
  {
   "cell_type": "code",
   "execution_count": 233,
   "metadata": {},
   "outputs": [
    {
     "name": "stdout",
     "output_type": "stream",
     "text": [
      "<class 'pandas.core.frame.DataFrame'>\n",
      "RangeIndex: 1682347 entries, 0 to 1682346\n",
      "Data columns (total 10 columns):\n",
      " #   Column           Non-Null Count    Dtype   \n",
      "---  ------           --------------    -----   \n",
      " 0   index            1682347 non-null  int64   \n",
      " 1   target           1682347 non-null  int64   \n",
      " 2   utm_medium       1682347 non-null  category\n",
      " 3   utm_campaign     1682347 non-null  category\n",
      " 4   device_category  1682347 non-null  category\n",
      " 5   device_browser   1682347 non-null  category\n",
      " 6   city             1682347 non-null  category\n",
      " 7   car_brand        1682347 non-null  category\n",
      " 8   car_model        1682347 non-null  category\n",
      " 9   from_smm         1682347 non-null  int64   \n",
      "dtypes: category(7), int64(3)\n",
      "memory usage: 53.0 MB\n"
     ]
    }
   ],
   "source": [
    "df_united_clean.info()"
   ]
  },
  {
   "cell_type": "markdown",
   "metadata": {},
   "source": [
    "Exploring"
   ]
  },
  {
   "cell_type": "code",
   "execution_count": 193,
   "metadata": {},
   "outputs": [
    {
     "data": {
      "text/plain": [
       "21"
      ]
     },
     "execution_count": 193,
     "metadata": {},
     "output_type": "execute_result"
    }
   ],
   "source": [
    "df_united_clean.car_brand.nunique()"
   ]
  },
  {
   "cell_type": "code",
   "execution_count": 194,
   "metadata": {},
   "outputs": [
    {
     "data": {
      "image/png": "[encoded data removed]",
      "text/plain": [
       "<Figure size 576x360 with 1 Axes>"
      ]
     },
     "metadata": {},
     "output_type": "display_data"
    }
   ],
   "source": [
    "plt.figure(figsize=(8, 5))\n",
    "plt.hist(df_united_clean.target, bins=15, color='indigo')\n",
    "plt.xlabel('Целевое событие')\n",
    "plt.ylabel('Частота')\n",
    "plt.title('распределение по совершению целевого действия');"
   ]
  },
  {
   "cell_type": "markdown",
   "metadata": {},
   "source": [
    "### Визуализация категориальных переменных"
   ]
  },
  {
   "cell_type": "code",
   "execution_count": 195,
   "metadata": {},
   "outputs": [
    {
     "data": {
      "text/html": [
       "<div>\n",
       "<style scoped>\n",
       "    .dataframe tbody tr th:only-of-type {\n",
       "        vertical-align: middle;\n",
       "    }\n",
       "\n",
       "    .dataframe tbody tr th {\n",
       "        vertical-align: top;\n",
       "    }\n",
       "\n",
       "    .dataframe thead th {\n",
       "        text-align: right;\n",
       "    }\n",
       "</style>\n",
       "<table border=\"1\" class=\"dataframe\">\n",
       "  <thead>\n",
       "    <tr style=\"text-align: right;\">\n",
       "      <th></th>\n",
       "      <th>car_brand</th>\n",
       "      <th>amount</th>\n",
       "    </tr>\n",
       "  </thead>\n",
       "  <tbody>\n",
       "    <tr>\n",
       "      <th>0</th>\n",
       "      <td>audi</td>\n",
       "      <td>3327</td>\n",
       "    </tr>\n",
       "    <tr>\n",
       "      <th>1</th>\n",
       "      <td>bmw</td>\n",
       "      <td>10972</td>\n",
       "    </tr>\n",
       "    <tr>\n",
       "      <th>2</th>\n",
       "      <td>empty</td>\n",
       "      <td>0</td>\n",
       "    </tr>\n",
       "    <tr>\n",
       "      <th>3</th>\n",
       "      <td>haval</td>\n",
       "      <td>2788</td>\n",
       "    </tr>\n",
       "    <tr>\n",
       "      <th>4</th>\n",
       "      <td>honda</td>\n",
       "      <td>5</td>\n",
       "    </tr>\n",
       "    <tr>\n",
       "      <th>5</th>\n",
       "      <td>hyundai</td>\n",
       "      <td>1126</td>\n",
       "    </tr>\n",
       "    <tr>\n",
       "      <th>6</th>\n",
       "      <td>infiniti</td>\n",
       "      <td>4</td>\n",
       "    </tr>\n",
       "    <tr>\n",
       "      <th>7</th>\n",
       "      <td>kia</td>\n",
       "      <td>12797</td>\n",
       "    </tr>\n",
       "    <tr>\n",
       "      <th>8</th>\n",
       "      <td>lada-vaz</td>\n",
       "      <td>26563</td>\n",
       "    </tr>\n",
       "    <tr>\n",
       "      <th>9</th>\n",
       "      <td>land-rover</td>\n",
       "      <td>1370</td>\n",
       "    </tr>\n",
       "    <tr>\n",
       "      <th>10</th>\n",
       "      <td>lexus</td>\n",
       "      <td>5146</td>\n",
       "    </tr>\n",
       "    <tr>\n",
       "      <th>11</th>\n",
       "      <td>mercedes-benz</td>\n",
       "      <td>29922</td>\n",
       "    </tr>\n",
       "    <tr>\n",
       "      <th>12</th>\n",
       "      <td>mini</td>\n",
       "      <td>2106</td>\n",
       "    </tr>\n",
       "    <tr>\n",
       "      <th>13</th>\n",
       "      <td>nissan</td>\n",
       "      <td>15932</td>\n",
       "    </tr>\n",
       "    <tr>\n",
       "      <th>14</th>\n",
       "      <td>peugeot</td>\n",
       "      <td>1527</td>\n",
       "    </tr>\n",
       "    <tr>\n",
       "      <th>15</th>\n",
       "      <td>porsche</td>\n",
       "      <td>4700</td>\n",
       "    </tr>\n",
       "    <tr>\n",
       "      <th>16</th>\n",
       "      <td>renault</td>\n",
       "      <td>11785</td>\n",
       "    </tr>\n",
       "    <tr>\n",
       "      <th>17</th>\n",
       "      <td>skoda</td>\n",
       "      <td>47750</td>\n",
       "    </tr>\n",
       "    <tr>\n",
       "      <th>18</th>\n",
       "      <td>toyota</td>\n",
       "      <td>8088</td>\n",
       "    </tr>\n",
       "    <tr>\n",
       "      <th>19</th>\n",
       "      <td>volkswagen</td>\n",
       "      <td>23661</td>\n",
       "    </tr>\n",
       "    <tr>\n",
       "      <th>20</th>\n",
       "      <td>volvo</td>\n",
       "      <td>3089</td>\n",
       "    </tr>\n",
       "  </tbody>\n",
       "</table>\n",
       "</div>"
      ],
      "text/plain": [
       "        car_brand  amount\n",
       "0            audi    3327\n",
       "1             bmw   10972\n",
       "2           empty       0\n",
       "3           haval    2788\n",
       "4           honda       5\n",
       "5         hyundai    1126\n",
       "6        infiniti       4\n",
       "7             kia   12797\n",
       "8        lada-vaz   26563\n",
       "9      land-rover    1370\n",
       "10          lexus    5146\n",
       "11  mercedes-benz   29922\n",
       "12           mini    2106\n",
       "13         nissan   15932\n",
       "14        peugeot    1527\n",
       "15        porsche    4700\n",
       "16        renault   11785\n",
       "17          skoda   47750\n",
       "18         toyota    8088\n",
       "19     volkswagen   23661\n",
       "20          volvo    3089"
      ]
     },
     "execution_count": 195,
     "metadata": {},
     "output_type": "execute_result"
    }
   ],
   "source": [
    "df_car_brand_amount = df_united_clean[df_united_clean.car_brand != 'empty'].groupby(['car_brand'], as_index=False).index.count().rename(columns={'index': 'amount'})\n",
    "df_car_brand_amount"
   ]
  },
  {
   "cell_type": "code",
   "execution_count": 196,
   "metadata": {},
   "outputs": [
    {
     "data": {
      "image/png": "[encoded data removed]",
      "text/plain": [
       "<Figure size 1440x720 with 1 Axes>"
      ]
     },
     "metadata": {},
     "output_type": "display_data"
    }
   ],
   "source": [
    "plt.figure(figsize=(20, 10))\n",
    "plt.bar(df_car_brand_amount.car_brand, df_car_brand_amount.amount, color=['springgreen', 'dodgerblue'], width=0.9)\n",
    "plt.xticks(rotation=45)\n",
    "plt.xlabel('Бренд')\n",
    "plt.ylabel('Количество')\n",
    "plt.title('Распределение брендов автомобилей');"
   ]
  },
  {
   "cell_type": "code",
   "execution_count": 204,
   "metadata": {},
   "outputs": [
    {
     "data": {
      "text/html": [
       "<div>\n",
       "<style scoped>\n",
       "    .dataframe tbody tr th:only-of-type {\n",
       "        vertical-align: middle;\n",
       "    }\n",
       "\n",
       "    .dataframe tbody tr th {\n",
       "        vertical-align: top;\n",
       "    }\n",
       "\n",
       "    .dataframe thead th {\n",
       "        text-align: right;\n",
       "    }\n",
       "</style>\n",
       "<table border=\"1\" class=\"dataframe\">\n",
       "  <thead>\n",
       "    <tr style=\"text-align: right;\">\n",
       "      <th></th>\n",
       "      <th>amount</th>\n",
       "    </tr>\n",
       "  </thead>\n",
       "  <tbody>\n",
       "    <tr>\n",
       "      <th>count</th>\n",
       "      <td>505.000000</td>\n",
       "    </tr>\n",
       "    <tr>\n",
       "      <th>mean</th>\n",
       "      <td>3201.172277</td>\n",
       "    </tr>\n",
       "    <tr>\n",
       "      <th>std</th>\n",
       "      <td>35724.043999</td>\n",
       "    </tr>\n",
       "    <tr>\n",
       "      <th>min</th>\n",
       "      <td>0.000000</td>\n",
       "    </tr>\n",
       "    <tr>\n",
       "      <th>25%</th>\n",
       "      <td>21.000000</td>\n",
       "    </tr>\n",
       "    <tr>\n",
       "      <th>50%</th>\n",
       "      <td>113.000000</td>\n",
       "    </tr>\n",
       "    <tr>\n",
       "      <th>75%</th>\n",
       "      <td>713.000000</td>\n",
       "    </tr>\n",
       "    <tr>\n",
       "      <th>max</th>\n",
       "      <td>750873.000000</td>\n",
       "    </tr>\n",
       "  </tbody>\n",
       "</table>\n",
       "</div>"
      ],
      "text/plain": [
       "              amount\n",
       "count     505.000000\n",
       "mean     3201.172277\n",
       "std     35724.043999\n",
       "min         0.000000\n",
       "25%        21.000000\n",
       "50%       113.000000\n",
       "75%       713.000000\n",
       "max    750873.000000"
      ]
     },
     "execution_count": 204,
     "metadata": {},
     "output_type": "execute_result"
    }
   ],
   "source": [
    "df_city_amount = df_united_clean[df_united_clean.city != '(not set)'].groupby(['city'], as_index=False).index.count().rename(columns={'index': 'amount'}).sort_values(by='amount', ascending=False)\n",
    "df_city_amount.describe()"
   ]
  },
  {
   "cell_type": "code",
   "execution_count": 211,
   "metadata": {},
   "outputs": [
    {
     "data": {
      "image/png": "[encoded data removed]",
      "text/plain": [
       "<Figure size 1440x720 with 1 Axes>"
      ]
     },
     "metadata": {},
     "output_type": "display_data"
    }
   ],
   "source": [
    "\n",
    "plt.figure(figsize=(20, 10))\n",
    "plt.bar(df_city_amount.city.head(50), df_city_amount.amount.head(50), color=['springgreen', 'dodgerblue'], width=0.9)\n",
    "plt.xticks(rotation=90)\n",
    "plt.xlabel('Город')\n",
    "plt.ylabel('Количество')\n",
    "plt.title('Распределение городов откуда ищут авто');"
   ]
  },
  {
   "cell_type": "code",
   "execution_count": 209,
   "metadata": {},
   "outputs": [
    {
     "data": {
      "text/plain": [
       "['Chrome', 'Samsung Internet', 'Safari', 'YaBrowser', 'Edge', ..., 'com.zhiliaoapp.musically', 'Konqueror', 'Iron', 'Threads 202.0.0.23.119', '(not set)']\n",
       "Length: 30\n",
       "Categories (30, object): ['(not set)', 'Amazon Silk', 'Android Browser', 'Android Webview', ..., '[FBAN', 'com.vk.vkclient', 'com.zhiliaoapp.musically', 'helloworld']"
      ]
     },
     "execution_count": 209,
     "metadata": {},
     "output_type": "execute_result"
    }
   ],
   "source": [
    "df_united_clean.device_browser.unique()"
   ]
  },
  {
   "cell_type": "code",
   "execution_count": 210,
   "metadata": {},
   "outputs": [],
   "source": [
    "df_device_browser_amount = df_united_clean[df_united_clean.device_browser != '(not set)'].groupby(['device_browser'], as_index=False).index.count().rename(columns={'index': 'amount'}).sort_values(by='amount', ascending=False)\n"
   ]
  },
  {
   "cell_type": "code",
   "execution_count": 214,
   "metadata": {},
   "outputs": [
    {
     "data": {
      "image/png": "[encoded data removed]",
      "text/plain": [
       "<Figure size 1440x720 with 1 Axes>"
      ]
     },
     "metadata": {},
     "output_type": "display_data"
    }
   ],
   "source": [
    "plt.figure(figsize=(20, 10))\n",
    "plt.bar(df_device_browser_amount.device_browser, df_device_browser_amount.amount, color=['springgreen', 'dodgerblue'], width=0.9)\n",
    "plt.xticks(rotation=45)\n",
    "plt.xlabel('Браузер')\n",
    "plt.ylabel('Количество')\n",
    "plt.title('Распределение браузеров откуда ищут авто');"
   ]
  },
  {
   "cell_type": "code",
   "execution_count": 215,
   "metadata": {},
   "outputs": [
    {
     "data": {
      "text/plain": [
       "['mobile', 'desktop', 'tablet']\n",
       "Categories (3, object): ['desktop', 'mobile', 'tablet']"
      ]
     },
     "execution_count": 215,
     "metadata": {},
     "output_type": "execute_result"
    }
   ],
   "source": [
    "\n",
    "df_united_clean.device_category.unique()"
   ]
  },
  {
   "cell_type": "code",
   "execution_count": 220,
   "metadata": {},
   "outputs": [
    {
     "data": {
      "text/html": [
       "<div>\n",
       "<style scoped>\n",
       "    .dataframe tbody tr th:only-of-type {\n",
       "        vertical-align: middle;\n",
       "    }\n",
       "\n",
       "    .dataframe tbody tr th {\n",
       "        vertical-align: top;\n",
       "    }\n",
       "\n",
       "    .dataframe thead th {\n",
       "        text-align: right;\n",
       "    }\n",
       "</style>\n",
       "<table border=\"1\" class=\"dataframe\">\n",
       "  <thead>\n",
       "    <tr style=\"text-align: right;\">\n",
       "      <th></th>\n",
       "      <th>device_category</th>\n",
       "      <th>amount</th>\n",
       "    </tr>\n",
       "  </thead>\n",
       "  <tbody>\n",
       "    <tr>\n",
       "      <th>0</th>\n",
       "      <td>desktop</td>\n",
       "      <td>332991</td>\n",
       "    </tr>\n",
       "    <tr>\n",
       "      <th>1</th>\n",
       "      <td>mobile</td>\n",
       "      <td>1333547</td>\n",
       "    </tr>\n",
       "    <tr>\n",
       "      <th>2</th>\n",
       "      <td>tablet</td>\n",
       "      <td>15809</td>\n",
       "    </tr>\n",
       "  </tbody>\n",
       "</table>\n",
       "</div>"
      ],
      "text/plain": [
       "  device_category   amount\n",
       "0         desktop   332991\n",
       "1          mobile  1333547\n",
       "2          tablet    15809"
      ]
     },
     "execution_count": 220,
     "metadata": {},
     "output_type": "execute_result"
    }
   ],
   "source": [
    "df_device_category_amount = df_united_clean.groupby(['device_category'], as_index=False).index.count() \\\n",
    "                .rename(columns={'index': 'amount'})\n",
    "df_device_category_amount"
   ]
  },
  {
   "cell_type": "code",
   "execution_count": 221,
   "metadata": {},
   "outputs": [
    {
     "data": {
      "image/png": "[encoded data removed]",
      "text/plain": [
       "<Figure size 864x576 with 1 Axes>"
      ]
     },
     "metadata": {},
     "output_type": "display_data"
    }
   ],
   "source": [
    "plt.figure(figsize=(12, 8))\n",
    "plt.pie(df_device_category_amount.amount, labels=df_device_category_amount.device_category, labeldistance=None, autopct = '%1.0f%%')\n",
    "plt.title(\"Распределение типа устройства\")\n",
    "plt.legend()\n",
    "plt.show();"
   ]
  },
  {
   "cell_type": "code",
   "execution_count": 237,
   "metadata": {},
   "outputs": [
    {
     "ename": "ValueError",
     "evalue": "Index contains duplicate entries, cannot reshape",
     "output_type": "error",
     "traceback": [
      "\u001b[1;31m---------------------------------------------------------------------------\u001b[0m",
      "\u001b[1;31mValueError\u001b[0m                                Traceback (most recent call last)",
      "\u001b[1;32mc:\\Users\\NA_PC\\Documents\\sberAutopodpiska_analysis\\JupyterNotebooks\\final_project_1.ipynb Cell 65\u001b[0m in \u001b[0;36m<cell line: 1>\u001b[1;34m()\u001b[0m\n\u001b[1;32m----> <a href='vscode-notebook-cell:/c%3A/Users/NA_PC/Documents/sberAutopodpiska_analysis/JupyterNotebooks/final_project_1.ipynb#Y151sZmlsZQ%3D%3D?line=0'>1</a>\u001b[0m sns\u001b[39m.\u001b[39mheatmap(df_united_clean\u001b[39m.\u001b[39;49mpivot(index\u001b[39m=\u001b[39;49m\u001b[39m'\u001b[39;49m\u001b[39mdevice_category\u001b[39;49m\u001b[39m'\u001b[39;49m, columns\u001b[39m=\u001b[39;49m\u001b[39m'\u001b[39;49m\u001b[39mcity\u001b[39;49m\u001b[39m'\u001b[39;49m, values\u001b[39m=\u001b[39;49m\u001b[39m'\u001b[39;49m\u001b[39mfrom_smm\u001b[39;49m\u001b[39m'\u001b[39;49m))\n",
      "File \u001b[1;32m~\\anaconda3\\lib\\site-packages\\pandas\\core\\frame.py:7876\u001b[0m, in \u001b[0;36mDataFrame.pivot\u001b[1;34m(self, index, columns, values)\u001b[0m\n\u001b[0;32m   7871\u001b[0m \u001b[39m@Substitution\u001b[39m(\u001b[39m\"\u001b[39m\u001b[39m\"\u001b[39m)\n\u001b[0;32m   7872\u001b[0m \u001b[39m@Appender\u001b[39m(_shared_docs[\u001b[39m\"\u001b[39m\u001b[39mpivot\u001b[39m\u001b[39m\"\u001b[39m])\n\u001b[0;32m   7873\u001b[0m \u001b[39mdef\u001b[39;00m \u001b[39mpivot\u001b[39m(\u001b[39mself\u001b[39m, index\u001b[39m=\u001b[39m\u001b[39mNone\u001b[39;00m, columns\u001b[39m=\u001b[39m\u001b[39mNone\u001b[39;00m, values\u001b[39m=\u001b[39m\u001b[39mNone\u001b[39;00m) \u001b[39m-\u001b[39m\u001b[39m>\u001b[39m DataFrame:\n\u001b[0;32m   7874\u001b[0m     \u001b[39mfrom\u001b[39;00m \u001b[39mpandas\u001b[39;00m\u001b[39m.\u001b[39;00m\u001b[39mcore\u001b[39;00m\u001b[39m.\u001b[39;00m\u001b[39mreshape\u001b[39;00m\u001b[39m.\u001b[39;00m\u001b[39mpivot\u001b[39;00m \u001b[39mimport\u001b[39;00m pivot\n\u001b[1;32m-> 7876\u001b[0m     \u001b[39mreturn\u001b[39;00m pivot(\u001b[39mself\u001b[39;49m, index\u001b[39m=\u001b[39;49mindex, columns\u001b[39m=\u001b[39;49mcolumns, values\u001b[39m=\u001b[39;49mvalues)\n",
      "File \u001b[1;32m~\\anaconda3\\lib\\site-packages\\pandas\\core\\reshape\\pivot.py:520\u001b[0m, in \u001b[0;36mpivot\u001b[1;34m(data, index, columns, values)\u001b[0m\n\u001b[0;32m    518\u001b[0m     \u001b[39melse\u001b[39;00m:\n\u001b[0;32m    519\u001b[0m         indexed \u001b[39m=\u001b[39m data\u001b[39m.\u001b[39m_constructor_sliced(data[values]\u001b[39m.\u001b[39m_values, index\u001b[39m=\u001b[39mmultiindex)\n\u001b[1;32m--> 520\u001b[0m \u001b[39mreturn\u001b[39;00m indexed\u001b[39m.\u001b[39;49munstack(columns_listlike)\n",
      "File \u001b[1;32m~\\anaconda3\\lib\\site-packages\\pandas\\core\\series.py:4157\u001b[0m, in \u001b[0;36mSeries.unstack\u001b[1;34m(self, level, fill_value)\u001b[0m\n\u001b[0;32m   4114\u001b[0m \u001b[39m\"\"\"\u001b[39;00m\n\u001b[0;32m   4115\u001b[0m \u001b[39mUnstack, also known as pivot, Series with MultiIndex to produce DataFrame.\u001b[39;00m\n\u001b[0;32m   4116\u001b[0m \n\u001b[1;32m   (...)\u001b[0m\n\u001b[0;32m   4153\u001b[0m \u001b[39mb    2    4\u001b[39;00m\n\u001b[0;32m   4154\u001b[0m \u001b[39m\"\"\"\u001b[39;00m\n\u001b[0;32m   4155\u001b[0m \u001b[39mfrom\u001b[39;00m \u001b[39mpandas\u001b[39;00m\u001b[39m.\u001b[39;00m\u001b[39mcore\u001b[39;00m\u001b[39m.\u001b[39;00m\u001b[39mreshape\u001b[39;00m\u001b[39m.\u001b[39;00m\u001b[39mreshape\u001b[39;00m \u001b[39mimport\u001b[39;00m unstack\n\u001b[1;32m-> 4157\u001b[0m \u001b[39mreturn\u001b[39;00m unstack(\u001b[39mself\u001b[39;49m, level, fill_value)\n",
      "File \u001b[1;32m~\\anaconda3\\lib\\site-packages\\pandas\\core\\reshape\\reshape.py:491\u001b[0m, in \u001b[0;36munstack\u001b[1;34m(obj, level, fill_value)\u001b[0m\n\u001b[0;32m    489\u001b[0m \u001b[39mif\u001b[39;00m is_1d_only_ea_dtype(obj\u001b[39m.\u001b[39mdtype):\n\u001b[0;32m    490\u001b[0m     \u001b[39mreturn\u001b[39;00m _unstack_extension_series(obj, level, fill_value)\n\u001b[1;32m--> 491\u001b[0m unstacker \u001b[39m=\u001b[39m _Unstacker(\n\u001b[0;32m    492\u001b[0m     obj\u001b[39m.\u001b[39;49mindex, level\u001b[39m=\u001b[39;49mlevel, constructor\u001b[39m=\u001b[39;49mobj\u001b[39m.\u001b[39;49m_constructor_expanddim\n\u001b[0;32m    493\u001b[0m )\n\u001b[0;32m    494\u001b[0m \u001b[39mreturn\u001b[39;00m unstacker\u001b[39m.\u001b[39mget_result(\n\u001b[0;32m    495\u001b[0m     obj\u001b[39m.\u001b[39m_values, value_columns\u001b[39m=\u001b[39m\u001b[39mNone\u001b[39;00m, fill_value\u001b[39m=\u001b[39mfill_value\n\u001b[0;32m    496\u001b[0m )\n",
      "File \u001b[1;32m~\\anaconda3\\lib\\site-packages\\pandas\\core\\reshape\\reshape.py:140\u001b[0m, in \u001b[0;36m_Unstacker.__init__\u001b[1;34m(self, index, level, constructor)\u001b[0m\n\u001b[0;32m    133\u001b[0m \u001b[39mif\u001b[39;00m num_cells \u001b[39m>\u001b[39m np\u001b[39m.\u001b[39miinfo(np\u001b[39m.\u001b[39mint32)\u001b[39m.\u001b[39mmax:\n\u001b[0;32m    134\u001b[0m     warnings\u001b[39m.\u001b[39mwarn(\n\u001b[0;32m    135\u001b[0m         \u001b[39mf\u001b[39m\u001b[39m\"\u001b[39m\u001b[39mThe following operation may generate \u001b[39m\u001b[39m{\u001b[39;00mnum_cells\u001b[39m}\u001b[39;00m\u001b[39m cells \u001b[39m\u001b[39m\"\u001b[39m\n\u001b[0;32m    136\u001b[0m         \u001b[39mf\u001b[39m\u001b[39m\"\u001b[39m\u001b[39min the resulting pandas object.\u001b[39m\u001b[39m\"\u001b[39m,\n\u001b[0;32m    137\u001b[0m         PerformanceWarning,\n\u001b[0;32m    138\u001b[0m     )\n\u001b[1;32m--> 140\u001b[0m \u001b[39mself\u001b[39;49m\u001b[39m.\u001b[39;49m_make_selectors()\n",
      "File \u001b[1;32m~\\anaconda3\\lib\\site-packages\\pandas\\core\\reshape\\reshape.py:192\u001b[0m, in \u001b[0;36m_Unstacker._make_selectors\u001b[1;34m(self)\u001b[0m\n\u001b[0;32m    189\u001b[0m mask\u001b[39m.\u001b[39mput(selector, \u001b[39mTrue\u001b[39;00m)\n\u001b[0;32m    191\u001b[0m \u001b[39mif\u001b[39;00m mask\u001b[39m.\u001b[39msum() \u001b[39m<\u001b[39m \u001b[39mlen\u001b[39m(\u001b[39mself\u001b[39m\u001b[39m.\u001b[39mindex):\n\u001b[1;32m--> 192\u001b[0m     \u001b[39mraise\u001b[39;00m \u001b[39mValueError\u001b[39;00m(\u001b[39m\"\u001b[39m\u001b[39mIndex contains duplicate entries, cannot reshape\u001b[39m\u001b[39m\"\u001b[39m)\n\u001b[0;32m    194\u001b[0m \u001b[39mself\u001b[39m\u001b[39m.\u001b[39mgroup_index \u001b[39m=\u001b[39m comp_index\n\u001b[0;32m    195\u001b[0m \u001b[39mself\u001b[39m\u001b[39m.\u001b[39mmask \u001b[39m=\u001b[39m mask\n",
      "\u001b[1;31mValueError\u001b[0m: Index contains duplicate entries, cannot reshape"
     ]
    }
   ],
   "source": [
    "sns.heatmap(df_united_clean.pivot(index='device_category', columns='city', values='from_smm'))"
   ]
  },
  {
   "cell_type": "code",
   "execution_count": 235,
   "metadata": {},
   "outputs": [
    {
     "data": {
      "text/html": [
       "<div>\n",
       "<style scoped>\n",
       "    .dataframe tbody tr th:only-of-type {\n",
       "        vertical-align: middle;\n",
       "    }\n",
       "\n",
       "    .dataframe tbody tr th {\n",
       "        vertical-align: top;\n",
       "    }\n",
       "\n",
       "    .dataframe thead th {\n",
       "        text-align: right;\n",
       "    }\n",
       "</style>\n",
       "<table border=\"1\" class=\"dataframe\">\n",
       "  <thead>\n",
       "    <tr style=\"text-align: right;\">\n",
       "      <th></th>\n",
       "      <th>target</th>\n",
       "      <th>utm_medium</th>\n",
       "      <th>utm_campaign</th>\n",
       "      <th>device_category</th>\n",
       "      <th>device_browser</th>\n",
       "      <th>city</th>\n",
       "      <th>car_brand</th>\n",
       "      <th>car_model</th>\n",
       "      <th>from_smm</th>\n",
       "    </tr>\n",
       "  </thead>\n",
       "  <tbody>\n",
       "    <tr>\n",
       "      <th>0</th>\n",
       "      <td>0</td>\n",
       "      <td>cpm</td>\n",
       "      <td>FTjNLDyTrXaWYgZymFkV</td>\n",
       "      <td>mobile</td>\n",
       "      <td>Chrome</td>\n",
       "      <td>Gelendzhik</td>\n",
       "      <td>empty</td>\n",
       "      <td>empty</td>\n",
       "      <td>1</td>\n",
       "    </tr>\n",
       "    <tr>\n",
       "      <th>1</th>\n",
       "      <td>0</td>\n",
       "      <td>(none)</td>\n",
       "      <td>LTuZkdKfxRGVceoWkVyg</td>\n",
       "      <td>mobile</td>\n",
       "      <td>Samsung Internet</td>\n",
       "      <td>Voronezh</td>\n",
       "      <td>empty</td>\n",
       "      <td>empty</td>\n",
       "      <td>0</td>\n",
       "    </tr>\n",
       "    <tr>\n",
       "      <th>2</th>\n",
       "      <td>0</td>\n",
       "      <td>banner</td>\n",
       "      <td>gecBYcKZCPMcVYdSSzKP</td>\n",
       "      <td>mobile</td>\n",
       "      <td>Chrome</td>\n",
       "      <td>Cherkessk</td>\n",
       "      <td>lada-vaz</td>\n",
       "      <td>vesta</td>\n",
       "      <td>0</td>\n",
       "    </tr>\n",
       "    <tr>\n",
       "      <th>3</th>\n",
       "      <td>0</td>\n",
       "      <td>banner</td>\n",
       "      <td>LEoPHuyFvzoNfnzGgfcd</td>\n",
       "      <td>mobile</td>\n",
       "      <td>Chrome</td>\n",
       "      <td>Irkutsk</td>\n",
       "      <td>empty</td>\n",
       "      <td>empty</td>\n",
       "      <td>0</td>\n",
       "    </tr>\n",
       "    <tr>\n",
       "      <th>4</th>\n",
       "      <td>0</td>\n",
       "      <td>(none)</td>\n",
       "      <td>LTuZkdKfxRGVceoWkVyg</td>\n",
       "      <td>mobile</td>\n",
       "      <td>Safari</td>\n",
       "      <td>Moscow</td>\n",
       "      <td>empty</td>\n",
       "      <td>empty</td>\n",
       "      <td>0</td>\n",
       "    </tr>\n",
       "    <tr>\n",
       "      <th>...</th>\n",
       "      <td>...</td>\n",
       "      <td>...</td>\n",
       "      <td>...</td>\n",
       "      <td>...</td>\n",
       "      <td>...</td>\n",
       "      <td>...</td>\n",
       "      <td>...</td>\n",
       "      <td>...</td>\n",
       "      <td>...</td>\n",
       "    </tr>\n",
       "    <tr>\n",
       "      <th>1682342</th>\n",
       "      <td>0</td>\n",
       "      <td>cpm</td>\n",
       "      <td>FTjNLDyTrXaWYgZymFkV</td>\n",
       "      <td>mobile</td>\n",
       "      <td>Chrome</td>\n",
       "      <td>Moscow</td>\n",
       "      <td>empty</td>\n",
       "      <td>empty</td>\n",
       "      <td>1</td>\n",
       "    </tr>\n",
       "    <tr>\n",
       "      <th>1682343</th>\n",
       "      <td>0</td>\n",
       "      <td>banner</td>\n",
       "      <td>LEoPHuyFvzoNfnzGgfcd</td>\n",
       "      <td>mobile</td>\n",
       "      <td>Safari</td>\n",
       "      <td>Saint Petersburg</td>\n",
       "      <td>empty</td>\n",
       "      <td>empty</td>\n",
       "      <td>0</td>\n",
       "    </tr>\n",
       "    <tr>\n",
       "      <th>1682344</th>\n",
       "      <td>0</td>\n",
       "      <td>banner</td>\n",
       "      <td>LEoPHuyFvzoNfnzGgfcd</td>\n",
       "      <td>mobile</td>\n",
       "      <td>Chrome</td>\n",
       "      <td>Nizhny Novgorod</td>\n",
       "      <td>empty</td>\n",
       "      <td>empty</td>\n",
       "      <td>0</td>\n",
       "    </tr>\n",
       "    <tr>\n",
       "      <th>1682345</th>\n",
       "      <td>0</td>\n",
       "      <td>banner</td>\n",
       "      <td>LEoPHuyFvzoNfnzGgfcd</td>\n",
       "      <td>mobile</td>\n",
       "      <td>Samsung Internet</td>\n",
       "      <td>Chelyabinsk</td>\n",
       "      <td>empty</td>\n",
       "      <td>empty</td>\n",
       "      <td>0</td>\n",
       "    </tr>\n",
       "    <tr>\n",
       "      <th>1682346</th>\n",
       "      <td>0</td>\n",
       "      <td>cpm</td>\n",
       "      <td>FTjNLDyTrXaWYgZymFkV</td>\n",
       "      <td>mobile</td>\n",
       "      <td>YaBrowser</td>\n",
       "      <td>Zheleznodorozhny</td>\n",
       "      <td>empty</td>\n",
       "      <td>empty</td>\n",
       "      <td>1</td>\n",
       "    </tr>\n",
       "  </tbody>\n",
       "</table>\n",
       "<p>1682347 rows × 9 columns</p>\n",
       "</div>"
      ],
      "text/plain": [
       "         target utm_medium          utm_campaign device_category  \\\n",
       "0             0        cpm  FTjNLDyTrXaWYgZymFkV          mobile   \n",
       "1             0     (none)  LTuZkdKfxRGVceoWkVyg          mobile   \n",
       "2             0     banner  gecBYcKZCPMcVYdSSzKP          mobile   \n",
       "3             0     banner  LEoPHuyFvzoNfnzGgfcd          mobile   \n",
       "4             0     (none)  LTuZkdKfxRGVceoWkVyg          mobile   \n",
       "...         ...        ...                   ...             ...   \n",
       "1682342       0        cpm  FTjNLDyTrXaWYgZymFkV          mobile   \n",
       "1682343       0     banner  LEoPHuyFvzoNfnzGgfcd          mobile   \n",
       "1682344       0     banner  LEoPHuyFvzoNfnzGgfcd          mobile   \n",
       "1682345       0     banner  LEoPHuyFvzoNfnzGgfcd          mobile   \n",
       "1682346       0        cpm  FTjNLDyTrXaWYgZymFkV          mobile   \n",
       "\n",
       "           device_browser              city car_brand car_model  from_smm  \n",
       "0                  Chrome        Gelendzhik     empty     empty         1  \n",
       "1        Samsung Internet          Voronezh     empty     empty         0  \n",
       "2                  Chrome         Cherkessk  lada-vaz     vesta         0  \n",
       "3                  Chrome           Irkutsk     empty     empty         0  \n",
       "4                  Safari            Moscow     empty     empty         0  \n",
       "...                   ...               ...       ...       ...       ...  \n",
       "1682342            Chrome            Moscow     empty     empty         1  \n",
       "1682343            Safari  Saint Petersburg     empty     empty         0  \n",
       "1682344            Chrome   Nizhny Novgorod     empty     empty         0  \n",
       "1682345  Samsung Internet       Chelyabinsk     empty     empty         0  \n",
       "1682346         YaBrowser  Zheleznodorozhny     empty     empty         1  \n",
       "\n",
       "[1682347 rows x 9 columns]"
      ]
     },
     "execution_count": 235,
     "metadata": {},
     "output_type": "execute_result"
    }
   ],
   "source": [
    "df_united_clean"
   ]
  },
  {
   "cell_type": "code",
   "execution_count": 226,
   "metadata": {},
   "outputs": [
    {
     "data": {
      "text/plain": [
       "Index(['index', 'target', 'utm_medium', 'utm_campaign', 'device_category',\n",
       "       'device_browser', 'city', 'car_brand', 'car_model', 'from_smm'],\n",
       "      dtype='object')"
      ]
     },
     "execution_count": 226,
     "metadata": {},
     "output_type": "execute_result"
    }
   ],
   "source": [
    "df_united_clean.columns"
   ]
  },
  {
   "cell_type": "code",
   "execution_count": 244,
   "metadata": {},
   "outputs": [
    {
     "data": {
      "text/html": [
       "<div>\n",
       "<style scoped>\n",
       "    .dataframe tbody tr th:only-of-type {\n",
       "        vertical-align: middle;\n",
       "    }\n",
       "\n",
       "    .dataframe tbody tr th {\n",
       "        vertical-align: top;\n",
       "    }\n",
       "\n",
       "    .dataframe thead tr th {\n",
       "        text-align: left;\n",
       "    }\n",
       "\n",
       "    .dataframe thead tr:last-of-type th {\n",
       "        text-align: right;\n",
       "    }\n",
       "</style>\n",
       "<table border=\"1\" class=\"dataframe\">\n",
       "  <thead>\n",
       "    <tr>\n",
       "      <th></th>\n",
       "      <th colspan=\"21\" halign=\"left\">target</th>\n",
       "    </tr>\n",
       "    <tr>\n",
       "      <th>city</th>\n",
       "      <th>(not set)</th>\n",
       "      <th>13403</th>\n",
       "      <th>14076</th>\n",
       "      <th>24130</th>\n",
       "      <th>39404</th>\n",
       "      <th>53425</th>\n",
       "      <th>75709</th>\n",
       "      <th>83709</th>\n",
       "      <th>8756</th>\n",
       "      <th>88040</th>\n",
       "      <th>...</th>\n",
       "      <th>Zheleznodorozhny</th>\n",
       "      <th>Zheleznogorsk</th>\n",
       "      <th>Zhigulevsk</th>\n",
       "      <th>Zhukovskiy</th>\n",
       "      <th>Zlatoust</th>\n",
       "      <th>Znamenskiy</th>\n",
       "      <th>Zvenigorod</th>\n",
       "      <th>Тарасовка</th>\n",
       "      <th>Тимофеевка</th>\n",
       "      <th>Хомутово</th>\n",
       "    </tr>\n",
       "    <tr>\n",
       "      <th>device_category</th>\n",
       "      <th></th>\n",
       "      <th></th>\n",
       "      <th></th>\n",
       "      <th></th>\n",
       "      <th></th>\n",
       "      <th></th>\n",
       "      <th></th>\n",
       "      <th></th>\n",
       "      <th></th>\n",
       "      <th></th>\n",
       "      <th></th>\n",
       "      <th></th>\n",
       "      <th></th>\n",
       "      <th></th>\n",
       "      <th></th>\n",
       "      <th></th>\n",
       "      <th></th>\n",
       "      <th></th>\n",
       "      <th></th>\n",
       "      <th></th>\n",
       "      <th></th>\n",
       "    </tr>\n",
       "  </thead>\n",
       "  <tbody>\n",
       "    <tr>\n",
       "      <th>desktop</th>\n",
       "      <td>427</td>\n",
       "      <td>0</td>\n",
       "      <td>0</td>\n",
       "      <td>0</td>\n",
       "      <td>0</td>\n",
       "      <td>0</td>\n",
       "      <td>0</td>\n",
       "      <td>0</td>\n",
       "      <td>0</td>\n",
       "      <td>0</td>\n",
       "      <td>...</td>\n",
       "      <td>29</td>\n",
       "      <td>3</td>\n",
       "      <td>0</td>\n",
       "      <td>11</td>\n",
       "      <td>0</td>\n",
       "      <td>0</td>\n",
       "      <td>7</td>\n",
       "      <td>0</td>\n",
       "      <td>0</td>\n",
       "      <td>0</td>\n",
       "    </tr>\n",
       "    <tr>\n",
       "      <th>mobile</th>\n",
       "      <td>913</td>\n",
       "      <td>0</td>\n",
       "      <td>0</td>\n",
       "      <td>0</td>\n",
       "      <td>0</td>\n",
       "      <td>3</td>\n",
       "      <td>0</td>\n",
       "      <td>0</td>\n",
       "      <td>0</td>\n",
       "      <td>0</td>\n",
       "      <td>...</td>\n",
       "      <td>73</td>\n",
       "      <td>0</td>\n",
       "      <td>0</td>\n",
       "      <td>27</td>\n",
       "      <td>3</td>\n",
       "      <td>0</td>\n",
       "      <td>22</td>\n",
       "      <td>0</td>\n",
       "      <td>1</td>\n",
       "      <td>3</td>\n",
       "    </tr>\n",
       "    <tr>\n",
       "      <th>tablet</th>\n",
       "      <td>21</td>\n",
       "      <td>0</td>\n",
       "      <td>0</td>\n",
       "      <td>0</td>\n",
       "      <td>0</td>\n",
       "      <td>0</td>\n",
       "      <td>0</td>\n",
       "      <td>0</td>\n",
       "      <td>0</td>\n",
       "      <td>0</td>\n",
       "      <td>...</td>\n",
       "      <td>1</td>\n",
       "      <td>0</td>\n",
       "      <td>0</td>\n",
       "      <td>1</td>\n",
       "      <td>0</td>\n",
       "      <td>0</td>\n",
       "      <td>0</td>\n",
       "      <td>0</td>\n",
       "      <td>0</td>\n",
       "      <td>0</td>\n",
       "    </tr>\n",
       "  </tbody>\n",
       "</table>\n",
       "<p>3 rows × 505 columns</p>\n",
       "</div>"
      ],
      "text/plain": [
       "                   target                                                 \\\n",
       "city            (not set) 13403 14076 24130 39404 53425 75709 83709 8756   \n",
       "device_category                                                            \n",
       "desktop               427     0     0     0     0     0     0     0    0   \n",
       "mobile                913     0     0     0     0     3     0     0    0   \n",
       "tablet                 21     0     0     0     0     0     0     0    0   \n",
       "\n",
       "                       ...                                            \\\n",
       "city            88040  ... Zheleznodorozhny Zheleznogorsk Zhigulevsk   \n",
       "device_category        ...                                             \n",
       "desktop             0  ...               29             3          0   \n",
       "mobile              0  ...               73             0          0   \n",
       "tablet              0  ...                1             0          0   \n",
       "\n",
       "                                                                     \\\n",
       "city            Zhukovskiy Zlatoust Znamenskiy Zvenigorod Тарасовка   \n",
       "device_category                                                       \n",
       "desktop                 11        0          0          7         0   \n",
       "mobile                  27        3          0         22         0   \n",
       "tablet                   1        0          0          0         0   \n",
       "\n",
       "                                     \n",
       "city            Тимофеевка Хомутово  \n",
       "device_category                      \n",
       "desktop                  0        0  \n",
       "mobile                   1        3  \n",
       "tablet                   0        0  \n",
       "\n",
       "[3 rows x 505 columns]"
      ]
     },
     "execution_count": 244,
     "metadata": {},
     "output_type": "execute_result"
    }
   ],
   "source": [
    "# df_united_clean.pivot(index='device_category', columns='city', values='target')\n",
    "pd.pivot_table(df_united_clean,\n",
    "               index=[\"device_category\"],\n",
    "               values=[\"target\"],\n",
    "               columns=[\"city\"],\n",
    "               aggfunc=sum)"
   ]
  }
 ],
 "metadata": {
  "colab": {
   "provenance": []
  },
  "kernelspec": {
   "display_name": "Python 3 (ipykernel)",
   "language": "python",
   "name": "python3"
  }
 },
 "nbformat": 4,
 "nbformat_minor": 4
}
