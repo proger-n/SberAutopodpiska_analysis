{
 "cells": [
  {
   "cell_type": "markdown",
   "metadata": {},
   "source": [
    "# 0. Description\n",
    "\n",
    "Описание атрибутов(ga_hits.csv):\n",
    "- session_id — ID визита;\n",
    "- client_id — ID посетителя;\n",
    "- visit_date — дата визита;\n",
    "- visit_time — время визита;\n",
    "- visit_number — порядковый номер визита клиента;\n",
    "- utm_source — канал привлечения;\n",
    "- utm_medium — тип привлечения;\n",
    "- utm_campaign — рекламная кампания;\n",
    "- utm_keyword — ключевое слово;\n",
    "- device_category — тип устройства;\n",
    "- device_os — ОС устройства;\n",
    "- device_brand — марка устройства;\n",
    "- device_model — модель устройства;\n",
    "- device_screen_resolution — разрешение экрана;\n",
    "- device_brand — марка устройства;\n",
    "- device_model — модель устройства;\n",
    "- device_screen_resolution — разрешение экрана;\n",
    "- device_browser — браузер;\n",
    "- geo_country — страна;\n",
    "- geo_city — город\n",
    "\n",
    "Описание атрибутов(ga_sessions.csv):\n",
    "- session_id — ID визита;\n",
    "- hit_date — дата события;\n",
    "- hit_time — время события;\n",
    "- hit_number — порядковый номер события в рамках сессии;\n",
    "- hit_type — тип события;\n",
    "- hit_referer — источник события;\n",
    "- hit_page_path — страница события;\n",
    "- event_category — тип действия;\n",
    "- event_action — действие;\n",
    "- event_label — тег действия;\n",
    "- event_value — значение результата действия\n",
    "<hr>\n",
    "\n",
    "**Целевые действия:**  \n",
    "события типа ga_hits.event_action in\n",
    "('sub_car_claim_click', 'sub_car_claim_submit_click',\n",
    "'sub_open_dialog_click', 'sub_custom_question_submit_click',\n",
    "'sub_call_number_click', 'sub_callback_submit_click', 'sub_submit_success',\n",
    "'sub_car_request_submit_click')\n",
    "\n",
    "**Реклама в социальных сетях:**  \n",
    "все визиты с ga_sessions.utm_source in\n",
    "('QxAxdyPLuQMEcrdZWdWb', 'MvfHsxITijuriZxsqZqt', 'ISrKoXQCxqqYvAZICvjs',\n",
    "IZEXUFLARCUMynmHNBGo', 'PlbkrSYoHuZBWfYjYnfw',\n",
    "'gVRrcxiDQubJiljoTbGm').\n",
    "\n",
    "**Органический трафик:**  \n",
    "все визиты с ga_sessions.utm_medium in ('organic',\n",
    "'referral', '(none)').\n",
    "\n",
    "**Платный трафик:**  \n",
    "весь неорганический трафик."
   ]
  },
  {
   "cell_type": "markdown",
   "metadata": {
    "id": "KdPm6UfGZNZR"
   },
   "source": [
    "# 0. Targets\n",
    "\n",
    "#### - Проведите проверку следующих гипотез:\n",
    "1. Органический трафик не отличается от платного с точки зрения CR (Conversion Rate) в целевые события.\n",
    "2. Трафик с мобильных устройств не отличается от трафика с десктопных устройств с точки зрения CR (Conversion Rate) в целевые события.\n",
    "3. Трафик из городов присутствия (Москва и область, Санкт-Петербург) не отличается от трафика из иных регионов с точки зрения CR (Conversion Rate) в целевые события\n",
    "\n",
    "\n",
    "#### - Ответьте на вопросы продуктовой команды:\n",
    "4. Из каких источников (кампаний, устройств, локаций) к нам идёт самый целевой трафик (и с точки зрения объёма трафика, и с точки зрения CR)?\n",
    "5. Какие авто пользуются наибольшим спросом? У каких авто самый лучший показатель CR (Conversion Rate) в целевые события?\n",
    "6. Стоит ли нам увеличивать своё присутствие в соцсетях и давать там больше рекламы?"
   ]
  },
  {
   "cell_type": "markdown",
   "metadata": {
    "id": "ziNRzd_KRsuN"
   },
   "source": [
    "# 1.Data preparation"
   ]
  },
  {
   "cell_type": "code",
   "execution_count": 2,
   "metadata": {
    "id": "tIzQKRx68xJt"
   },
   "outputs": [],
   "source": [
    "import pandas as pd\n",
    "import missingno as msno\n",
    "import seaborn as sns\n",
    "import matplotlib.pyplot as plt\n",
    "from scipy import stats\n",
    "sns.set()"
   ]
  },
  {
   "cell_type": "code",
   "execution_count": 3,
   "metadata": {
    "colab": {
     "base_uri": "https://localhost:8080/",
     "height": 357
    },
    "id": "YvwFiNEd-n1s",
    "outputId": "f6c0dfc7-7a50-492f-efaf-74f5a1cd8bbd"
   },
   "outputs": [
    {
     "data": {
      "text/html": [
       "<div>\n",
       "<style scoped>\n",
       "    .dataframe tbody tr th:only-of-type {\n",
       "        vertical-align: middle;\n",
       "    }\n",
       "\n",
       "    .dataframe tbody tr th {\n",
       "        vertical-align: top;\n",
       "    }\n",
       "\n",
       "    .dataframe thead th {\n",
       "        text-align: right;\n",
       "    }\n",
       "</style>\n",
       "<table border=\"1\" class=\"dataframe\">\n",
       "  <thead>\n",
       "    <tr style=\"text-align: right;\">\n",
       "      <th></th>\n",
       "      <th>session_id</th>\n",
       "      <th>hit_date</th>\n",
       "      <th>hit_time</th>\n",
       "      <th>hit_number</th>\n",
       "      <th>hit_type</th>\n",
       "      <th>hit_referer</th>\n",
       "      <th>hit_page_path</th>\n",
       "      <th>event_category</th>\n",
       "      <th>event_action</th>\n",
       "      <th>event_label</th>\n",
       "      <th>event_value</th>\n",
       "    </tr>\n",
       "  </thead>\n",
       "  <tbody>\n",
       "    <tr>\n",
       "      <th>0</th>\n",
       "      <td>5639623078712724064.1640254056.1640254056</td>\n",
       "      <td>2021-12-23</td>\n",
       "      <td>597864.0</td>\n",
       "      <td>30</td>\n",
       "      <td>event</td>\n",
       "      <td>NaN</td>\n",
       "      <td>sberauto.com/cars?utm_source_initial=google&amp;ut...</td>\n",
       "      <td>quiz</td>\n",
       "      <td>quiz_show</td>\n",
       "      <td>NaN</td>\n",
       "      <td>NaN</td>\n",
       "    </tr>\n",
       "    <tr>\n",
       "      <th>1</th>\n",
       "      <td>7750352294969115059.1640271109.1640271109</td>\n",
       "      <td>2021-12-23</td>\n",
       "      <td>597331.0</td>\n",
       "      <td>41</td>\n",
       "      <td>event</td>\n",
       "      <td>NaN</td>\n",
       "      <td>sberauto.com/cars/fiat?city=1&amp;city=18&amp;rental_c...</td>\n",
       "      <td>quiz</td>\n",
       "      <td>quiz_show</td>\n",
       "      <td>NaN</td>\n",
       "      <td>NaN</td>\n",
       "    </tr>\n",
       "    <tr>\n",
       "      <th>2</th>\n",
       "      <td>885342191847998240.1640235807.1640235807</td>\n",
       "      <td>2021-12-23</td>\n",
       "      <td>796252.0</td>\n",
       "      <td>49</td>\n",
       "      <td>event</td>\n",
       "      <td>NaN</td>\n",
       "      <td>sberauto.com/cars/all/volkswagen/polo/e994838f...</td>\n",
       "      <td>quiz</td>\n",
       "      <td>quiz_show</td>\n",
       "      <td>NaN</td>\n",
       "      <td>NaN</td>\n",
       "    </tr>\n",
       "    <tr>\n",
       "      <th>3</th>\n",
       "      <td>142526202120934167.1640211014.1640211014</td>\n",
       "      <td>2021-12-23</td>\n",
       "      <td>934292.0</td>\n",
       "      <td>46</td>\n",
       "      <td>event</td>\n",
       "      <td>NaN</td>\n",
       "      <td>sberauto.com/cars?utm_source_initial=yandex&amp;ut...</td>\n",
       "      <td>quiz</td>\n",
       "      <td>quiz_show</td>\n",
       "      <td>NaN</td>\n",
       "      <td>NaN</td>\n",
       "    </tr>\n",
       "    <tr>\n",
       "      <th>4</th>\n",
       "      <td>3450086108837475701.1640265078.1640265078</td>\n",
       "      <td>2021-12-23</td>\n",
       "      <td>768741.0</td>\n",
       "      <td>79</td>\n",
       "      <td>event</td>\n",
       "      <td>NaN</td>\n",
       "      <td>sberauto.com/cars/all/mercedes-benz/cla-klasse...</td>\n",
       "      <td>quiz</td>\n",
       "      <td>quiz_show</td>\n",
       "      <td>NaN</td>\n",
       "      <td>NaN</td>\n",
       "    </tr>\n",
       "  </tbody>\n",
       "</table>\n",
       "</div>"
      ],
      "text/plain": [
       "                                  session_id    hit_date  hit_time  \\\n",
       "0  5639623078712724064.1640254056.1640254056  2021-12-23  597864.0   \n",
       "1  7750352294969115059.1640271109.1640271109  2021-12-23  597331.0   \n",
       "2   885342191847998240.1640235807.1640235807  2021-12-23  796252.0   \n",
       "3   142526202120934167.1640211014.1640211014  2021-12-23  934292.0   \n",
       "4  3450086108837475701.1640265078.1640265078  2021-12-23  768741.0   \n",
       "\n",
       "   hit_number hit_type hit_referer  \\\n",
       "0          30    event         NaN   \n",
       "1          41    event         NaN   \n",
       "2          49    event         NaN   \n",
       "3          46    event         NaN   \n",
       "4          79    event         NaN   \n",
       "\n",
       "                                       hit_page_path event_category  \\\n",
       "0  sberauto.com/cars?utm_source_initial=google&ut...           quiz   \n",
       "1  sberauto.com/cars/fiat?city=1&city=18&rental_c...           quiz   \n",
       "2  sberauto.com/cars/all/volkswagen/polo/e994838f...           quiz   \n",
       "3  sberauto.com/cars?utm_source_initial=yandex&ut...           quiz   \n",
       "4  sberauto.com/cars/all/mercedes-benz/cla-klasse...           quiz   \n",
       "\n",
       "  event_action event_label  event_value  \n",
       "0    quiz_show         NaN          NaN  \n",
       "1    quiz_show         NaN          NaN  \n",
       "2    quiz_show         NaN          NaN  \n",
       "3    quiz_show         NaN          NaN  \n",
       "4    quiz_show         NaN          NaN  "
      ]
     },
     "execution_count": 3,
     "metadata": {},
     "output_type": "execute_result"
    }
   ],
   "source": [
    "df_hits = pd.read_csv('https://drive.google.com/uc?export=download&confirm=no_antivirus&id=1aWTUBZoxDctNs-ldqEw-9dw0X2zR9upd')\n",
    "# df_hits = pd.read_csv('../../ga_hits.csv')\n",
    "df_hits.head()"
   ]
  },
  {
   "cell_type": "code",
   "execution_count": 4,
   "metadata": {},
   "outputs": [
    {
     "data": {
      "text/html": [
       "<div>\n",
       "<style scoped>\n",
       "    .dataframe tbody tr th:only-of-type {\n",
       "        vertical-align: middle;\n",
       "    }\n",
       "\n",
       "    .dataframe tbody tr th {\n",
       "        vertical-align: top;\n",
       "    }\n",
       "\n",
       "    .dataframe thead th {\n",
       "        text-align: right;\n",
       "    }\n",
       "</style>\n",
       "<table border=\"1\" class=\"dataframe\">\n",
       "  <thead>\n",
       "    <tr style=\"text-align: right;\">\n",
       "      <th></th>\n",
       "      <th>session_id</th>\n",
       "      <th>event_action</th>\n",
       "      <th>hit_page_path</th>\n",
       "    </tr>\n",
       "  </thead>\n",
       "  <tbody>\n",
       "    <tr>\n",
       "      <th>0</th>\n",
       "      <td>5639623078712724064.1640254056.1640254056</td>\n",
       "      <td>quiz_show</td>\n",
       "      <td>sberauto.com/cars?utm_source_initial=google&amp;ut...</td>\n",
       "    </tr>\n",
       "    <tr>\n",
       "      <th>1</th>\n",
       "      <td>7750352294969115059.1640271109.1640271109</td>\n",
       "      <td>quiz_show</td>\n",
       "      <td>sberauto.com/cars/fiat?city=1&amp;city=18&amp;rental_c...</td>\n",
       "    </tr>\n",
       "    <tr>\n",
       "      <th>2</th>\n",
       "      <td>885342191847998240.1640235807.1640235807</td>\n",
       "      <td>quiz_show</td>\n",
       "      <td>sberauto.com/cars/all/volkswagen/polo/e994838f...</td>\n",
       "    </tr>\n",
       "    <tr>\n",
       "      <th>3</th>\n",
       "      <td>142526202120934167.1640211014.1640211014</td>\n",
       "      <td>quiz_show</td>\n",
       "      <td>sberauto.com/cars?utm_source_initial=yandex&amp;ut...</td>\n",
       "    </tr>\n",
       "    <tr>\n",
       "      <th>4</th>\n",
       "      <td>3450086108837475701.1640265078.1640265078</td>\n",
       "      <td>quiz_show</td>\n",
       "      <td>sberauto.com/cars/all/mercedes-benz/cla-klasse...</td>\n",
       "    </tr>\n",
       "  </tbody>\n",
       "</table>\n",
       "</div>"
      ],
      "text/plain": [
       "                                  session_id event_action  \\\n",
       "0  5639623078712724064.1640254056.1640254056    quiz_show   \n",
       "1  7750352294969115059.1640271109.1640271109    quiz_show   \n",
       "2   885342191847998240.1640235807.1640235807    quiz_show   \n",
       "3   142526202120934167.1640211014.1640211014    quiz_show   \n",
       "4  3450086108837475701.1640265078.1640265078    quiz_show   \n",
       "\n",
       "                                       hit_page_path  \n",
       "0  sberauto.com/cars?utm_source_initial=google&ut...  \n",
       "1  sberauto.com/cars/fiat?city=1&city=18&rental_c...  \n",
       "2  sberauto.com/cars/all/volkswagen/polo/e994838f...  \n",
       "3  sberauto.com/cars?utm_source_initial=yandex&ut...  \n",
       "4  sberauto.com/cars/all/mercedes-benz/cla-klasse...  "
      ]
     },
     "execution_count": 4,
     "metadata": {},
     "output_type": "execute_result"
    }
   ],
   "source": [
    "df_hits_usable = df_hits[['session_id', 'event_action', 'hit_page_path']]\n",
    "df_hits_usable.head()"
   ]
  },
  {
   "cell_type": "code",
   "execution_count": 5,
   "metadata": {},
   "outputs": [
    {
     "name": "stderr",
     "output_type": "stream",
     "text": [
      "C:\\Users\\NA_PC\\AppData\\Local\\Temp\\ipykernel_4664\\1655697762.py:1: SettingWithCopyWarning: \n",
      "A value is trying to be set on a copy of a slice from a DataFrame.\n",
      "Try using .loc[row_indexer,col_indexer] = value instead\n",
      "\n",
      "See the caveats in the documentation: https://pandas.pydata.org/pandas-docs/stable/user_guide/indexing.html#returning-a-view-versus-a-copy\n",
      "  df_hits_usable['target'] = df_hits_usable.event_action.isin(['sub_car_claim_click', 'sub_car_claim_submit_click',\n"
     ]
    }
   ],
   "source": [
    "df_hits_usable['target'] = df_hits_usable.event_action.isin(['sub_car_claim_click', 'sub_car_claim_submit_click',\n",
    "'sub_open_dialog_click', 'sub_custom_question_submit_click',\n",
    "'sub_call_number_click', 'sub_callback_submit_click', 'sub_submit_success',\n",
    "'sub_car_request_submit_click'])\n"
   ]
  },
  {
   "cell_type": "code",
   "execution_count": 6,
   "metadata": {},
   "outputs": [
    {
     "name": "stderr",
     "output_type": "stream",
     "text": [
      "C:\\Users\\NA_PC\\AppData\\Local\\Temp\\ipykernel_4664\\4049975597.py:1: FutureWarning: The provided callable <built-in function sum> is currently using SeriesGroupBy.sum. In a future version of pandas, the provided callable will be used directly. To keep current behavior pass the string \"sum\" instead.\n",
      "  df_hits_usable = pd.pivot_table(df_hits_usable,\n"
     ]
    }
   ],
   "source": [
    "df_hits_usable = pd.pivot_table(df_hits_usable,\n",
    "               index=[\"session_id\"],\n",
    "               values=[\"target\", \"hit_page_path\"],\n",
    "               aggfunc={\"target\": sum, \"hit_page_path\": 'first'}\n",
    "               ).reset_index()"
   ]
  },
  {
   "cell_type": "code",
   "execution_count": 7,
   "metadata": {
    "colab": {
     "base_uri": "https://localhost:8080/",
     "height": 306
    },
    "id": "Z8AwJQJi-20l",
    "outputId": "e272f443-4cba-4ebe-b7bb-6afb07e3b80e"
   },
   "outputs": [
    {
     "name": "stderr",
     "output_type": "stream",
     "text": [
      "C:\\Users\\NA_PC\\AppData\\Local\\Temp\\ipykernel_4664\\414802871.py:2: DtypeWarning: Columns (1) have mixed types. Specify dtype option on import or set low_memory=False.\n",
      "  df_sessions = pd.read_csv('../../ga_sessions.csv')\n"
     ]
    },
    {
     "data": {
      "text/html": [
       "<div>\n",
       "<style scoped>\n",
       "    .dataframe tbody tr th:only-of-type {\n",
       "        vertical-align: middle;\n",
       "    }\n",
       "\n",
       "    .dataframe tbody tr th {\n",
       "        vertical-align: top;\n",
       "    }\n",
       "\n",
       "    .dataframe thead th {\n",
       "        text-align: right;\n",
       "    }\n",
       "</style>\n",
       "<table border=\"1\" class=\"dataframe\">\n",
       "  <thead>\n",
       "    <tr style=\"text-align: right;\">\n",
       "      <th></th>\n",
       "      <th>session_id</th>\n",
       "      <th>client_id</th>\n",
       "      <th>visit_date</th>\n",
       "      <th>visit_time</th>\n",
       "      <th>visit_number</th>\n",
       "      <th>utm_source</th>\n",
       "      <th>utm_medium</th>\n",
       "      <th>utm_campaign</th>\n",
       "      <th>utm_adcontent</th>\n",
       "      <th>utm_keyword</th>\n",
       "      <th>device_category</th>\n",
       "      <th>device_os</th>\n",
       "      <th>device_brand</th>\n",
       "      <th>device_model</th>\n",
       "      <th>device_screen_resolution</th>\n",
       "      <th>device_browser</th>\n",
       "      <th>geo_country</th>\n",
       "      <th>geo_city</th>\n",
       "    </tr>\n",
       "  </thead>\n",
       "  <tbody>\n",
       "    <tr>\n",
       "      <th>0</th>\n",
       "      <td>9055434745589932991.1637753792.1637753792</td>\n",
       "      <td>2108382700.163776</td>\n",
       "      <td>2021-11-24</td>\n",
       "      <td>14:36:32</td>\n",
       "      <td>1</td>\n",
       "      <td>ZpYIoDJMcFzVoPFsHGJL</td>\n",
       "      <td>banner</td>\n",
       "      <td>LEoPHuyFvzoNfnzGgfcd</td>\n",
       "      <td>vCIpmpaGBnIQhyYNkXqp</td>\n",
       "      <td>puhZPIYqKXeFPaUviSjo</td>\n",
       "      <td>mobile</td>\n",
       "      <td>Android</td>\n",
       "      <td>Huawei</td>\n",
       "      <td>NaN</td>\n",
       "      <td>360x720</td>\n",
       "      <td>Chrome</td>\n",
       "      <td>Russia</td>\n",
       "      <td>Zlatoust</td>\n",
       "    </tr>\n",
       "    <tr>\n",
       "      <th>1</th>\n",
       "      <td>905544597018549464.1636867290.1636867290</td>\n",
       "      <td>210838531.163687</td>\n",
       "      <td>2021-11-14</td>\n",
       "      <td>08:21:30</td>\n",
       "      <td>1</td>\n",
       "      <td>MvfHsxITijuriZxsqZqt</td>\n",
       "      <td>cpm</td>\n",
       "      <td>FTjNLDyTrXaWYgZymFkV</td>\n",
       "      <td>xhoenQgDQsgfEPYNPwKO</td>\n",
       "      <td>IGUCNvHlhfHpROGclCit</td>\n",
       "      <td>mobile</td>\n",
       "      <td>Android</td>\n",
       "      <td>Samsung</td>\n",
       "      <td>NaN</td>\n",
       "      <td>385x854</td>\n",
       "      <td>Samsung Internet</td>\n",
       "      <td>Russia</td>\n",
       "      <td>Moscow</td>\n",
       "    </tr>\n",
       "    <tr>\n",
       "      <th>2</th>\n",
       "      <td>9055446045651783499.1640648526.1640648526</td>\n",
       "      <td>2108385331.164065</td>\n",
       "      <td>2021-12-28</td>\n",
       "      <td>02:42:06</td>\n",
       "      <td>1</td>\n",
       "      <td>ZpYIoDJMcFzVoPFsHGJL</td>\n",
       "      <td>banner</td>\n",
       "      <td>LEoPHuyFvzoNfnzGgfcd</td>\n",
       "      <td>vCIpmpaGBnIQhyYNkXqp</td>\n",
       "      <td>puhZPIYqKXeFPaUviSjo</td>\n",
       "      <td>mobile</td>\n",
       "      <td>Android</td>\n",
       "      <td>Huawei</td>\n",
       "      <td>NaN</td>\n",
       "      <td>360x720</td>\n",
       "      <td>Chrome</td>\n",
       "      <td>Russia</td>\n",
       "      <td>Krasnoyarsk</td>\n",
       "    </tr>\n",
       "    <tr>\n",
       "      <th>3</th>\n",
       "      <td>9055447046360770272.1622255328.1622255328</td>\n",
       "      <td>2108385564.162225</td>\n",
       "      <td>2021-05-29</td>\n",
       "      <td>05:00:00</td>\n",
       "      <td>1</td>\n",
       "      <td>kjsLglQLzykiRbcDiGcD</td>\n",
       "      <td>cpc</td>\n",
       "      <td>NaN</td>\n",
       "      <td>NOBKLgtuvqYWkXQHeYWM</td>\n",
       "      <td>NaN</td>\n",
       "      <td>mobile</td>\n",
       "      <td>NaN</td>\n",
       "      <td>Xiaomi</td>\n",
       "      <td>NaN</td>\n",
       "      <td>393x786</td>\n",
       "      <td>Chrome</td>\n",
       "      <td>Russia</td>\n",
       "      <td>Moscow</td>\n",
       "    </tr>\n",
       "    <tr>\n",
       "      <th>4</th>\n",
       "      <td>9055447046360770272.1622255345.1622255345</td>\n",
       "      <td>2108385564.162225</td>\n",
       "      <td>2021-05-29</td>\n",
       "      <td>05:00:00</td>\n",
       "      <td>2</td>\n",
       "      <td>kjsLglQLzykiRbcDiGcD</td>\n",
       "      <td>cpc</td>\n",
       "      <td>NaN</td>\n",
       "      <td>NaN</td>\n",
       "      <td>NaN</td>\n",
       "      <td>mobile</td>\n",
       "      <td>NaN</td>\n",
       "      <td>Xiaomi</td>\n",
       "      <td>NaN</td>\n",
       "      <td>393x786</td>\n",
       "      <td>Chrome</td>\n",
       "      <td>Russia</td>\n",
       "      <td>Moscow</td>\n",
       "    </tr>\n",
       "  </tbody>\n",
       "</table>\n",
       "</div>"
      ],
      "text/plain": [
       "                                  session_id          client_id  visit_date  \\\n",
       "0  9055434745589932991.1637753792.1637753792  2108382700.163776  2021-11-24   \n",
       "1   905544597018549464.1636867290.1636867290   210838531.163687  2021-11-14   \n",
       "2  9055446045651783499.1640648526.1640648526  2108385331.164065  2021-12-28   \n",
       "3  9055447046360770272.1622255328.1622255328  2108385564.162225  2021-05-29   \n",
       "4  9055447046360770272.1622255345.1622255345  2108385564.162225  2021-05-29   \n",
       "\n",
       "  visit_time  visit_number            utm_source utm_medium  \\\n",
       "0   14:36:32             1  ZpYIoDJMcFzVoPFsHGJL     banner   \n",
       "1   08:21:30             1  MvfHsxITijuriZxsqZqt        cpm   \n",
       "2   02:42:06             1  ZpYIoDJMcFzVoPFsHGJL     banner   \n",
       "3   05:00:00             1  kjsLglQLzykiRbcDiGcD        cpc   \n",
       "4   05:00:00             2  kjsLglQLzykiRbcDiGcD        cpc   \n",
       "\n",
       "           utm_campaign         utm_adcontent           utm_keyword  \\\n",
       "0  LEoPHuyFvzoNfnzGgfcd  vCIpmpaGBnIQhyYNkXqp  puhZPIYqKXeFPaUviSjo   \n",
       "1  FTjNLDyTrXaWYgZymFkV  xhoenQgDQsgfEPYNPwKO  IGUCNvHlhfHpROGclCit   \n",
       "2  LEoPHuyFvzoNfnzGgfcd  vCIpmpaGBnIQhyYNkXqp  puhZPIYqKXeFPaUviSjo   \n",
       "3                   NaN  NOBKLgtuvqYWkXQHeYWM                   NaN   \n",
       "4                   NaN                   NaN                   NaN   \n",
       "\n",
       "  device_category device_os device_brand device_model  \\\n",
       "0          mobile   Android       Huawei          NaN   \n",
       "1          mobile   Android      Samsung          NaN   \n",
       "2          mobile   Android       Huawei          NaN   \n",
       "3          mobile       NaN       Xiaomi          NaN   \n",
       "4          mobile       NaN       Xiaomi          NaN   \n",
       "\n",
       "  device_screen_resolution    device_browser geo_country     geo_city  \n",
       "0                  360x720            Chrome      Russia     Zlatoust  \n",
       "1                  385x854  Samsung Internet      Russia       Moscow  \n",
       "2                  360x720            Chrome      Russia  Krasnoyarsk  \n",
       "3                  393x786            Chrome      Russia       Moscow  \n",
       "4                  393x786            Chrome      Russia       Moscow  "
      ]
     },
     "execution_count": 7,
     "metadata": {},
     "output_type": "execute_result"
    }
   ],
   "source": [
    "df_sessions = pd.read_csv('https://drive.google.com/uc?export=download&confirm=no_antivirus&id=1GaQnAgzshXMl0WwKHI11e2dBjMjoTlfU')\n",
    "# df_sessions = pd.read_csv('../../ga_sessions.csv')\n",
    "df_sessions.head()"
   ]
  },
  {
   "cell_type": "code",
   "execution_count": 187,
   "metadata": {},
   "outputs": [
    {
     "data": {
      "text/html": [
       "<div>\n",
       "<style scoped>\n",
       "    .dataframe tbody tr th:only-of-type {\n",
       "        vertical-align: middle;\n",
       "    }\n",
       "\n",
       "    .dataframe tbody tr th {\n",
       "        vertical-align: top;\n",
       "    }\n",
       "\n",
       "    .dataframe thead th {\n",
       "        text-align: right;\n",
       "    }\n",
       "</style>\n",
       "<table border=\"1\" class=\"dataframe\">\n",
       "  <thead>\n",
       "    <tr style=\"text-align: right;\">\n",
       "      <th></th>\n",
       "      <th>session_id</th>\n",
       "      <th>utm_source</th>\n",
       "      <th>utm_medium</th>\n",
       "      <th>utm_campaign</th>\n",
       "      <th>device_category</th>\n",
       "      <th>device_os</th>\n",
       "      <th>device_brand</th>\n",
       "      <th>device_model</th>\n",
       "      <th>device_browser</th>\n",
       "      <th>geo_country</th>\n",
       "      <th>geo_city</th>\n",
       "    </tr>\n",
       "  </thead>\n",
       "  <tbody>\n",
       "    <tr>\n",
       "      <th>0</th>\n",
       "      <td>9055434745589932991.1637753792.1637753792</td>\n",
       "      <td>ZpYIoDJMcFzVoPFsHGJL</td>\n",
       "      <td>banner</td>\n",
       "      <td>LEoPHuyFvzoNfnzGgfcd</td>\n",
       "      <td>mobile</td>\n",
       "      <td>Android</td>\n",
       "      <td>Huawei</td>\n",
       "      <td>NaN</td>\n",
       "      <td>Chrome</td>\n",
       "      <td>Russia</td>\n",
       "      <td>Zlatoust</td>\n",
       "    </tr>\n",
       "    <tr>\n",
       "      <th>1</th>\n",
       "      <td>905544597018549464.1636867290.1636867290</td>\n",
       "      <td>MvfHsxITijuriZxsqZqt</td>\n",
       "      <td>cpm</td>\n",
       "      <td>FTjNLDyTrXaWYgZymFkV</td>\n",
       "      <td>mobile</td>\n",
       "      <td>Android</td>\n",
       "      <td>Samsung</td>\n",
       "      <td>NaN</td>\n",
       "      <td>Samsung Internet</td>\n",
       "      <td>Russia</td>\n",
       "      <td>Moscow</td>\n",
       "    </tr>\n",
       "    <tr>\n",
       "      <th>2</th>\n",
       "      <td>9055446045651783499.1640648526.1640648526</td>\n",
       "      <td>ZpYIoDJMcFzVoPFsHGJL</td>\n",
       "      <td>banner</td>\n",
       "      <td>LEoPHuyFvzoNfnzGgfcd</td>\n",
       "      <td>mobile</td>\n",
       "      <td>Android</td>\n",
       "      <td>Huawei</td>\n",
       "      <td>NaN</td>\n",
       "      <td>Chrome</td>\n",
       "      <td>Russia</td>\n",
       "      <td>Krasnoyarsk</td>\n",
       "    </tr>\n",
       "    <tr>\n",
       "      <th>3</th>\n",
       "      <td>9055447046360770272.1622255328.1622255328</td>\n",
       "      <td>kjsLglQLzykiRbcDiGcD</td>\n",
       "      <td>cpc</td>\n",
       "      <td>NaN</td>\n",
       "      <td>mobile</td>\n",
       "      <td>NaN</td>\n",
       "      <td>Xiaomi</td>\n",
       "      <td>NaN</td>\n",
       "      <td>Chrome</td>\n",
       "      <td>Russia</td>\n",
       "      <td>Moscow</td>\n",
       "    </tr>\n",
       "    <tr>\n",
       "      <th>4</th>\n",
       "      <td>9055447046360770272.1622255345.1622255345</td>\n",
       "      <td>kjsLglQLzykiRbcDiGcD</td>\n",
       "      <td>cpc</td>\n",
       "      <td>NaN</td>\n",
       "      <td>mobile</td>\n",
       "      <td>NaN</td>\n",
       "      <td>Xiaomi</td>\n",
       "      <td>NaN</td>\n",
       "      <td>Chrome</td>\n",
       "      <td>Russia</td>\n",
       "      <td>Moscow</td>\n",
       "    </tr>\n",
       "  </tbody>\n",
       "</table>\n",
       "</div>"
      ],
      "text/plain": [
       "                                  session_id            utm_source utm_medium  \\\n",
       "0  9055434745589932991.1637753792.1637753792  ZpYIoDJMcFzVoPFsHGJL     banner   \n",
       "1   905544597018549464.1636867290.1636867290  MvfHsxITijuriZxsqZqt        cpm   \n",
       "2  9055446045651783499.1640648526.1640648526  ZpYIoDJMcFzVoPFsHGJL     banner   \n",
       "3  9055447046360770272.1622255328.1622255328  kjsLglQLzykiRbcDiGcD        cpc   \n",
       "4  9055447046360770272.1622255345.1622255345  kjsLglQLzykiRbcDiGcD        cpc   \n",
       "\n",
       "           utm_campaign device_category device_os device_brand device_model  \\\n",
       "0  LEoPHuyFvzoNfnzGgfcd          mobile   Android       Huawei          NaN   \n",
       "1  FTjNLDyTrXaWYgZymFkV          mobile   Android      Samsung          NaN   \n",
       "2  LEoPHuyFvzoNfnzGgfcd          mobile   Android       Huawei          NaN   \n",
       "3                   NaN          mobile       NaN       Xiaomi          NaN   \n",
       "4                   NaN          mobile       NaN       Xiaomi          NaN   \n",
       "\n",
       "     device_browser geo_country     geo_city  \n",
       "0            Chrome      Russia     Zlatoust  \n",
       "1  Samsung Internet      Russia       Moscow  \n",
       "2            Chrome      Russia  Krasnoyarsk  \n",
       "3            Chrome      Russia       Moscow  \n",
       "4            Chrome      Russia       Moscow  "
      ]
     },
     "execution_count": 187,
     "metadata": {},
     "output_type": "execute_result"
    }
   ],
   "source": [
    "# df_sessions_usable = df_sessions[['session_id', 'utm_source', 'utm_medium', 'device_category', 'geo_country', 'geo_city', 'device_os', 'device_brand', 'device_model']]\n",
    "df_sessions_usable = df_sessions.drop(columns=['client_id', 'visit_date', 'visit_time', 'visit_number', 'utm_adcontent', 'utm_keyword', 'device_screen_resolution'])\n",
    "df_sessions_usable.head()"
   ]
  },
  {
   "cell_type": "code",
   "execution_count": 188,
   "metadata": {
    "colab": {
     "base_uri": "https://localhost:8080/"
    },
    "id": "qtZmARS4QX8N",
    "outputId": "f8e37cd1-dd59-4bca-e7ef-011a7be4928b"
   },
   "outputs": [
    {
     "data": {
      "text/plain": [
       "(1860042, 11)"
      ]
     },
     "execution_count": 188,
     "metadata": {},
     "output_type": "execute_result"
    }
   ],
   "source": [
    "df_sessions_usable.shape"
   ]
  },
  {
   "cell_type": "code",
   "execution_count": 189,
   "metadata": {
    "colab": {
     "base_uri": "https://localhost:8080/"
    },
    "id": "KBVSqX5-RazN",
    "outputId": "abafe86c-f823-4d0b-9b1c-f4557a0ababa"
   },
   "outputs": [
    {
     "data": {
      "text/plain": [
       "(1734610, 3)"
      ]
     },
     "execution_count": 189,
     "metadata": {},
     "output_type": "execute_result"
    }
   ],
   "source": [
    "df_hits_usable.shape"
   ]
  },
  {
   "cell_type": "code",
   "execution_count": 190,
   "metadata": {},
   "outputs": [
    {
     "name": "stdout",
     "output_type": "stream",
     "text": [
      "1860042\n",
      "1734610\n"
     ]
    }
   ],
   "source": [
    "print(df_sessions_usable.session_id.nunique())\n",
    "print(df_hits_usable.session_id.nunique())"
   ]
  },
  {
   "cell_type": "markdown",
   "metadata": {},
   "source": [
    "данные объединяет значения столбца session_id \n",
    "сделаем общую таблицу только в которую войдут только строки где session_id присутствует в обоих таблицах"
   ]
  },
  {
   "cell_type": "code",
   "execution_count": 191,
   "metadata": {
    "id": "qDz53AKbL_AN"
   },
   "outputs": [
    {
     "data": {
      "text/html": [
       "<div>\n",
       "<style scoped>\n",
       "    .dataframe tbody tr th:only-of-type {\n",
       "        vertical-align: middle;\n",
       "    }\n",
       "\n",
       "    .dataframe tbody tr th {\n",
       "        vertical-align: top;\n",
       "    }\n",
       "\n",
       "    .dataframe thead th {\n",
       "        text-align: right;\n",
       "    }\n",
       "</style>\n",
       "<table border=\"1\" class=\"dataframe\">\n",
       "  <thead>\n",
       "    <tr style=\"text-align: right;\">\n",
       "      <th></th>\n",
       "      <th>session_id</th>\n",
       "      <th>hit_page_path</th>\n",
       "      <th>target</th>\n",
       "      <th>utm_source</th>\n",
       "      <th>utm_medium</th>\n",
       "      <th>utm_campaign</th>\n",
       "      <th>device_category</th>\n",
       "      <th>device_os</th>\n",
       "      <th>device_brand</th>\n",
       "      <th>device_model</th>\n",
       "      <th>device_browser</th>\n",
       "      <th>geo_country</th>\n",
       "      <th>geo_city</th>\n",
       "    </tr>\n",
       "  </thead>\n",
       "  <tbody>\n",
       "    <tr>\n",
       "      <th>0</th>\n",
       "      <td>1000009318903347362.1632663668.1632663668</td>\n",
       "      <td>podpiska.sberauto.com/faq?utm_source_initial=y...</td>\n",
       "      <td>0</td>\n",
       "      <td>MvfHsxITijuriZxsqZqt</td>\n",
       "      <td>cpm</td>\n",
       "      <td>FTjNLDyTrXaWYgZymFkV</td>\n",
       "      <td>mobile</td>\n",
       "      <td>NaN</td>\n",
       "      <td>Samsung</td>\n",
       "      <td>NaN</td>\n",
       "      <td>Chrome</td>\n",
       "      <td>Russia</td>\n",
       "      <td>Gelendzhik</td>\n",
       "    </tr>\n",
       "    <tr>\n",
       "      <th>1</th>\n",
       "      <td>1000010177899156286.1635013443.1635013443</td>\n",
       "      <td>podpiska.sberauto.com/</td>\n",
       "      <td>0</td>\n",
       "      <td>fDLlAcSmythWSCVMvqvL</td>\n",
       "      <td>(none)</td>\n",
       "      <td>LTuZkdKfxRGVceoWkVyg</td>\n",
       "      <td>mobile</td>\n",
       "      <td>Android</td>\n",
       "      <td>Samsung</td>\n",
       "      <td>NaN</td>\n",
       "      <td>Samsung Internet</td>\n",
       "      <td>Russia</td>\n",
       "      <td>Voronezh</td>\n",
       "    </tr>\n",
       "    <tr>\n",
       "      <th>2</th>\n",
       "      <td>1000013386240115915.1635402956.1635402956</td>\n",
       "      <td>sberauto.com/cars/all/lada-vaz/vesta/2fc745ed?...</td>\n",
       "      <td>0</td>\n",
       "      <td>ZpYIoDJMcFzVoPFsHGJL</td>\n",
       "      <td>banner</td>\n",
       "      <td>gecBYcKZCPMcVYdSSzKP</td>\n",
       "      <td>mobile</td>\n",
       "      <td>Android</td>\n",
       "      <td>Samsung</td>\n",
       "      <td>NaN</td>\n",
       "      <td>Chrome</td>\n",
       "      <td>Russia</td>\n",
       "      <td>Cherkessk</td>\n",
       "    </tr>\n",
       "    <tr>\n",
       "      <th>3</th>\n",
       "      <td>1000017303238376207.1623489300.1623489300</td>\n",
       "      <td>podpiska.sberauto.com/</td>\n",
       "      <td>0</td>\n",
       "      <td>ZpYIoDJMcFzVoPFsHGJL</td>\n",
       "      <td>banner</td>\n",
       "      <td>LEoPHuyFvzoNfnzGgfcd</td>\n",
       "      <td>mobile</td>\n",
       "      <td>NaN</td>\n",
       "      <td>Realme</td>\n",
       "      <td>NaN</td>\n",
       "      <td>Chrome</td>\n",
       "      <td>Russia</td>\n",
       "      <td>Irkutsk</td>\n",
       "    </tr>\n",
       "    <tr>\n",
       "      <th>4</th>\n",
       "      <td>1000020580299877109.1624943350.1624943350</td>\n",
       "      <td>sberauto.com/cars/https://sberauto.com/cars/b8...</td>\n",
       "      <td>0</td>\n",
       "      <td>fDLlAcSmythWSCVMvqvL</td>\n",
       "      <td>(none)</td>\n",
       "      <td>LTuZkdKfxRGVceoWkVyg</td>\n",
       "      <td>mobile</td>\n",
       "      <td>NaN</td>\n",
       "      <td>Apple</td>\n",
       "      <td>NaN</td>\n",
       "      <td>Safari</td>\n",
       "      <td>Russia</td>\n",
       "      <td>Moscow</td>\n",
       "    </tr>\n",
       "  </tbody>\n",
       "</table>\n",
       "</div>"
      ],
      "text/plain": [
       "                                  session_id  \\\n",
       "0  1000009318903347362.1632663668.1632663668   \n",
       "1  1000010177899156286.1635013443.1635013443   \n",
       "2  1000013386240115915.1635402956.1635402956   \n",
       "3  1000017303238376207.1623489300.1623489300   \n",
       "4  1000020580299877109.1624943350.1624943350   \n",
       "\n",
       "                                       hit_page_path  target  \\\n",
       "0  podpiska.sberauto.com/faq?utm_source_initial=y...       0   \n",
       "1                             podpiska.sberauto.com/       0   \n",
       "2  sberauto.com/cars/all/lada-vaz/vesta/2fc745ed?...       0   \n",
       "3                             podpiska.sberauto.com/       0   \n",
       "4  sberauto.com/cars/https://sberauto.com/cars/b8...       0   \n",
       "\n",
       "             utm_source utm_medium          utm_campaign device_category  \\\n",
       "0  MvfHsxITijuriZxsqZqt        cpm  FTjNLDyTrXaWYgZymFkV          mobile   \n",
       "1  fDLlAcSmythWSCVMvqvL     (none)  LTuZkdKfxRGVceoWkVyg          mobile   \n",
       "2  ZpYIoDJMcFzVoPFsHGJL     banner  gecBYcKZCPMcVYdSSzKP          mobile   \n",
       "3  ZpYIoDJMcFzVoPFsHGJL     banner  LEoPHuyFvzoNfnzGgfcd          mobile   \n",
       "4  fDLlAcSmythWSCVMvqvL     (none)  LTuZkdKfxRGVceoWkVyg          mobile   \n",
       "\n",
       "  device_os device_brand device_model    device_browser geo_country  \\\n",
       "0       NaN      Samsung          NaN            Chrome      Russia   \n",
       "1   Android      Samsung          NaN  Samsung Internet      Russia   \n",
       "2   Android      Samsung          NaN            Chrome      Russia   \n",
       "3       NaN       Realme          NaN            Chrome      Russia   \n",
       "4       NaN        Apple          NaN            Safari      Russia   \n",
       "\n",
       "     geo_city  \n",
       "0  Gelendzhik  \n",
       "1    Voronezh  \n",
       "2   Cherkessk  \n",
       "3     Irkutsk  \n",
       "4      Moscow  "
      ]
     },
     "execution_count": 191,
     "metadata": {},
     "output_type": "execute_result"
    }
   ],
   "source": [
    "df_united = pd.merge(df_hits_usable, df_sessions_usable)\n",
    "df_united.head()"
   ]
  },
  {
   "cell_type": "code",
   "execution_count": 192,
   "metadata": {
    "id": "XmyuIVk9L_AN"
   },
   "outputs": [
    {
     "data": {
      "text/plain": [
       "(1732266, 13)"
      ]
     },
     "execution_count": 192,
     "metadata": {},
     "output_type": "execute_result"
    }
   ],
   "source": [
    "df_united.shape"
   ]
  },
  {
   "cell_type": "code",
   "execution_count": 193,
   "metadata": {
    "id": "vLZI3JTWRg8N"
   },
   "outputs": [
    {
     "data": {
      "text/html": [
       "<div>\n",
       "<style scoped>\n",
       "    .dataframe tbody tr th:only-of-type {\n",
       "        vertical-align: middle;\n",
       "    }\n",
       "\n",
       "    .dataframe tbody tr th {\n",
       "        vertical-align: top;\n",
       "    }\n",
       "\n",
       "    .dataframe thead th {\n",
       "        text-align: right;\n",
       "    }\n",
       "</style>\n",
       "<table border=\"1\" class=\"dataframe\">\n",
       "  <thead>\n",
       "    <tr style=\"text-align: right;\">\n",
       "      <th></th>\n",
       "      <th>session_id</th>\n",
       "      <th>hit_page_path</th>\n",
       "      <th>target</th>\n",
       "      <th>utm_source</th>\n",
       "      <th>utm_medium</th>\n",
       "      <th>utm_campaign</th>\n",
       "      <th>device_category</th>\n",
       "      <th>device_os</th>\n",
       "      <th>device_brand</th>\n",
       "      <th>device_model</th>\n",
       "      <th>device_browser</th>\n",
       "      <th>geo_country</th>\n",
       "      <th>geo_city</th>\n",
       "    </tr>\n",
       "  </thead>\n",
       "  <tbody>\n",
       "    <tr>\n",
       "      <th>count</th>\n",
       "      <td>1732266</td>\n",
       "      <td>1732266</td>\n",
       "      <td>1.732266e+06</td>\n",
       "      <td>1732190</td>\n",
       "      <td>1732266</td>\n",
       "      <td>1536979</td>\n",
       "      <td>1732266</td>\n",
       "      <td>718302</td>\n",
       "      <td>1385070</td>\n",
       "      <td>15062</td>\n",
       "      <td>1732266</td>\n",
       "      <td>1732266</td>\n",
       "      <td>1732266</td>\n",
       "    </tr>\n",
       "    <tr>\n",
       "      <th>unique</th>\n",
       "      <td>1732266</td>\n",
       "      <td>209101</td>\n",
       "      <td>NaN</td>\n",
       "      <td>280</td>\n",
       "      <td>55</td>\n",
       "      <td>406</td>\n",
       "      <td>3</td>\n",
       "      <td>13</td>\n",
       "      <td>200</td>\n",
       "      <td>104</td>\n",
       "      <td>55</td>\n",
       "      <td>159</td>\n",
       "      <td>2389</td>\n",
       "    </tr>\n",
       "    <tr>\n",
       "      <th>top</th>\n",
       "      <td>1000009318903347362.1632663668.1632663668</td>\n",
       "      <td>podpiska.sberauto.com/</td>\n",
       "      <td>NaN</td>\n",
       "      <td>ZpYIoDJMcFzVoPFsHGJL</td>\n",
       "      <td>banner</td>\n",
       "      <td>LTuZkdKfxRGVceoWkVyg</td>\n",
       "      <td>mobile</td>\n",
       "      <td>Android</td>\n",
       "      <td>Apple</td>\n",
       "      <td>AuMdmADEIoPXiWpTsBEj</td>\n",
       "      <td>Chrome</td>\n",
       "      <td>Russia</td>\n",
       "      <td>Moscow</td>\n",
       "    </tr>\n",
       "    <tr>\n",
       "      <th>freq</th>\n",
       "      <td>1</td>\n",
       "      <td>924950</td>\n",
       "      <td>NaN</td>\n",
       "      <td>552555</td>\n",
       "      <td>525206</td>\n",
       "      <td>422992</td>\n",
       "      <td>1368679</td>\n",
       "      <td>425520</td>\n",
       "      <td>503533</td>\n",
       "      <td>9018</td>\n",
       "      <td>951573</td>\n",
       "      <td>1682423</td>\n",
       "      <td>750928</td>\n",
       "    </tr>\n",
       "    <tr>\n",
       "      <th>mean</th>\n",
       "      <td>NaN</td>\n",
       "      <td>NaN</td>\n",
       "      <td>5.936848e-02</td>\n",
       "      <td>NaN</td>\n",
       "      <td>NaN</td>\n",
       "      <td>NaN</td>\n",
       "      <td>NaN</td>\n",
       "      <td>NaN</td>\n",
       "      <td>NaN</td>\n",
       "      <td>NaN</td>\n",
       "      <td>NaN</td>\n",
       "      <td>NaN</td>\n",
       "      <td>NaN</td>\n",
       "    </tr>\n",
       "    <tr>\n",
       "      <th>std</th>\n",
       "      <td>NaN</td>\n",
       "      <td>NaN</td>\n",
       "      <td>5.999437e-01</td>\n",
       "      <td>NaN</td>\n",
       "      <td>NaN</td>\n",
       "      <td>NaN</td>\n",
       "      <td>NaN</td>\n",
       "      <td>NaN</td>\n",
       "      <td>NaN</td>\n",
       "      <td>NaN</td>\n",
       "      <td>NaN</td>\n",
       "      <td>NaN</td>\n",
       "      <td>NaN</td>\n",
       "    </tr>\n",
       "    <tr>\n",
       "      <th>min</th>\n",
       "      <td>NaN</td>\n",
       "      <td>NaN</td>\n",
       "      <td>0.000000e+00</td>\n",
       "      <td>NaN</td>\n",
       "      <td>NaN</td>\n",
       "      <td>NaN</td>\n",
       "      <td>NaN</td>\n",
       "      <td>NaN</td>\n",
       "      <td>NaN</td>\n",
       "      <td>NaN</td>\n",
       "      <td>NaN</td>\n",
       "      <td>NaN</td>\n",
       "      <td>NaN</td>\n",
       "    </tr>\n",
       "    <tr>\n",
       "      <th>25%</th>\n",
       "      <td>NaN</td>\n",
       "      <td>NaN</td>\n",
       "      <td>0.000000e+00</td>\n",
       "      <td>NaN</td>\n",
       "      <td>NaN</td>\n",
       "      <td>NaN</td>\n",
       "      <td>NaN</td>\n",
       "      <td>NaN</td>\n",
       "      <td>NaN</td>\n",
       "      <td>NaN</td>\n",
       "      <td>NaN</td>\n",
       "      <td>NaN</td>\n",
       "      <td>NaN</td>\n",
       "    </tr>\n",
       "    <tr>\n",
       "      <th>50%</th>\n",
       "      <td>NaN</td>\n",
       "      <td>NaN</td>\n",
       "      <td>0.000000e+00</td>\n",
       "      <td>NaN</td>\n",
       "      <td>NaN</td>\n",
       "      <td>NaN</td>\n",
       "      <td>NaN</td>\n",
       "      <td>NaN</td>\n",
       "      <td>NaN</td>\n",
       "      <td>NaN</td>\n",
       "      <td>NaN</td>\n",
       "      <td>NaN</td>\n",
       "      <td>NaN</td>\n",
       "    </tr>\n",
       "    <tr>\n",
       "      <th>75%</th>\n",
       "      <td>NaN</td>\n",
       "      <td>NaN</td>\n",
       "      <td>0.000000e+00</td>\n",
       "      <td>NaN</td>\n",
       "      <td>NaN</td>\n",
       "      <td>NaN</td>\n",
       "      <td>NaN</td>\n",
       "      <td>NaN</td>\n",
       "      <td>NaN</td>\n",
       "      <td>NaN</td>\n",
       "      <td>NaN</td>\n",
       "      <td>NaN</td>\n",
       "      <td>NaN</td>\n",
       "    </tr>\n",
       "    <tr>\n",
       "      <th>max</th>\n",
       "      <td>NaN</td>\n",
       "      <td>NaN</td>\n",
       "      <td>4.740000e+02</td>\n",
       "      <td>NaN</td>\n",
       "      <td>NaN</td>\n",
       "      <td>NaN</td>\n",
       "      <td>NaN</td>\n",
       "      <td>NaN</td>\n",
       "      <td>NaN</td>\n",
       "      <td>NaN</td>\n",
       "      <td>NaN</td>\n",
       "      <td>NaN</td>\n",
       "      <td>NaN</td>\n",
       "    </tr>\n",
       "  </tbody>\n",
       "</table>\n",
       "</div>"
      ],
      "text/plain": [
       "                                       session_id           hit_page_path  \\\n",
       "count                                     1732266                 1732266   \n",
       "unique                                    1732266                  209101   \n",
       "top     1000009318903347362.1632663668.1632663668  podpiska.sberauto.com/   \n",
       "freq                                            1                  924950   \n",
       "mean                                          NaN                     NaN   \n",
       "std                                           NaN                     NaN   \n",
       "min                                           NaN                     NaN   \n",
       "25%                                           NaN                     NaN   \n",
       "50%                                           NaN                     NaN   \n",
       "75%                                           NaN                     NaN   \n",
       "max                                           NaN                     NaN   \n",
       "\n",
       "              target            utm_source utm_medium          utm_campaign  \\\n",
       "count   1.732266e+06               1732190    1732266               1536979   \n",
       "unique           NaN                   280         55                   406   \n",
       "top              NaN  ZpYIoDJMcFzVoPFsHGJL     banner  LTuZkdKfxRGVceoWkVyg   \n",
       "freq             NaN                552555     525206                422992   \n",
       "mean    5.936848e-02                   NaN        NaN                   NaN   \n",
       "std     5.999437e-01                   NaN        NaN                   NaN   \n",
       "min     0.000000e+00                   NaN        NaN                   NaN   \n",
       "25%     0.000000e+00                   NaN        NaN                   NaN   \n",
       "50%     0.000000e+00                   NaN        NaN                   NaN   \n",
       "75%     0.000000e+00                   NaN        NaN                   NaN   \n",
       "max     4.740000e+02                   NaN        NaN                   NaN   \n",
       "\n",
       "       device_category device_os device_brand          device_model  \\\n",
       "count          1732266    718302      1385070                 15062   \n",
       "unique               3        13          200                   104   \n",
       "top             mobile   Android        Apple  AuMdmADEIoPXiWpTsBEj   \n",
       "freq           1368679    425520       503533                  9018   \n",
       "mean               NaN       NaN          NaN                   NaN   \n",
       "std                NaN       NaN          NaN                   NaN   \n",
       "min                NaN       NaN          NaN                   NaN   \n",
       "25%                NaN       NaN          NaN                   NaN   \n",
       "50%                NaN       NaN          NaN                   NaN   \n",
       "75%                NaN       NaN          NaN                   NaN   \n",
       "max                NaN       NaN          NaN                   NaN   \n",
       "\n",
       "       device_browser geo_country geo_city  \n",
       "count         1732266     1732266  1732266  \n",
       "unique             55         159     2389  \n",
       "top            Chrome      Russia   Moscow  \n",
       "freq           951573     1682423   750928  \n",
       "mean              NaN         NaN      NaN  \n",
       "std               NaN         NaN      NaN  \n",
       "min               NaN         NaN      NaN  \n",
       "25%               NaN         NaN      NaN  \n",
       "50%               NaN         NaN      NaN  \n",
       "75%               NaN         NaN      NaN  \n",
       "max               NaN         NaN      NaN  "
      ]
     },
     "execution_count": 193,
     "metadata": {},
     "output_type": "execute_result"
    }
   ],
   "source": [
    "df_united.describe(include='all')"
   ]
  },
  {
   "cell_type": "markdown",
   "metadata": {
    "id": "3l9VRsEjY-E4"
   },
   "source": [
    "# 2.EDA\n",
    "Разведочный анализ данных (Exploratory Data Analysis)"
   ]
  },
  {
   "cell_type": "markdown",
   "metadata": {
    "id": "qgCBib7UknB3"
   },
   "source": [
    "## 2.1 Data cleaning"
   ]
  },
  {
   "cell_type": "code",
   "execution_count": 194,
   "metadata": {
    "id": "6QXZKWmAmV_E"
   },
   "outputs": [
    {
     "data": {
      "text/plain": [
       "(1732266, 13)"
      ]
     },
     "execution_count": 194,
     "metadata": {},
     "output_type": "execute_result"
    }
   ],
   "source": [
    "df_united_clean = df_united.copy()\n",
    "df_united_clean.shape"
   ]
  },
  {
   "cell_type": "code",
   "execution_count": 195,
   "metadata": {
    "id": "NwEjFlwSrAFz"
   },
   "outputs": [
    {
     "data": {
      "text/plain": [
       "False    1732266\n",
       "Name: count, dtype: int64"
      ]
     },
     "execution_count": 195,
     "metadata": {},
     "output_type": "execute_result"
    }
   ],
   "source": [
    "df_united_clean.duplicated().value_counts()"
   ]
  },
  {
   "cell_type": "markdown",
   "metadata": {
    "id": "srR7-XrpoL0T"
   },
   "source": [
    "#### Fullness of cells"
   ]
  },
  {
   "cell_type": "code",
   "execution_count": 196,
   "metadata": {
    "id": "MYtg0mUqnnN4"
   },
   "outputs": [],
   "source": [
    "def print_useful_rows_info(df):\n",
    "    print('Amount of useful rows:', len(df.dropna()))\n",
    "    print('Persentage of filled rows', round(len(df.dropna()) / len(df) * 100, 2))"
   ]
  },
  {
   "cell_type": "code",
   "execution_count": 197,
   "metadata": {
    "id": "y_JcZHE9n-3B"
   },
   "outputs": [
    {
     "name": "stdout",
     "output_type": "stream",
     "text": [
      "Amount of useful rows: 14194\n",
      "Persentage of filled rows 0.82\n"
     ]
    }
   ],
   "source": [
    "print_useful_rows_info(df_united_clean)"
   ]
  },
  {
   "cell_type": "code",
   "execution_count": 198,
   "metadata": {
    "id": "XyWyMCMYojHF"
   },
   "outputs": [],
   "source": [
    "def blank_rows_percentage(df):\n",
    "  print((df.isna().sum() / len(df) * 100).sort_values(ascending=False))"
   ]
  },
  {
   "cell_type": "code",
   "execution_count": 199,
   "metadata": {
    "id": "qZev87OGqirJ"
   },
   "outputs": [
    {
     "name": "stdout",
     "output_type": "stream",
     "text": [
      "device_model       99.130503\n",
      "device_os          58.533966\n",
      "device_brand       20.042880\n",
      "utm_campaign       11.273500\n",
      "utm_source          0.004387\n",
      "session_id          0.000000\n",
      "hit_page_path       0.000000\n",
      "target              0.000000\n",
      "utm_medium          0.000000\n",
      "device_category     0.000000\n",
      "device_browser      0.000000\n",
      "geo_country         0.000000\n",
      "geo_city            0.000000\n",
      "dtype: float64\n"
     ]
    }
   ],
   "source": [
    "blank_rows_percentage(df_united_clean)"
   ]
  },
  {
   "cell_type": "markdown",
   "metadata": {
    "id": "ShmIZGgAL_AP"
   },
   "source": [
    "удаляем все колонки где пропусков больше 20%:"
   ]
  },
  {
   "cell_type": "code",
   "execution_count": 200,
   "metadata": {
    "id": "YtnNKDiXL_AQ"
   },
   "outputs": [],
   "source": [
    "df_united_clean = df_united_clean.drop(columns=['device_model', 'device_os', 'device_brand', 'session_id'], axis=1)"
   ]
  },
  {
   "cell_type": "code",
   "execution_count": 201,
   "metadata": {
    "id": "eAuU5Q9eR3BU"
   },
   "outputs": [
    {
     "name": "stdout",
     "output_type": "stream",
     "text": [
      "Amount of useful rows: 1536903\n",
      "Persentage of filled rows 88.72\n"
     ]
    }
   ],
   "source": [
    "print_useful_rows_info(df_united_clean)"
   ]
  },
  {
   "cell_type": "code",
   "execution_count": 202,
   "metadata": {
    "id": "d1TuAKnftS2L"
   },
   "outputs": [
    {
     "data": {
      "text/plain": [
       "<Axes: >"
      ]
     },
     "execution_count": 202,
     "metadata": {},
     "output_type": "execute_result"
    },
    {
     "data": {
      "image/png": "[encoded data removed]",
      "text/plain": [
       "<Figure size 2500x1000 with 3 Axes>"
      ]
     },
     "metadata": {},
     "output_type": "display_data"
    }
   ],
   "source": [
    "# диаграмма заполненности\n",
    "msno.bar(df_united_clean)"
   ]
  },
  {
   "cell_type": "markdown",
   "metadata": {},
   "source": [
    "### Заполнение пропусков"
   ]
  },
  {
   "cell_type": "code",
   "execution_count": 203,
   "metadata": {},
   "outputs": [],
   "source": [
    "# df_united_clean.utm_campaign.describe()"
   ]
  },
  {
   "cell_type": "markdown",
   "metadata": {},
   "source": [
    "заполним как 'other'"
   ]
  },
  {
   "cell_type": "code",
   "execution_count": 204,
   "metadata": {},
   "outputs": [],
   "source": [
    "# df_united_clean.utm_campaign = df_united_clean.utm_campaign.fillna('other')"
   ]
  },
  {
   "cell_type": "code",
   "execution_count": 205,
   "metadata": {},
   "outputs": [
    {
     "data": {
      "text/plain": [
       "76"
      ]
     },
     "execution_count": 205,
     "metadata": {},
     "output_type": "execute_result"
    }
   ],
   "source": [
    "df_united_clean.utm_source.isna().sum()"
   ]
  },
  {
   "cell_type": "markdown",
   "metadata": {},
   "source": [
    "Удалим строки с 'nan'"
   ]
  },
  {
   "cell_type": "code",
   "execution_count": 206,
   "metadata": {},
   "outputs": [],
   "source": [
    "df_united_clean = df_united_clean[df_united_clean.utm_source.notna()]"
   ]
  },
  {
   "cell_type": "code",
   "execution_count": 207,
   "metadata": {},
   "outputs": [
    {
     "name": "stdout",
     "output_type": "stream",
     "text": [
      "Amount of useful rows: 1536903\n",
      "Persentage of filled rows 88.73\n"
     ]
    }
   ],
   "source": [
    "print_useful_rows_info(df_united_clean)"
   ]
  },
  {
   "cell_type": "markdown",
   "metadata": {},
   "source": [
    "Преобразование содержимого столбцов"
   ]
  },
  {
   "cell_type": "code",
   "execution_count": 208,
   "metadata": {},
   "outputs": [
    {
     "data": {
      "text/plain": [
       "hit_page_path\n",
       "False    1511479\n",
       "True      220711\n",
       "Name: count, dtype: int64"
      ]
     },
     "execution_count": 208,
     "metadata": {},
     "output_type": "execute_result"
    }
   ],
   "source": [
    "df_united_clean.hit_page_path.values[10]\n",
    "df_united_clean[df_united_clean.hit_page_path.str.contains('/cars/all/', regex=False)]\n",
    "df_united_clean.hit_page_path.str.contains('/cars/all/', regex=False).value_counts()"
   ]
  },
  {
   "cell_type": "code",
   "execution_count": 209,
   "metadata": {},
   "outputs": [],
   "source": [
    "df_united_clean['car_brand'] = df_united_clean.hit_page_path.apply(lambda x: x.split('/')[3] if '/cars/all/' in x else 'empty')\n",
    "df_united_clean['car_model'] = df_united_clean.hit_page_path.apply(lambda x: x.split('/')[4] if '/cars/all/' in x else 'empty')\n",
    "df_united_clean = df_united_clean.drop(columns=['hit_page_path'])"
   ]
  },
  {
   "cell_type": "code",
   "execution_count": 210,
   "metadata": {},
   "outputs": [],
   "source": [
    "# df_united_clean['visit_datetime'] = pd.to_datetime(df_united_clean.visit_date + ' ' + df_united_clean.visit_time)\n",
    "# df_united_clean = df_united_clean.drop(columns=['visit_date', 'visit_time'])"
   ]
  },
  {
   "cell_type": "code",
   "execution_count": 211,
   "metadata": {},
   "outputs": [],
   "source": [
    "# df_united_clean['device_screen_length'] = df_united_clean.device_screen_resolution.apply(lambda x: int(x.split('x')[0]))\n",
    "# df_united_clean['device_screen_width'] = df_united_clean.device_screen_resolution.apply(lambda x: int(x.split('x')[1]))\n",
    "# df_united_clean = df_united_clean.drop(columns=['device_screen_resolution'])"
   ]
  },
  {
   "cell_type": "code",
   "execution_count": 212,
   "metadata": {},
   "outputs": [],
   "source": [
    "df_united_clean['from_smm'] = df_united_clean.utm_source.apply(lambda x: 1 if x in ['QxAxdyPLuQMEcrdZWdWb', 'MvfHsxITijuriZxsqZqt', 'ISrKoXQCxqqYvAZICvjs',\n",
    "'IZEXUFLARCUMynmHNBGo', 'PlbkrSYoHuZBWfYjYnfw',\n",
    "'gVRrcxiDQubJiljoTbGm'] else 0)\n",
    "df_united_clean = df_united_clean.drop(columns=['utm_source'])"
   ]
  },
  {
   "cell_type": "code",
   "execution_count": 213,
   "metadata": {},
   "outputs": [],
   "source": [
    "df_united_clean['is_organic'] = df_united_clean.utm_medium.apply(lambda x: 1 if x in ['organic',\n",
    "'referral', '(none)'] else 0)\n",
    "df_united_clean = df_united_clean.drop(columns=['utm_medium'])"
   ]
  },
  {
   "cell_type": "markdown",
   "metadata": {},
   "source": [
    "Автоподписка работает только по РФ поэтому удаляем все остальные страны из датасета"
   ]
  },
  {
   "cell_type": "code",
   "execution_count": 214,
   "metadata": {},
   "outputs": [],
   "source": [
    "df_united_clean = df_united_clean[df_united_clean.geo_country == 'Russia']\n",
    "df_united_clean = df_united_clean.drop(columns = ['geo_country'], axis=1)"
   ]
  },
  {
   "cell_type": "code",
   "execution_count": 215,
   "metadata": {},
   "outputs": [],
   "source": [
    "df_united_clean = df_united_clean.rename(columns={'geo_city': 'city'})"
   ]
  },
  {
   "cell_type": "code",
   "execution_count": 216,
   "metadata": {},
   "outputs": [],
   "source": [
    "df_united_clean['target'] = df_united_clean.target.apply(lambda x: 1 if x > 0 else 0)"
   ]
  },
  {
   "cell_type": "code",
   "execution_count": 217,
   "metadata": {},
   "outputs": [],
   "source": [
    "df_united_clean.device_category = df_united_clean.device_category.astype('category')\n",
    "df_united_clean.device_browser = df_united_clean.device_browser.astype('category')\n",
    "df_united_clean.utm_campaign = df_united_clean.utm_campaign.astype('category')\n",
    "df_united_clean.city = df_united_clean.city.astype('category')\n",
    "df_united_clean.car_brand = df_united_clean.car_brand.astype('category')\n",
    "df_united_clean.car_model = df_united_clean.car_model.astype('category')"
   ]
  },
  {
   "cell_type": "markdown",
   "metadata": {},
   "source": [
    "### Определение типов переменных в датасете df_united\n",
    "\n",
    "|  Переменная               | Дискретная | Непрерывная | Качественная |\n",
    "|---------------------------|------------|-------------|--------------|\n",
    "| from_smm                  |            |             | X            |\n",
    "| is_organic                |            |             | X            |\n",
    "| device_category           |            |             | X            |\n",
    "| device_browser            |            |             | X            |\n",
    "| city                      |            |             | X            |\n",
    "| car_brand                 |            |             | X            |\n",
    "| car_model                 |            |             | X            |\n",
    "| target(целевая)           |            |             | X            |"
   ]
  },
  {
   "cell_type": "code",
   "execution_count": 218,
   "metadata": {},
   "outputs": [
    {
     "name": "stdout",
     "output_type": "stream",
     "text": [
      "<class 'pandas.core.frame.DataFrame'>\n",
      "Index: 1682347 entries, 0 to 1732265\n",
      "Data columns (total 9 columns):\n",
      " #   Column           Non-Null Count    Dtype   \n",
      "---  ------           --------------    -----   \n",
      " 0   target           1682347 non-null  int64   \n",
      " 1   utm_campaign     1491631 non-null  category\n",
      " 2   device_category  1682347 non-null  category\n",
      " 3   device_browser   1682347 non-null  category\n",
      " 4   city             1682347 non-null  category\n",
      " 5   car_brand        1682347 non-null  category\n",
      " 6   car_model        1682347 non-null  category\n",
      " 7   from_smm         1682347 non-null  int64   \n",
      " 8   is_organic       1682347 non-null  int64   \n",
      "dtypes: category(6), int64(3)\n",
      "memory usage: 64.2 MB\n"
     ]
    }
   ],
   "source": [
    "df_united_clean.info()"
   ]
  },
  {
   "cell_type": "markdown",
   "metadata": {},
   "source": [
    "Exploring"
   ]
  },
  {
   "cell_type": "code",
   "execution_count": 219,
   "metadata": {},
   "outputs": [
    {
     "data": {
      "text/plain": [
       "21"
      ]
     },
     "execution_count": 219,
     "metadata": {},
     "output_type": "execute_result"
    }
   ],
   "source": [
    "df_united_clean.car_brand.nunique()"
   ]
  },
  {
   "cell_type": "code",
   "execution_count": 220,
   "metadata": {},
   "outputs": [
    {
     "data": {
      "image/png": "[encoded data removed]",
      "text/plain": [
       "<Figure size 800x500 with 1 Axes>"
      ]
     },
     "metadata": {},
     "output_type": "display_data"
    }
   ],
   "source": [
    "plt.figure(figsize=(8, 5))\n",
    "plt.hist(df_united_clean.target, bins=15, color='indigo')\n",
    "plt.xlabel('Целевое событие')\n",
    "plt.ylabel('Частота')\n",
    "plt.title('распределение по совершению целевого действия');"
   ]
  },
  {
   "cell_type": "markdown",
   "metadata": {},
   "source": [
    "### Визуализация категориальных переменных"
   ]
  },
  {
   "cell_type": "code",
   "execution_count": null,
   "metadata": {},
   "outputs": [],
   "source": []
  },
  {
   "cell_type": "code",
   "execution_count": 221,
   "metadata": {},
   "outputs": [
    {
     "data": {
      "text/html": [
       "<div>\n",
       "<style scoped>\n",
       "    .dataframe tbody tr th:only-of-type {\n",
       "        vertical-align: middle;\n",
       "    }\n",
       "\n",
       "    .dataframe tbody tr th {\n",
       "        vertical-align: top;\n",
       "    }\n",
       "\n",
       "    .dataframe thead th {\n",
       "        text-align: right;\n",
       "    }\n",
       "</style>\n",
       "<table border=\"1\" class=\"dataframe\">\n",
       "  <thead>\n",
       "    <tr style=\"text-align: right;\">\n",
       "      <th></th>\n",
       "      <th>car_brand</th>\n",
       "      <th>amount</th>\n",
       "    </tr>\n",
       "  </thead>\n",
       "  <tbody>\n",
       "    <tr>\n",
       "      <th>0</th>\n",
       "      <td>audi</td>\n",
       "      <td>3327</td>\n",
       "    </tr>\n",
       "    <tr>\n",
       "      <th>1</th>\n",
       "      <td>bmw</td>\n",
       "      <td>10972</td>\n",
       "    </tr>\n",
       "    <tr>\n",
       "      <th>2</th>\n",
       "      <td>empty</td>\n",
       "      <td>0</td>\n",
       "    </tr>\n",
       "    <tr>\n",
       "      <th>3</th>\n",
       "      <td>haval</td>\n",
       "      <td>2788</td>\n",
       "    </tr>\n",
       "    <tr>\n",
       "      <th>4</th>\n",
       "      <td>honda</td>\n",
       "      <td>5</td>\n",
       "    </tr>\n",
       "    <tr>\n",
       "      <th>5</th>\n",
       "      <td>hyundai</td>\n",
       "      <td>1126</td>\n",
       "    </tr>\n",
       "    <tr>\n",
       "      <th>6</th>\n",
       "      <td>infiniti</td>\n",
       "      <td>4</td>\n",
       "    </tr>\n",
       "    <tr>\n",
       "      <th>7</th>\n",
       "      <td>kia</td>\n",
       "      <td>12797</td>\n",
       "    </tr>\n",
       "    <tr>\n",
       "      <th>8</th>\n",
       "      <td>lada-vaz</td>\n",
       "      <td>26563</td>\n",
       "    </tr>\n",
       "    <tr>\n",
       "      <th>9</th>\n",
       "      <td>land-rover</td>\n",
       "      <td>1370</td>\n",
       "    </tr>\n",
       "    <tr>\n",
       "      <th>10</th>\n",
       "      <td>lexus</td>\n",
       "      <td>5146</td>\n",
       "    </tr>\n",
       "    <tr>\n",
       "      <th>11</th>\n",
       "      <td>mercedes-benz</td>\n",
       "      <td>29922</td>\n",
       "    </tr>\n",
       "    <tr>\n",
       "      <th>12</th>\n",
       "      <td>mini</td>\n",
       "      <td>2106</td>\n",
       "    </tr>\n",
       "    <tr>\n",
       "      <th>13</th>\n",
       "      <td>nissan</td>\n",
       "      <td>15932</td>\n",
       "    </tr>\n",
       "    <tr>\n",
       "      <th>14</th>\n",
       "      <td>peugeot</td>\n",
       "      <td>1527</td>\n",
       "    </tr>\n",
       "    <tr>\n",
       "      <th>15</th>\n",
       "      <td>porsche</td>\n",
       "      <td>4700</td>\n",
       "    </tr>\n",
       "    <tr>\n",
       "      <th>16</th>\n",
       "      <td>renault</td>\n",
       "      <td>11785</td>\n",
       "    </tr>\n",
       "    <tr>\n",
       "      <th>17</th>\n",
       "      <td>skoda</td>\n",
       "      <td>47750</td>\n",
       "    </tr>\n",
       "    <tr>\n",
       "      <th>18</th>\n",
       "      <td>toyota</td>\n",
       "      <td>8088</td>\n",
       "    </tr>\n",
       "    <tr>\n",
       "      <th>19</th>\n",
       "      <td>volkswagen</td>\n",
       "      <td>23661</td>\n",
       "    </tr>\n",
       "    <tr>\n",
       "      <th>20</th>\n",
       "      <td>volvo</td>\n",
       "      <td>3089</td>\n",
       "    </tr>\n",
       "  </tbody>\n",
       "</table>\n",
       "</div>"
      ],
      "text/plain": [
       "        car_brand  amount\n",
       "0            audi    3327\n",
       "1             bmw   10972\n",
       "2           empty       0\n",
       "3           haval    2788\n",
       "4           honda       5\n",
       "5         hyundai    1126\n",
       "6        infiniti       4\n",
       "7             kia   12797\n",
       "8        lada-vaz   26563\n",
       "9      land-rover    1370\n",
       "10          lexus    5146\n",
       "11  mercedes-benz   29922\n",
       "12           mini    2106\n",
       "13         nissan   15932\n",
       "14        peugeot    1527\n",
       "15        porsche    4700\n",
       "16        renault   11785\n",
       "17          skoda   47750\n",
       "18         toyota    8088\n",
       "19     volkswagen   23661\n",
       "20          volvo    3089"
      ]
     },
     "execution_count": 221,
     "metadata": {},
     "output_type": "execute_result"
    }
   ],
   "source": [
    "df_car_brand_amount = df_united_clean[df_united_clean.car_brand != 'empty'].groupby(['car_brand'], as_index=False).target.count().rename(columns={'target': 'amount'})\n",
    "df_car_brand_amount"
   ]
  },
  {
   "cell_type": "code",
   "execution_count": 222,
   "metadata": {},
   "outputs": [
    {
     "data": {
      "image/png": "[encoded data removed]",
      "text/plain": [
       "<Figure size 2000x1000 with 1 Axes>"
      ]
     },
     "metadata": {},
     "output_type": "display_data"
    }
   ],
   "source": [
    "plt.figure(figsize=(20, 10))\n",
    "plt.bar(df_car_brand_amount.car_brand, df_car_brand_amount.amount, color=['springgreen', 'dodgerblue'], width=0.9)\n",
    "plt.xticks(rotation=45)\n",
    "plt.xlabel('Бренд')\n",
    "plt.ylabel('Количество')\n",
    "plt.title('Распределение брендов автомобилей');"
   ]
  },
  {
   "cell_type": "code",
   "execution_count": 223,
   "metadata": {},
   "outputs": [
    {
     "data": {
      "text/html": [
       "<div>\n",
       "<style scoped>\n",
       "    .dataframe tbody tr th:only-of-type {\n",
       "        vertical-align: middle;\n",
       "    }\n",
       "\n",
       "    .dataframe tbody tr th {\n",
       "        vertical-align: top;\n",
       "    }\n",
       "\n",
       "    .dataframe thead th {\n",
       "        text-align: right;\n",
       "    }\n",
       "</style>\n",
       "<table border=\"1\" class=\"dataframe\">\n",
       "  <thead>\n",
       "    <tr style=\"text-align: right;\">\n",
       "      <th></th>\n",
       "      <th>amount</th>\n",
       "    </tr>\n",
       "  </thead>\n",
       "  <tbody>\n",
       "    <tr>\n",
       "      <th>count</th>\n",
       "      <td>505.000000</td>\n",
       "    </tr>\n",
       "    <tr>\n",
       "      <th>mean</th>\n",
       "      <td>3201.172277</td>\n",
       "    </tr>\n",
       "    <tr>\n",
       "      <th>std</th>\n",
       "      <td>35724.043999</td>\n",
       "    </tr>\n",
       "    <tr>\n",
       "      <th>min</th>\n",
       "      <td>0.000000</td>\n",
       "    </tr>\n",
       "    <tr>\n",
       "      <th>25%</th>\n",
       "      <td>21.000000</td>\n",
       "    </tr>\n",
       "    <tr>\n",
       "      <th>50%</th>\n",
       "      <td>113.000000</td>\n",
       "    </tr>\n",
       "    <tr>\n",
       "      <th>75%</th>\n",
       "      <td>713.000000</td>\n",
       "    </tr>\n",
       "    <tr>\n",
       "      <th>max</th>\n",
       "      <td>750873.000000</td>\n",
       "    </tr>\n",
       "  </tbody>\n",
       "</table>\n",
       "</div>"
      ],
      "text/plain": [
       "              amount\n",
       "count     505.000000\n",
       "mean     3201.172277\n",
       "std     35724.043999\n",
       "min         0.000000\n",
       "25%        21.000000\n",
       "50%       113.000000\n",
       "75%       713.000000\n",
       "max    750873.000000"
      ]
     },
     "execution_count": 223,
     "metadata": {},
     "output_type": "execute_result"
    }
   ],
   "source": [
    "df_city_amount = df_united_clean[df_united_clean.city != '(not set)'].groupby(['city'], as_index=False).target.count().rename(columns={'target': 'amount'}).sort_values(by='amount', ascending=False)\n",
    "df_city_amount.describe()"
   ]
  },
  {
   "cell_type": "code",
   "execution_count": 224,
   "metadata": {},
   "outputs": [
    {
     "data": {
      "image/png": "[encoded data removed]",
      "text/plain": [
       "<Figure size 2000x1000 with 1 Axes>"
      ]
     },
     "metadata": {},
     "output_type": "display_data"
    }
   ],
   "source": [
    "\n",
    "plt.figure(figsize=(20, 10))\n",
    "plt.bar(df_city_amount.city.head(50), df_city_amount.amount.head(50), color=['springgreen', 'dodgerblue'], width=0.9)\n",
    "plt.xticks(rotation=90)\n",
    "plt.xlabel('Город')\n",
    "plt.ylabel('Количество')\n",
    "plt.title('Распределение городов откуда ищут авто');"
   ]
  },
  {
   "cell_type": "code",
   "execution_count": 225,
   "metadata": {},
   "outputs": [
    {
     "data": {
      "text/plain": [
       "['Chrome', 'Samsung Internet', 'Safari', 'YaBrowser', 'Edge', ..., 'com.zhiliaoapp.musically', 'Konqueror', 'Iron', 'Threads 202.0.0.23.119', '(not set)']\n",
       "Length: 30\n",
       "Categories (30, object): ['(not set)', 'Amazon Silk', 'Android Browser', 'Android Webview', ..., '[FBAN', 'com.vk.vkclient', 'com.zhiliaoapp.musically', 'helloworld']"
      ]
     },
     "execution_count": 225,
     "metadata": {},
     "output_type": "execute_result"
    }
   ],
   "source": [
    "df_united_clean.device_browser.unique()"
   ]
  },
  {
   "cell_type": "code",
   "execution_count": 226,
   "metadata": {},
   "outputs": [],
   "source": [
    "df_device_browser_amount = df_united_clean[df_united_clean.device_browser != '(not set)'].groupby(['device_browser'], as_index=False).target.count().rename(columns={'target': 'amount'}).sort_values(by='amount', ascending=False)\n"
   ]
  },
  {
   "cell_type": "code",
   "execution_count": 227,
   "metadata": {},
   "outputs": [
    {
     "data": {
      "image/png": "[encoded data removed]",
      "text/plain": [
       "<Figure size 2000x1000 with 1 Axes>"
      ]
     },
     "metadata": {},
     "output_type": "display_data"
    }
   ],
   "source": [
    "plt.figure(figsize=(20, 10))\n",
    "plt.bar(df_device_browser_amount.device_browser, df_device_browser_amount.amount, color=['springgreen', 'dodgerblue'], width=0.9)\n",
    "plt.xticks(rotation=45)\n",
    "plt.xlabel('Браузер')\n",
    "plt.ylabel('Количество')\n",
    "plt.title('Распределение браузеров откуда ищут авто');"
   ]
  },
  {
   "cell_type": "code",
   "execution_count": 228,
   "metadata": {},
   "outputs": [
    {
     "data": {
      "text/plain": [
       "['mobile', 'desktop', 'tablet']\n",
       "Categories (3, object): ['desktop', 'mobile', 'tablet']"
      ]
     },
     "execution_count": 228,
     "metadata": {},
     "output_type": "execute_result"
    }
   ],
   "source": [
    "\n",
    "df_united_clean.device_category.unique()"
   ]
  },
  {
   "cell_type": "code",
   "execution_count": 229,
   "metadata": {},
   "outputs": [
    {
     "data": {
      "text/html": [
       "<div>\n",
       "<style scoped>\n",
       "    .dataframe tbody tr th:only-of-type {\n",
       "        vertical-align: middle;\n",
       "    }\n",
       "\n",
       "    .dataframe tbody tr th {\n",
       "        vertical-align: top;\n",
       "    }\n",
       "\n",
       "    .dataframe thead th {\n",
       "        text-align: right;\n",
       "    }\n",
       "</style>\n",
       "<table border=\"1\" class=\"dataframe\">\n",
       "  <thead>\n",
       "    <tr style=\"text-align: right;\">\n",
       "      <th></th>\n",
       "      <th>device_category</th>\n",
       "      <th>amount</th>\n",
       "    </tr>\n",
       "  </thead>\n",
       "  <tbody>\n",
       "    <tr>\n",
       "      <th>0</th>\n",
       "      <td>desktop</td>\n",
       "      <td>332991</td>\n",
       "    </tr>\n",
       "    <tr>\n",
       "      <th>1</th>\n",
       "      <td>mobile</td>\n",
       "      <td>1333547</td>\n",
       "    </tr>\n",
       "    <tr>\n",
       "      <th>2</th>\n",
       "      <td>tablet</td>\n",
       "      <td>15809</td>\n",
       "    </tr>\n",
       "  </tbody>\n",
       "</table>\n",
       "</div>"
      ],
      "text/plain": [
       "  device_category   amount\n",
       "0         desktop   332991\n",
       "1          mobile  1333547\n",
       "2          tablet    15809"
      ]
     },
     "execution_count": 229,
     "metadata": {},
     "output_type": "execute_result"
    }
   ],
   "source": [
    "df_device_category_amount = df_united_clean.groupby(['device_category'], as_index=False).target.count() \\\n",
    "                .rename(columns={'target': 'amount'})\n",
    "df_device_category_amount"
   ]
  },
  {
   "cell_type": "code",
   "execution_count": 230,
   "metadata": {},
   "outputs": [
    {
     "data": {
      "image/png": "[encoded data removed]",
      "text/plain": [
       "<Figure size 1200x800 with 1 Axes>"
      ]
     },
     "metadata": {},
     "output_type": "display_data"
    }
   ],
   "source": [
    "plt.figure(figsize=(12, 8))\n",
    "plt.pie(df_device_category_amount.amount, labels=df_device_category_amount.device_category, labeldistance=None, autopct = '%1.0f%%')\n",
    "plt.title(\"Распределение типа устройства\")\n",
    "plt.legend()\n",
    "plt.show();"
   ]
  },
  {
   "cell_type": "code",
   "execution_count": 231,
   "metadata": {},
   "outputs": [],
   "source": [
    "# sns.heatmap(df_united_clean.pivot(index='device_category', columns='city', values='from_smm'))"
   ]
  },
  {
   "cell_type": "code",
   "execution_count": 232,
   "metadata": {},
   "outputs": [],
   "source": [
    "# df_united_clean.columns"
   ]
  },
  {
   "cell_type": "code",
   "execution_count": 233,
   "metadata": {},
   "outputs": [],
   "source": [
    "# df_united_clean.pivot(index='device_category', columns='city', values='target')\n",
    "# pd.pivot_table(df_united_clean,\n",
    "#                index=[\"device_category\"],\n",
    "#                values=[\"target\"],\n",
    "#                columns=[\"city\"],\n",
    "#                aggfunc=sum)"
   ]
  },
  {
   "cell_type": "code",
   "execution_count": 234,
   "metadata": {},
   "outputs": [
    {
     "data": {
      "text/html": [
       "<div>\n",
       "<style scoped>\n",
       "    .dataframe tbody tr th:only-of-type {\n",
       "        vertical-align: middle;\n",
       "    }\n",
       "\n",
       "    .dataframe tbody tr th {\n",
       "        vertical-align: top;\n",
       "    }\n",
       "\n",
       "    .dataframe thead th {\n",
       "        text-align: right;\n",
       "    }\n",
       "</style>\n",
       "<table border=\"1\" class=\"dataframe\">\n",
       "  <thead>\n",
       "    <tr style=\"text-align: right;\">\n",
       "      <th></th>\n",
       "      <th>target</th>\n",
       "      <th>utm_campaign</th>\n",
       "      <th>device_category</th>\n",
       "      <th>device_browser</th>\n",
       "      <th>city</th>\n",
       "      <th>car_brand</th>\n",
       "      <th>car_model</th>\n",
       "      <th>from_smm</th>\n",
       "      <th>is_organic</th>\n",
       "    </tr>\n",
       "  </thead>\n",
       "  <tbody>\n",
       "    <tr>\n",
       "      <th>0</th>\n",
       "      <td>0</td>\n",
       "      <td>FTjNLDyTrXaWYgZymFkV</td>\n",
       "      <td>mobile</td>\n",
       "      <td>Chrome</td>\n",
       "      <td>Gelendzhik</td>\n",
       "      <td>empty</td>\n",
       "      <td>empty</td>\n",
       "      <td>1</td>\n",
       "      <td>0</td>\n",
       "    </tr>\n",
       "    <tr>\n",
       "      <th>1</th>\n",
       "      <td>0</td>\n",
       "      <td>LTuZkdKfxRGVceoWkVyg</td>\n",
       "      <td>mobile</td>\n",
       "      <td>Samsung Internet</td>\n",
       "      <td>Voronezh</td>\n",
       "      <td>empty</td>\n",
       "      <td>empty</td>\n",
       "      <td>0</td>\n",
       "      <td>1</td>\n",
       "    </tr>\n",
       "    <tr>\n",
       "      <th>2</th>\n",
       "      <td>0</td>\n",
       "      <td>gecBYcKZCPMcVYdSSzKP</td>\n",
       "      <td>mobile</td>\n",
       "      <td>Chrome</td>\n",
       "      <td>Cherkessk</td>\n",
       "      <td>lada-vaz</td>\n",
       "      <td>vesta</td>\n",
       "      <td>0</td>\n",
       "      <td>0</td>\n",
       "    </tr>\n",
       "    <tr>\n",
       "      <th>3</th>\n",
       "      <td>0</td>\n",
       "      <td>LEoPHuyFvzoNfnzGgfcd</td>\n",
       "      <td>mobile</td>\n",
       "      <td>Chrome</td>\n",
       "      <td>Irkutsk</td>\n",
       "      <td>empty</td>\n",
       "      <td>empty</td>\n",
       "      <td>0</td>\n",
       "      <td>0</td>\n",
       "    </tr>\n",
       "    <tr>\n",
       "      <th>4</th>\n",
       "      <td>0</td>\n",
       "      <td>LTuZkdKfxRGVceoWkVyg</td>\n",
       "      <td>mobile</td>\n",
       "      <td>Safari</td>\n",
       "      <td>Moscow</td>\n",
       "      <td>empty</td>\n",
       "      <td>empty</td>\n",
       "      <td>0</td>\n",
       "      <td>1</td>\n",
       "    </tr>\n",
       "    <tr>\n",
       "      <th>...</th>\n",
       "      <td>...</td>\n",
       "      <td>...</td>\n",
       "      <td>...</td>\n",
       "      <td>...</td>\n",
       "      <td>...</td>\n",
       "      <td>...</td>\n",
       "      <td>...</td>\n",
       "      <td>...</td>\n",
       "      <td>...</td>\n",
       "    </tr>\n",
       "    <tr>\n",
       "      <th>1732261</th>\n",
       "      <td>0</td>\n",
       "      <td>FTjNLDyTrXaWYgZymFkV</td>\n",
       "      <td>mobile</td>\n",
       "      <td>Chrome</td>\n",
       "      <td>Moscow</td>\n",
       "      <td>empty</td>\n",
       "      <td>empty</td>\n",
       "      <td>1</td>\n",
       "      <td>0</td>\n",
       "    </tr>\n",
       "    <tr>\n",
       "      <th>1732262</th>\n",
       "      <td>0</td>\n",
       "      <td>LEoPHuyFvzoNfnzGgfcd</td>\n",
       "      <td>mobile</td>\n",
       "      <td>Safari</td>\n",
       "      <td>Saint Petersburg</td>\n",
       "      <td>empty</td>\n",
       "      <td>empty</td>\n",
       "      <td>0</td>\n",
       "      <td>0</td>\n",
       "    </tr>\n",
       "    <tr>\n",
       "      <th>1732263</th>\n",
       "      <td>0</td>\n",
       "      <td>LEoPHuyFvzoNfnzGgfcd</td>\n",
       "      <td>mobile</td>\n",
       "      <td>Chrome</td>\n",
       "      <td>Nizhny Novgorod</td>\n",
       "      <td>empty</td>\n",
       "      <td>empty</td>\n",
       "      <td>0</td>\n",
       "      <td>0</td>\n",
       "    </tr>\n",
       "    <tr>\n",
       "      <th>1732264</th>\n",
       "      <td>0</td>\n",
       "      <td>LEoPHuyFvzoNfnzGgfcd</td>\n",
       "      <td>mobile</td>\n",
       "      <td>Samsung Internet</td>\n",
       "      <td>Chelyabinsk</td>\n",
       "      <td>empty</td>\n",
       "      <td>empty</td>\n",
       "      <td>0</td>\n",
       "      <td>0</td>\n",
       "    </tr>\n",
       "    <tr>\n",
       "      <th>1732265</th>\n",
       "      <td>0</td>\n",
       "      <td>FTjNLDyTrXaWYgZymFkV</td>\n",
       "      <td>mobile</td>\n",
       "      <td>YaBrowser</td>\n",
       "      <td>Zheleznodorozhny</td>\n",
       "      <td>empty</td>\n",
       "      <td>empty</td>\n",
       "      <td>1</td>\n",
       "      <td>0</td>\n",
       "    </tr>\n",
       "  </tbody>\n",
       "</table>\n",
       "<p>1682347 rows × 9 columns</p>\n",
       "</div>"
      ],
      "text/plain": [
       "         target          utm_campaign device_category    device_browser  \\\n",
       "0             0  FTjNLDyTrXaWYgZymFkV          mobile            Chrome   \n",
       "1             0  LTuZkdKfxRGVceoWkVyg          mobile  Samsung Internet   \n",
       "2             0  gecBYcKZCPMcVYdSSzKP          mobile            Chrome   \n",
       "3             0  LEoPHuyFvzoNfnzGgfcd          mobile            Chrome   \n",
       "4             0  LTuZkdKfxRGVceoWkVyg          mobile            Safari   \n",
       "...         ...                   ...             ...               ...   \n",
       "1732261       0  FTjNLDyTrXaWYgZymFkV          mobile            Chrome   \n",
       "1732262       0  LEoPHuyFvzoNfnzGgfcd          mobile            Safari   \n",
       "1732263       0  LEoPHuyFvzoNfnzGgfcd          mobile            Chrome   \n",
       "1732264       0  LEoPHuyFvzoNfnzGgfcd          mobile  Samsung Internet   \n",
       "1732265       0  FTjNLDyTrXaWYgZymFkV          mobile         YaBrowser   \n",
       "\n",
       "                     city car_brand car_model  from_smm  is_organic  \n",
       "0              Gelendzhik     empty     empty         1           0  \n",
       "1                Voronezh     empty     empty         0           1  \n",
       "2               Cherkessk  lada-vaz     vesta         0           0  \n",
       "3                 Irkutsk     empty     empty         0           0  \n",
       "4                  Moscow     empty     empty         0           1  \n",
       "...                   ...       ...       ...       ...         ...  \n",
       "1732261            Moscow     empty     empty         1           0  \n",
       "1732262  Saint Petersburg     empty     empty         0           0  \n",
       "1732263   Nizhny Novgorod     empty     empty         0           0  \n",
       "1732264       Chelyabinsk     empty     empty         0           0  \n",
       "1732265  Zheleznodorozhny     empty     empty         1           0  \n",
       "\n",
       "[1682347 rows x 9 columns]"
      ]
     },
     "execution_count": 234,
     "metadata": {},
     "output_type": "execute_result"
    }
   ],
   "source": [
    "df_united_clean"
   ]
  },
  {
   "cell_type": "markdown",
   "metadata": {},
   "source": [
    "# 3.Modeling\n",
    "Моделированиеи проверка статистическиз гипотез"
   ]
  },
  {
   "cell_type": "markdown",
   "metadata": {},
   "source": [
    "### 1. Органический трафик не отличается от платного с точки зрения CR (Conversion Rate) в целевые события."
   ]
  },
  {
   "cell_type": "code",
   "execution_count": 235,
   "metadata": {},
   "outputs": [],
   "source": [
    "def calculate_cr(df):\n",
    "    return df.target.sum() / len(df)"
   ]
  },
  {
   "cell_type": "code",
   "execution_count": 236,
   "metadata": {},
   "outputs": [
    {
     "data": {
      "text/plain": [
       "0.029215732545069477"
      ]
     },
     "execution_count": 236,
     "metadata": {},
     "output_type": "execute_result"
    }
   ],
   "source": [
    "cr_general = calculate_cr(df_united_clean) \n",
    "cr_general"
   ]
  },
  {
   "cell_type": "code",
   "execution_count": 237,
   "metadata": {},
   "outputs": [
    {
     "data": {
      "text/plain": [
       "0.044897331693492325"
      ]
     },
     "execution_count": 237,
     "metadata": {},
     "output_type": "execute_result"
    }
   ],
   "source": [
    "cr_organic = calculate_cr(df_united_clean[df_united_clean.is_organic == 1])\n",
    "cr_organic"
   ]
  },
  {
   "cell_type": "code",
   "execution_count": 238,
   "metadata": {},
   "outputs": [
    {
     "data": {
      "text/plain": [
       "0.023509898072431566"
      ]
     },
     "execution_count": 238,
     "metadata": {},
     "output_type": "execute_result"
    }
   ],
   "source": [
    "cr_paid = calculate_cr(df_united_clean[df_united_clean.is_organic == 0])\n",
    "cr_paid"
   ]
  },
  {
   "cell_type": "code",
   "execution_count": 239,
   "metadata": {},
   "outputs": [
    {
     "name": "stderr",
     "output_type": "stream",
     "text": [
      "/var/folders/zz/zyxvpxvq6csfxvn_n003whnr00z45f/T/ipykernel_8918/2006229913.py:1: DeprecationWarning: 'binom_test' is deprecated in favour of 'binomtest' from version 1.7.0 and will be removed in Scipy 1.12.0.\n",
      "  stats.binom_test(x= df_united_clean[df_united_clean.is_organic == 1].target.sum(), \\\n"
     ]
    },
    {
     "data": {
      "text/plain": [
       "0.0"
      ]
     },
     "execution_count": 239,
     "metadata": {},
     "output_type": "execute_result"
    }
   ],
   "source": [
    "stats.binom_test(x= df_united_clean[df_united_clean.is_organic == 1].target.sum(), \\\n",
    "                n= len(df_united_clean[df_united_clean.is_organic == 1]), \\\n",
    "                p =cr_paid, alternative='greater')"
   ]
  },
  {
   "cell_type": "markdown",
   "metadata": {},
   "source": [
    "органический трафик отличается от платного и стистически значимо и его CR выше платного"
   ]
  },
  {
   "cell_type": "markdown",
   "metadata": {},
   "source": [
    "### 2. Трафик с мобильных устройств не отличается от трафика с десктопных устройств с точки зрения CR (Conversion Rate) в целевые события."
   ]
  },
  {
   "cell_type": "code",
   "execution_count": 240,
   "metadata": {},
   "outputs": [
    {
     "data": {
      "text/plain": [
       "0.028214978549687412"
      ]
     },
     "execution_count": 240,
     "metadata": {},
     "output_type": "execute_result"
    }
   ],
   "source": [
    "cr_mobile = calculate_cr(df_united_clean[df_united_clean.device_category == 'mobile'])\n",
    "cr_mobile"
   ]
  },
  {
   "cell_type": "code",
   "execution_count": 241,
   "metadata": {},
   "outputs": [
    {
     "data": {
      "text/plain": [
       "0.03338528668943005"
      ]
     },
     "execution_count": 241,
     "metadata": {},
     "output_type": "execute_result"
    }
   ],
   "source": [
    "cr_desktop = calculate_cr(df_united_clean[df_united_clean.device_category == 'desktop'])\n",
    "cr_desktop"
   ]
  },
  {
   "cell_type": "code",
   "execution_count": 242,
   "metadata": {},
   "outputs": [],
   "source": [
    "all_mobile = df_united_clean[df_united_clean.device_category == 'mobile'].target.sum()"
   ]
  },
  {
   "cell_type": "code",
   "execution_count": 243,
   "metadata": {},
   "outputs": [],
   "source": [
    "success_mobile = len(df_united_clean[df_united_clean.device_category == 'mobile'])"
   ]
  },
  {
   "cell_type": "code",
   "execution_count": 244,
   "metadata": {},
   "outputs": [
    {
     "name": "stderr",
     "output_type": "stream",
     "text": [
      "/var/folders/zz/zyxvpxvq6csfxvn_n003whnr00z45f/T/ipykernel_8918/2195941481.py:1: DeprecationWarning: 'binom_test' is deprecated in favour of 'binomtest' from version 1.7.0 and will be removed in Scipy 1.12.0.\n",
      "  stats.binom_test(x= all_mobile, \\\n"
     ]
    },
    {
     "data": {
      "text/plain": [
       "3.5924903571934638e-255"
      ]
     },
     "execution_count": 244,
     "metadata": {},
     "output_type": "execute_result"
    }
   ],
   "source": [
    "stats.binom_test(x= all_mobile, \\\n",
    "                n= success_mobile, \\\n",
    "                p =cr_desktop)"
   ]
  },
  {
   "cell_type": "markdown",
   "metadata": {},
   "source": [
    "Трафик с мобильных устройств статистически значимо отличается от трафика с десктопных устройств"
   ]
  },
  {
   "cell_type": "markdown",
   "metadata": {},
   "source": [
    "### 3. Трафик из городов присутствия (Москва и область, Санкт-Петербург) не отличается от трафика из иных регионов с точки зрения CR (Conversion Rate) в целевые события"
   ]
  },
  {
   "cell_type": "code",
   "execution_count": 245,
   "metadata": {},
   "outputs": [
    {
     "data": {
      "text/plain": [
       "505"
      ]
     },
     "execution_count": 245,
     "metadata": {},
     "output_type": "execute_result"
    }
   ],
   "source": [
    "df_united_clean.city.nunique()"
   ]
  },
  {
   "cell_type": "code",
   "execution_count": 246,
   "metadata": {},
   "outputs": [
    {
     "data": {
      "text/plain": [
       "['Gelendzhik', 'Voronezh', 'Cherkessk', 'Irkutsk', 'Moscow', ..., '13403', 'Bavly', 'Kresttsy', 'Beslan', 'Aleksandrovsk-Sakhalinskiy']\n",
       "Length: 505\n",
       "Categories (505, object): ['(not set)', '13403', '14076', '24130', ..., 'Zvenigorod', 'Тарасовка', 'Тимофеевка', 'Хомутово']"
      ]
     },
     "execution_count": 246,
     "metadata": {},
     "output_type": "execute_result"
    }
   ],
   "source": [
    "df_united_clean.city.unique()"
   ]
  },
  {
   "cell_type": "code",
   "execution_count": 247,
   "metadata": {},
   "outputs": [],
   "source": [
    "from geopy.geocoders import Nominatim\n",
    "geolocator = Nominatim(user_agent=\"tutorial\")\n",
    "# location = geolocator.geocode(\"175 5th Avenue NYC\")\n",
    "# print((geolocator.geocode(\"175 5th Avenue NYC\").latitude, geolocator.geocode(\"175 5th Avenue NYC\").longitude))"
   ]
  },
  {
   "cell_type": "code",
   "execution_count": 248,
   "metadata": {},
   "outputs": [],
   "source": [
    "df_united_clean['region'] = df_united_clean.city.apply(lambda x: geolocator.geocode(x + ', Russia'))"
   ]
  },
  {
   "cell_type": "code",
   "execution_count": 249,
   "metadata": {},
   "outputs": [],
   "source": [
    "df_united_clean = df_united_clean[df_united_clean.region.notna()]"
   ]
  },
  {
   "cell_type": "code",
   "execution_count": 250,
   "metadata": {
    "scrolled": true
   },
   "outputs": [
    {
     "name": "stderr",
     "output_type": "stream",
     "text": [
      "/var/folders/zz/zyxvpxvq6csfxvn_n003whnr00z45f/T/ipykernel_8918/896059053.py:1: SettingWithCopyWarning: \n",
      "A value is trying to be set on a copy of a slice from a DataFrame.\n",
      "Try using .loc[row_indexer,col_indexer] = value instead\n",
      "\n",
      "See the caveats in the documentation: https://pandas.pydata.org/pandas-docs/stable/user_guide/indexing.html#returning-a-view-versus-a-copy\n",
      "  df_united_clean['city_name'] = df_united_clean.region.apply(lambda x: x.address.split(', ')[0])\n"
     ]
    },
    {
     "data": {
      "text/plain": [
       "0                           Геленджик\n",
       "1             городской округ Воронеж\n",
       "2          Черкесский городской округ\n",
       "3                   Иркутская область\n",
       "4                              Москва\n",
       "                      ...            \n",
       "1732261                        Москва\n",
       "1732262               Санкт-Петербург\n",
       "1732263               Нижний Новгород\n",
       "1732264                     Челябинск\n",
       "1732265               Железнодорожный\n",
       "Name: city_name, Length: 1613909, dtype: object"
      ]
     },
     "execution_count": 250,
     "metadata": {},
     "output_type": "execute_result"
    }
   ],
   "source": [
    "df_united_clean['city_name'] = df_united_clean.region.apply(lambda x: x.address.split(', ')[0])\n",
    "df_united_clean.city_name"
   ]
  },
  {
   "cell_type": "code",
   "execution_count": 251,
   "metadata": {},
   "outputs": [
    {
     "name": "stderr",
     "output_type": "stream",
     "text": [
      "/var/folders/zz/zyxvpxvq6csfxvn_n003whnr00z45f/T/ipykernel_8918/164124031.py:1: SettingWithCopyWarning: \n",
      "A value is trying to be set on a copy of a slice from a DataFrame.\n",
      "Try using .loc[row_indexer,col_indexer] = value instead\n",
      "\n",
      "See the caveats in the documentation: https://pandas.pydata.org/pandas-docs/stable/user_guide/indexing.html#returning-a-view-versus-a-copy\n",
      "  df_united_clean['territory'] = df_united_clean.region.apply(lambda x: x.address.split(', ')[1])\n"
     ]
    },
    {
     "data": {
      "text/plain": [
       "0                  городской округ Геленджик\n",
       "1                        Воронежская область\n",
       "2                         Карачаево-Черкесия\n",
       "3                Сибирский федеральный округ\n",
       "4              Центральный федеральный округ\n",
       "                         ...                \n",
       "1732261        Центральный федеральный округ\n",
       "1732262    Северо-Западный федеральный округ\n",
       "1732263      городской округ Нижний Новгород\n",
       "1732264                      Советский район\n",
       "1732265      Правдинский муниципальный округ\n",
       "Name: territory, Length: 1613909, dtype: object"
      ]
     },
     "execution_count": 251,
     "metadata": {},
     "output_type": "execute_result"
    }
   ],
   "source": [
    "df_united_clean['territory'] = df_united_clean.region.apply(lambda x: x.address.split(', ')[1])\n",
    "df_united_clean.territory"
   ]
  },
  {
   "cell_type": "code",
   "execution_count": 252,
   "metadata": {},
   "outputs": [
    {
     "data": {
      "text/plain": [
       "target\n",
       "0    1004987\n",
       "1      30964\n",
       "Name: count, dtype: int64"
      ]
     },
     "execution_count": 252,
     "metadata": {},
     "output_type": "execute_result"
    }
   ],
   "source": [
    "df_united_clean[df_united_clean.city_name.isin(['Москва', 'Санкт-Петербург']) \\\n",
    "                | df_united_clean.territory.isin(['Московская область'])] \\\n",
    "                .target.value_counts()"
   ]
  },
  {
   "cell_type": "code",
   "execution_count": 253,
   "metadata": {},
   "outputs": [
    {
     "data": {
      "text/plain": [
       "target\n",
       "0    561209\n",
       "1     16749\n",
       "Name: count, dtype: int64"
      ]
     },
     "execution_count": 253,
     "metadata": {},
     "output_type": "execute_result"
    }
   ],
   "source": [
    "df_united_clean[~df_united_clean.city_name.isin(['Москва', 'Санкт-Петербург']) \\\n",
    "                & ~df_united_clean.territory.isin(['Московская область'])] \\\n",
    "                .target.value_counts()"
   ]
  },
  {
   "cell_type": "code",
   "execution_count": 254,
   "metadata": {},
   "outputs": [
    {
     "data": {
      "text/plain": [
       "30964"
      ]
     },
     "execution_count": 254,
     "metadata": {},
     "output_type": "execute_result"
    }
   ],
   "source": [
    "success_metropolitan = df_united_clean[df_united_clean.city_name.isin(['Москва', 'Санкт-Петербург']) \\\n",
    "                | df_united_clean.territory.isin(['Московская область'])].target.sum()\n",
    "success_metropolitan"
   ]
  },
  {
   "cell_type": "code",
   "execution_count": 255,
   "metadata": {},
   "outputs": [
    {
     "data": {
      "text/plain": [
       "1035951"
      ]
     },
     "execution_count": 255,
     "metadata": {},
     "output_type": "execute_result"
    }
   ],
   "source": [
    "all_metropolitan = len(df_united_clean[df_united_clean.city_name.isin(['Москва', 'Санкт-Петербург']) \\\n",
    "                | df_united_clean.territory.isin(['Московская область'])])\n",
    "all_metropolitan"
   ]
  },
  {
   "cell_type": "code",
   "execution_count": 256,
   "metadata": {},
   "outputs": [
    {
     "data": {
      "text/plain": [
       "0.028979614435651033"
      ]
     },
     "execution_count": 256,
     "metadata": {},
     "output_type": "execute_result"
    }
   ],
   "source": [
    "cr_province = calculate_cr(df_united_clean[~df_united_clean.city_name.isin(['Москва', 'Санкт-Петербург']) \\\n",
    "                & ~df_united_clean.territory.isin(['Московская область'])])\n",
    "cr_province"
   ]
  },
  {
   "cell_type": "code",
   "execution_count": 257,
   "metadata": {},
   "outputs": [
    {
     "name": "stderr",
     "output_type": "stream",
     "text": [
      "/var/folders/zz/zyxvpxvq6csfxvn_n003whnr00z45f/T/ipykernel_8918/2268514679.py:1: DeprecationWarning: 'binom_test' is deprecated in favour of 'binomtest' from version 1.7.0 and will be removed in Scipy 1.12.0.\n",
      "  stats.binom_test(x= success_metropolitan, \\\n"
     ]
    },
    {
     "data": {
      "text/plain": [
       "3.9317342183180944e-08"
      ]
     },
     "execution_count": 257,
     "metadata": {},
     "output_type": "execute_result"
    }
   ],
   "source": [
    "stats.binom_test(x= success_metropolitan, \\\n",
    "                n= all_metropolitan, \\\n",
    "                p =cr_province)"
   ]
  },
  {
   "cell_type": "markdown",
   "metadata": {},
   "source": [
    "Трафик из городов присутствия (Москва и область, Санкт-Петербург) статистически значимо отличается от трафика из иных регионов"
   ]
  },
  {
   "cell_type": "markdown",
   "metadata": {},
   "source": [
    "### 4. Из каких источников (кампаний, устройств, локаций) к нам идёт самый целевой трафик (и с точки зрения объёма трафика, и с точки зрения CR)?"
   ]
  },
  {
   "cell_type": "code",
   "execution_count": 258,
   "metadata": {},
   "outputs": [
    {
     "data": {
      "text/html": [
       "<div>\n",
       "<style scoped>\n",
       "    .dataframe tbody tr th:only-of-type {\n",
       "        vertical-align: middle;\n",
       "    }\n",
       "\n",
       "    .dataframe tbody tr th {\n",
       "        vertical-align: top;\n",
       "    }\n",
       "\n",
       "    .dataframe thead th {\n",
       "        text-align: right;\n",
       "    }\n",
       "</style>\n",
       "<table border=\"1\" class=\"dataframe\">\n",
       "  <thead>\n",
       "    <tr style=\"text-align: right;\">\n",
       "      <th></th>\n",
       "      <th>target</th>\n",
       "      <th>utm_campaign</th>\n",
       "      <th>device_category</th>\n",
       "      <th>device_browser</th>\n",
       "      <th>city</th>\n",
       "      <th>car_brand</th>\n",
       "      <th>car_model</th>\n",
       "      <th>from_smm</th>\n",
       "      <th>is_organic</th>\n",
       "      <th>region</th>\n",
       "      <th>city_name</th>\n",
       "      <th>territory</th>\n",
       "    </tr>\n",
       "  </thead>\n",
       "  <tbody>\n",
       "    <tr>\n",
       "      <th>0</th>\n",
       "      <td>0</td>\n",
       "      <td>FTjNLDyTrXaWYgZymFkV</td>\n",
       "      <td>mobile</td>\n",
       "      <td>Chrome</td>\n",
       "      <td>Gelendzhik</td>\n",
       "      <td>empty</td>\n",
       "      <td>empty</td>\n",
       "      <td>1</td>\n",
       "      <td>0</td>\n",
       "      <td>(Геленджик, городской округ Геленджик, Краснод...</td>\n",
       "      <td>Геленджик</td>\n",
       "      <td>городской округ Геленджик</td>\n",
       "    </tr>\n",
       "    <tr>\n",
       "      <th>1</th>\n",
       "      <td>0</td>\n",
       "      <td>LTuZkdKfxRGVceoWkVyg</td>\n",
       "      <td>mobile</td>\n",
       "      <td>Samsung Internet</td>\n",
       "      <td>Voronezh</td>\n",
       "      <td>empty</td>\n",
       "      <td>empty</td>\n",
       "      <td>0</td>\n",
       "      <td>1</td>\n",
       "      <td>(городской округ Воронеж, Воронежская область,...</td>\n",
       "      <td>городской округ Воронеж</td>\n",
       "      <td>Воронежская область</td>\n",
       "    </tr>\n",
       "    <tr>\n",
       "      <th>2</th>\n",
       "      <td>0</td>\n",
       "      <td>gecBYcKZCPMcVYdSSzKP</td>\n",
       "      <td>mobile</td>\n",
       "      <td>Chrome</td>\n",
       "      <td>Cherkessk</td>\n",
       "      <td>lada-vaz</td>\n",
       "      <td>vesta</td>\n",
       "      <td>0</td>\n",
       "      <td>0</td>\n",
       "      <td>(Черкесский городской округ, Карачаево-Черкеси...</td>\n",
       "      <td>Черкесский городской округ</td>\n",
       "      <td>Карачаево-Черкесия</td>\n",
       "    </tr>\n",
       "    <tr>\n",
       "      <th>3</th>\n",
       "      <td>0</td>\n",
       "      <td>LEoPHuyFvzoNfnzGgfcd</td>\n",
       "      <td>mobile</td>\n",
       "      <td>Chrome</td>\n",
       "      <td>Irkutsk</td>\n",
       "      <td>empty</td>\n",
       "      <td>empty</td>\n",
       "      <td>0</td>\n",
       "      <td>0</td>\n",
       "      <td>(Иркутская область, Сибирский федеральный окру...</td>\n",
       "      <td>Иркутская область</td>\n",
       "      <td>Сибирский федеральный округ</td>\n",
       "    </tr>\n",
       "    <tr>\n",
       "      <th>4</th>\n",
       "      <td>0</td>\n",
       "      <td>LTuZkdKfxRGVceoWkVyg</td>\n",
       "      <td>mobile</td>\n",
       "      <td>Safari</td>\n",
       "      <td>Moscow</td>\n",
       "      <td>empty</td>\n",
       "      <td>empty</td>\n",
       "      <td>0</td>\n",
       "      <td>1</td>\n",
       "      <td>(Москва, Центральный федеральный округ, Россия...</td>\n",
       "      <td>Москва</td>\n",
       "      <td>Центральный федеральный округ</td>\n",
       "    </tr>\n",
       "    <tr>\n",
       "      <th>...</th>\n",
       "      <td>...</td>\n",
       "      <td>...</td>\n",
       "      <td>...</td>\n",
       "      <td>...</td>\n",
       "      <td>...</td>\n",
       "      <td>...</td>\n",
       "      <td>...</td>\n",
       "      <td>...</td>\n",
       "      <td>...</td>\n",
       "      <td>...</td>\n",
       "      <td>...</td>\n",
       "      <td>...</td>\n",
       "    </tr>\n",
       "    <tr>\n",
       "      <th>1732261</th>\n",
       "      <td>0</td>\n",
       "      <td>FTjNLDyTrXaWYgZymFkV</td>\n",
       "      <td>mobile</td>\n",
       "      <td>Chrome</td>\n",
       "      <td>Moscow</td>\n",
       "      <td>empty</td>\n",
       "      <td>empty</td>\n",
       "      <td>1</td>\n",
       "      <td>0</td>\n",
       "      <td>(Москва, Центральный федеральный округ, Россия...</td>\n",
       "      <td>Москва</td>\n",
       "      <td>Центральный федеральный округ</td>\n",
       "    </tr>\n",
       "    <tr>\n",
       "      <th>1732262</th>\n",
       "      <td>0</td>\n",
       "      <td>LEoPHuyFvzoNfnzGgfcd</td>\n",
       "      <td>mobile</td>\n",
       "      <td>Safari</td>\n",
       "      <td>Saint Petersburg</td>\n",
       "      <td>empty</td>\n",
       "      <td>empty</td>\n",
       "      <td>0</td>\n",
       "      <td>0</td>\n",
       "      <td>(Санкт-Петербург, Северо-Западный федеральный ...</td>\n",
       "      <td>Санкт-Петербург</td>\n",
       "      <td>Северо-Западный федеральный округ</td>\n",
       "    </tr>\n",
       "    <tr>\n",
       "      <th>1732263</th>\n",
       "      <td>0</td>\n",
       "      <td>LEoPHuyFvzoNfnzGgfcd</td>\n",
       "      <td>mobile</td>\n",
       "      <td>Chrome</td>\n",
       "      <td>Nizhny Novgorod</td>\n",
       "      <td>empty</td>\n",
       "      <td>empty</td>\n",
       "      <td>0</td>\n",
       "      <td>0</td>\n",
       "      <td>(Нижний Новгород, городской округ Нижний Новго...</td>\n",
       "      <td>Нижний Новгород</td>\n",
       "      <td>городской округ Нижний Новгород</td>\n",
       "    </tr>\n",
       "    <tr>\n",
       "      <th>1732264</th>\n",
       "      <td>0</td>\n",
       "      <td>LEoPHuyFvzoNfnzGgfcd</td>\n",
       "      <td>mobile</td>\n",
       "      <td>Samsung Internet</td>\n",
       "      <td>Chelyabinsk</td>\n",
       "      <td>empty</td>\n",
       "      <td>empty</td>\n",
       "      <td>0</td>\n",
       "      <td>0</td>\n",
       "      <td>(Челябинск, Советский район, Челябинский город...</td>\n",
       "      <td>Челябинск</td>\n",
       "      <td>Советский район</td>\n",
       "    </tr>\n",
       "    <tr>\n",
       "      <th>1732265</th>\n",
       "      <td>0</td>\n",
       "      <td>FTjNLDyTrXaWYgZymFkV</td>\n",
       "      <td>mobile</td>\n",
       "      <td>YaBrowser</td>\n",
       "      <td>Zheleznodorozhny</td>\n",
       "      <td>empty</td>\n",
       "      <td>empty</td>\n",
       "      <td>1</td>\n",
       "      <td>0</td>\n",
       "      <td>(Железнодорожный, Правдинский муниципальный ок...</td>\n",
       "      <td>Железнодорожный</td>\n",
       "      <td>Правдинский муниципальный округ</td>\n",
       "    </tr>\n",
       "  </tbody>\n",
       "</table>\n",
       "<p>1613909 rows × 12 columns</p>\n",
       "</div>"
      ],
      "text/plain": [
       "         target          utm_campaign device_category    device_browser  \\\n",
       "0             0  FTjNLDyTrXaWYgZymFkV          mobile            Chrome   \n",
       "1             0  LTuZkdKfxRGVceoWkVyg          mobile  Samsung Internet   \n",
       "2             0  gecBYcKZCPMcVYdSSzKP          mobile            Chrome   \n",
       "3             0  LEoPHuyFvzoNfnzGgfcd          mobile            Chrome   \n",
       "4             0  LTuZkdKfxRGVceoWkVyg          mobile            Safari   \n",
       "...         ...                   ...             ...               ...   \n",
       "1732261       0  FTjNLDyTrXaWYgZymFkV          mobile            Chrome   \n",
       "1732262       0  LEoPHuyFvzoNfnzGgfcd          mobile            Safari   \n",
       "1732263       0  LEoPHuyFvzoNfnzGgfcd          mobile            Chrome   \n",
       "1732264       0  LEoPHuyFvzoNfnzGgfcd          mobile  Samsung Internet   \n",
       "1732265       0  FTjNLDyTrXaWYgZymFkV          mobile         YaBrowser   \n",
       "\n",
       "                     city car_brand car_model  from_smm  is_organic  \\\n",
       "0              Gelendzhik     empty     empty         1           0   \n",
       "1                Voronezh     empty     empty         0           1   \n",
       "2               Cherkessk  lada-vaz     vesta         0           0   \n",
       "3                 Irkutsk     empty     empty         0           0   \n",
       "4                  Moscow     empty     empty         0           1   \n",
       "...                   ...       ...       ...       ...         ...   \n",
       "1732261            Moscow     empty     empty         1           0   \n",
       "1732262  Saint Petersburg     empty     empty         0           0   \n",
       "1732263   Nizhny Novgorod     empty     empty         0           0   \n",
       "1732264       Chelyabinsk     empty     empty         0           0   \n",
       "1732265  Zheleznodorozhny     empty     empty         1           0   \n",
       "\n",
       "                                                    region  \\\n",
       "0        (Геленджик, городской округ Геленджик, Краснод...   \n",
       "1        (городской округ Воронеж, Воронежская область,...   \n",
       "2        (Черкесский городской округ, Карачаево-Черкеси...   \n",
       "3        (Иркутская область, Сибирский федеральный окру...   \n",
       "4        (Москва, Центральный федеральный округ, Россия...   \n",
       "...                                                    ...   \n",
       "1732261  (Москва, Центральный федеральный округ, Россия...   \n",
       "1732262  (Санкт-Петербург, Северо-Западный федеральный ...   \n",
       "1732263  (Нижний Новгород, городской округ Нижний Новго...   \n",
       "1732264  (Челябинск, Советский район, Челябинский город...   \n",
       "1732265  (Железнодорожный, Правдинский муниципальный ок...   \n",
       "\n",
       "                          city_name                          territory  \n",
       "0                         Геленджик          городской округ Геленджик  \n",
       "1           городской округ Воронеж                Воронежская область  \n",
       "2        Черкесский городской округ                 Карачаево-Черкесия  \n",
       "3                 Иркутская область        Сибирский федеральный округ  \n",
       "4                            Москва      Центральный федеральный округ  \n",
       "...                             ...                                ...  \n",
       "1732261                      Москва      Центральный федеральный округ  \n",
       "1732262             Санкт-Петербург  Северо-Западный федеральный округ  \n",
       "1732263             Нижний Новгород    городской округ Нижний Новгород  \n",
       "1732264                   Челябинск                    Советский район  \n",
       "1732265             Железнодорожный    Правдинский муниципальный округ  \n",
       "\n",
       "[1613909 rows x 12 columns]"
      ]
     },
     "execution_count": 258,
     "metadata": {},
     "output_type": "execute_result"
    }
   ],
   "source": [
    "df_united_clean"
   ]
  },
  {
   "cell_type": "code",
   "execution_count": 265,
   "metadata": {},
   "outputs": [
    {
     "data": {
      "text/html": [
       "<div>\n",
       "<style scoped>\n",
       "    .dataframe tbody tr th:only-of-type {\n",
       "        vertical-align: middle;\n",
       "    }\n",
       "\n",
       "    .dataframe tbody tr th {\n",
       "        vertical-align: top;\n",
       "    }\n",
       "\n",
       "    .dataframe thead th {\n",
       "        text-align: right;\n",
       "    }\n",
       "</style>\n",
       "<table border=\"1\" class=\"dataframe\">\n",
       "  <thead>\n",
       "    <tr style=\"text-align: right;\">\n",
       "      <th></th>\n",
       "      <th>device_category</th>\n",
       "      <th>success_amount</th>\n",
       "    </tr>\n",
       "  </thead>\n",
       "  <tbody>\n",
       "    <tr>\n",
       "      <th>1</th>\n",
       "      <td>mobile</td>\n",
       "      <td>36652</td>\n",
       "    </tr>\n",
       "    <tr>\n",
       "      <th>0</th>\n",
       "      <td>desktop</td>\n",
       "      <td>10674</td>\n",
       "    </tr>\n",
       "    <tr>\n",
       "      <th>2</th>\n",
       "      <td>tablet</td>\n",
       "      <td>387</td>\n",
       "    </tr>\n",
       "  </tbody>\n",
       "</table>\n",
       "</div>"
      ],
      "text/plain": [
       "  device_category  success_amount\n",
       "1          mobile           36652\n",
       "0         desktop           10674\n",
       "2          tablet             387"
      ]
     },
     "execution_count": 265,
     "metadata": {},
     "output_type": "execute_result"
    }
   ],
   "source": [
    "df_united_clean.groupby(['device_category'], as_index=False) \\\n",
    "                        .agg({'target': 'sum'}) \\\n",
    "                        .sort_values('target', ascending=False) \\\n",
    "                        .rename(columns={'target': 'success_amount'}).head(3)"
   ]
  },
  {
   "cell_type": "code",
   "execution_count": 266,
   "metadata": {},
   "outputs": [
    {
     "data": {
      "text/html": [
       "<div>\n",
       "<style scoped>\n",
       "    .dataframe tbody tr th:only-of-type {\n",
       "        vertical-align: middle;\n",
       "    }\n",
       "\n",
       "    .dataframe tbody tr th {\n",
       "        vertical-align: top;\n",
       "    }\n",
       "\n",
       "    .dataframe thead th {\n",
       "        text-align: right;\n",
       "    }\n",
       "</style>\n",
       "<table border=\"1\" class=\"dataframe\">\n",
       "  <thead>\n",
       "    <tr style=\"text-align: right;\">\n",
       "      <th></th>\n",
       "      <th>city_name</th>\n",
       "      <th>success_amount</th>\n",
       "    </tr>\n",
       "  </thead>\n",
       "  <tbody>\n",
       "    <tr>\n",
       "      <th>204</th>\n",
       "      <td>Москва</td>\n",
       "      <td>23625</td>\n",
       "    </tr>\n",
       "    <tr>\n",
       "      <th>294</th>\n",
       "      <td>Санкт-Петербург</td>\n",
       "      <td>7113</td>\n",
       "    </tr>\n",
       "    <tr>\n",
       "      <th>428</th>\n",
       "      <td>городской округ Казань</td>\n",
       "      <td>1139</td>\n",
       "    </tr>\n",
       "  </tbody>\n",
       "</table>\n",
       "</div>"
      ],
      "text/plain": [
       "                  city_name  success_amount\n",
       "204                  Москва           23625\n",
       "294         Санкт-Петербург            7113\n",
       "428  городской округ Казань            1139"
      ]
     },
     "execution_count": 266,
     "metadata": {},
     "output_type": "execute_result"
    }
   ],
   "source": [
    "df_united_clean.groupby(['city_name'], as_index=False) \\\n",
    "                        .agg({'target': 'sum'}) \\\n",
    "                        .sort_values('target', ascending=False) \\\n",
    "                        .rename(columns={'target': 'success_amount'}).head(3)"
   ]
  },
  {
   "cell_type": "code",
   "execution_count": 267,
   "metadata": {},
   "outputs": [
    {
     "data": {
      "text/html": [
       "<div>\n",
       "<style scoped>\n",
       "    .dataframe tbody tr th:only-of-type {\n",
       "        vertical-align: middle;\n",
       "    }\n",
       "\n",
       "    .dataframe tbody tr th {\n",
       "        vertical-align: top;\n",
       "    }\n",
       "\n",
       "    .dataframe thead th {\n",
       "        text-align: right;\n",
       "    }\n",
       "</style>\n",
       "<table border=\"1\" class=\"dataframe\">\n",
       "  <thead>\n",
       "    <tr style=\"text-align: right;\">\n",
       "      <th></th>\n",
       "      <th>utm_campaign</th>\n",
       "      <th>success_amount</th>\n",
       "    </tr>\n",
       "  </thead>\n",
       "  <tbody>\n",
       "    <tr>\n",
       "      <th>80</th>\n",
       "      <td>LTuZkdKfxRGVceoWkVyg</td>\n",
       "      <td>17806</td>\n",
       "    </tr>\n",
       "    <tr>\n",
       "      <th>77</th>\n",
       "      <td>LEoPHuyFvzoNfnzGgfcd</td>\n",
       "      <td>8938</td>\n",
       "    </tr>\n",
       "    <tr>\n",
       "      <th>238</th>\n",
       "      <td>gecBYcKZCPMcVYdSSzKP</td>\n",
       "      <td>4339</td>\n",
       "    </tr>\n",
       "  </tbody>\n",
       "</table>\n",
       "</div>"
      ],
      "text/plain": [
       "             utm_campaign  success_amount\n",
       "80   LTuZkdKfxRGVceoWkVyg           17806\n",
       "77   LEoPHuyFvzoNfnzGgfcd            8938\n",
       "238  gecBYcKZCPMcVYdSSzKP            4339"
      ]
     },
     "execution_count": 267,
     "metadata": {},
     "output_type": "execute_result"
    }
   ],
   "source": [
    "df_united_clean.groupby(['utm_campaign'], as_index=False) \\\n",
    "                        .agg({'target': 'sum'}) \\\n",
    "                        .sort_values('target', ascending=False) \\\n",
    "                        .rename(columns={'target': 'success_amount'}).head(3)"
   ]
  },
  {
   "cell_type": "markdown",
   "metadata": {},
   "source": [
    "С точки зрения объема больше всего трафика идет из:\n",
    "\n",
    "- устройство: \"мобильный телефон\"\n",
    "- город: \"Москва\"\n",
    "- рекламная компания: \"LTuZkdKfxRGVceoWkVyg\""
   ]
  },
  {
   "cell_type": "code",
   "execution_count": 268,
   "metadata": {},
   "outputs": [
    {
     "data": {
      "text/html": [
       "<div>\n",
       "<style scoped>\n",
       "    .dataframe tbody tr th:only-of-type {\n",
       "        vertical-align: middle;\n",
       "    }\n",
       "\n",
       "    .dataframe tbody tr th {\n",
       "        vertical-align: top;\n",
       "    }\n",
       "\n",
       "    .dataframe thead th {\n",
       "        text-align: right;\n",
       "    }\n",
       "</style>\n",
       "<table border=\"1\" class=\"dataframe\">\n",
       "  <thead>\n",
       "    <tr style=\"text-align: right;\">\n",
       "      <th></th>\n",
       "      <th>device_category</th>\n",
       "      <th>success_amount</th>\n",
       "    </tr>\n",
       "  </thead>\n",
       "  <tbody>\n",
       "    <tr>\n",
       "      <th>0</th>\n",
       "      <td>desktop</td>\n",
       "      <td>0.035050</td>\n",
       "    </tr>\n",
       "    <tr>\n",
       "      <th>1</th>\n",
       "      <td>mobile</td>\n",
       "      <td>0.028320</td>\n",
       "    </tr>\n",
       "    <tr>\n",
       "      <th>2</th>\n",
       "      <td>tablet</td>\n",
       "      <td>0.025555</td>\n",
       "    </tr>\n",
       "  </tbody>\n",
       "</table>\n",
       "</div>"
      ],
      "text/plain": [
       "  device_category  success_amount\n",
       "0         desktop        0.035050\n",
       "1          mobile        0.028320\n",
       "2          tablet        0.025555"
      ]
     },
     "execution_count": 268,
     "metadata": {},
     "output_type": "execute_result"
    }
   ],
   "source": [
    "df_united_clean.groupby(['device_category'], as_index=False) \\\n",
    "                        .agg({'target': 'mean'}) \\\n",
    "                        .sort_values('target', ascending=False) \\\n",
    "                        .rename(columns={'target': 'success_amount'}).head(3)"
   ]
  },
  {
   "cell_type": "code",
   "execution_count": 269,
   "metadata": {},
   "outputs": [
    {
     "data": {
      "text/html": [
       "<div>\n",
       "<style scoped>\n",
       "    .dataframe tbody tr th:only-of-type {\n",
       "        vertical-align: middle;\n",
       "    }\n",
       "\n",
       "    .dataframe tbody tr th {\n",
       "        vertical-align: top;\n",
       "    }\n",
       "\n",
       "    .dataframe thead th {\n",
       "        text-align: right;\n",
       "    }\n",
       "</style>\n",
       "<table border=\"1\" class=\"dataframe\">\n",
       "  <thead>\n",
       "    <tr style=\"text-align: right;\">\n",
       "      <th></th>\n",
       "      <th>city_name</th>\n",
       "      <th>success_amount</th>\n",
       "    </tr>\n",
       "  </thead>\n",
       "  <tbody>\n",
       "    <tr>\n",
       "      <th>397</th>\n",
       "      <td>Энем</td>\n",
       "      <td>0.222222</td>\n",
       "    </tr>\n",
       "    <tr>\n",
       "      <th>190</th>\n",
       "      <td>Маркс</td>\n",
       "      <td>0.200000</td>\n",
       "    </tr>\n",
       "    <tr>\n",
       "      <th>334</th>\n",
       "      <td>Тарко-Сале</td>\n",
       "      <td>0.166667</td>\n",
       "    </tr>\n",
       "  </tbody>\n",
       "</table>\n",
       "</div>"
      ],
      "text/plain": [
       "      city_name  success_amount\n",
       "397        Энем        0.222222\n",
       "190       Маркс        0.200000\n",
       "334  Тарко-Сале        0.166667"
      ]
     },
     "execution_count": 269,
     "metadata": {},
     "output_type": "execute_result"
    }
   ],
   "source": [
    "df_united_clean.groupby(['city_name'], as_index=False) \\\n",
    "                        .agg({'target': 'mean'}) \\\n",
    "                        .sort_values('target', ascending=False) \\\n",
    "                        .rename(columns={'target': 'success_amount'}).head(3)"
   ]
  },
  {
   "cell_type": "code",
   "execution_count": 270,
   "metadata": {
    "scrolled": true
   },
   "outputs": [
    {
     "data": {
      "text/html": [
       "<div>\n",
       "<style scoped>\n",
       "    .dataframe tbody tr th:only-of-type {\n",
       "        vertical-align: middle;\n",
       "    }\n",
       "\n",
       "    .dataframe tbody tr th {\n",
       "        vertical-align: top;\n",
       "    }\n",
       "\n",
       "    .dataframe thead th {\n",
       "        text-align: right;\n",
       "    }\n",
       "</style>\n",
       "<table border=\"1\" class=\"dataframe\">\n",
       "  <thead>\n",
       "    <tr style=\"text-align: right;\">\n",
       "      <th></th>\n",
       "      <th>utm_campaign</th>\n",
       "      <th>success_amount</th>\n",
       "    </tr>\n",
       "  </thead>\n",
       "  <tbody>\n",
       "    <tr>\n",
       "      <th>88</th>\n",
       "      <td>MHdHrBKQwbDaRalwnlJq</td>\n",
       "      <td>1.000</td>\n",
       "    </tr>\n",
       "    <tr>\n",
       "      <th>63</th>\n",
       "      <td>JkhCpeDGCtTwhwqWLywv</td>\n",
       "      <td>1.000</td>\n",
       "    </tr>\n",
       "    <tr>\n",
       "      <th>52</th>\n",
       "      <td>IRKNegNgOUQLwudzMElF</td>\n",
       "      <td>0.875</td>\n",
       "    </tr>\n",
       "  </tbody>\n",
       "</table>\n",
       "</div>"
      ],
      "text/plain": [
       "            utm_campaign  success_amount\n",
       "88  MHdHrBKQwbDaRalwnlJq           1.000\n",
       "63  JkhCpeDGCtTwhwqWLywv           1.000\n",
       "52  IRKNegNgOUQLwudzMElF           0.875"
      ]
     },
     "execution_count": 270,
     "metadata": {},
     "output_type": "execute_result"
    }
   ],
   "source": [
    "df_united_clean.groupby(['utm_campaign'], as_index=False) \\\n",
    "                        .agg({'target': 'mean'}) \\\n",
    "                        .sort_values('target', ascending=False) \\\n",
    "                        .rename(columns={'target': 'success_amount'}).head(3)"
   ]
  },
  {
   "cell_type": "markdown",
   "metadata": {},
   "source": [
    "С точки зрения CR больше всего трафика идет из:\n",
    "\n",
    "- устройство: \"персональный компьютер\"\n",
    "- город: \"Энем\"\n",
    "- рекламная компания: \"MHdHrBKQwbDaRalwnlJq\" и \"IRKNegNgOUQLwudzMElF\""
   ]
  },
  {
   "cell_type": "markdown",
   "metadata": {},
   "source": [
    "### 5. Какие авто пользуются наибольшим спросом? У каких авто самый лучший показатель CR (Conversion Rate) в целевые события?"
   ]
  },
  {
   "cell_type": "code",
   "execution_count": null,
   "metadata": {},
   "outputs": [],
   "source": []
  },
  {
   "cell_type": "code",
   "execution_count": null,
   "metadata": {},
   "outputs": [],
   "source": []
  },
  {
   "cell_type": "code",
   "execution_count": null,
   "metadata": {},
   "outputs": [],
   "source": []
  }
 ],
 "metadata": {
  "colab": {
   "provenance": []
  },
  "kernelspec": {
   "display_name": "Python 3 (ipykernel)",
   "language": "python",
   "name": "python3"
  },
  "language_info": {
   "codemirror_mode": {
    "name": "ipython",
    "version": 3
   },
   "file_extension": ".py",
   "mimetype": "text/x-python",
   "name": "python",
   "nbconvert_exporter": "python",
   "pygments_lexer": "ipython3",
   "version": "3.11.5"
  }
 },
 "nbformat": 4,
 "nbformat_minor": 4
}
